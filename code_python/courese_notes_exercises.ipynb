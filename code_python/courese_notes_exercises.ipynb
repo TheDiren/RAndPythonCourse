{
 "cells": [
  {
   "cell_type": "markdown",
   "id": "92b8a0fd-a458-4758-9df5-b3708e2fa9d0",
   "metadata": {},
   "source": [
    "# Exercises about data types"
   ]
  },
  {
   "cell_type": "code",
   "execution_count": null,
   "id": "4d8c2cd9-7b77-4449-b81b-9e2326cf66de",
   "metadata": {},
   "outputs": [],
   "source": [
    "# 1. Create following sequences: \n",
    "# 4, 8, 12, 16, 20, 24, 28\n",
    "\n",
    "sequence = list(range(4, 29, 4))\n",
    "print(sequence)"
   ]
  },
  {
   "cell_type": "code",
   "execution_count": null,
   "id": "3a266e1d-da4a-4b65-9cfb-249a4691fada",
   "metadata": {},
   "outputs": [],
   "source": [
    "# 1. Create following sequences: \n",
    "# 10, 8, 6, 4, 2, 0\n",
    "\n",
    "sequence = list(range(10, -1, -2))\n",
    "print(sequence)"
   ]
  },
  {
   "cell_type": "code",
   "execution_count": null,
   "id": "52250aed-6195-4d80-91ad-d7b5383bf46f",
   "metadata": {},
   "outputs": [],
   "source": [
    "# repeat \"chocolate\" 10 times in a vector\n",
    "\n",
    "words = [\"chocolate\"] * 10\n",
    "print(words)"
   ]
  },
  {
   "cell_type": "code",
   "execution_count": null,
   "id": "a01f1bb1-ea54-4ec6-a83e-11c9bc168857",
   "metadata": {},
   "outputs": [],
   "source": [
    "# 2. Starting with the following code, divide a by b and save it as variable c:\n",
    "\n",
    "a = \"5555555\"\n",
    "b = 3\n",
    "\n",
    "c = int(a) / b\n",
    "print(c)"
   ]
  },
  {
   "cell_type": "code",
   "execution_count": null,
   "id": "185dbe7a-d737-4949-aa2d-8ffc5059e9e7",
   "metadata": {},
   "outputs": [],
   "source": [
    "# 3. Starting with following code, create the string/ character vector \"group3trial1.csv\"\n",
    "\n",
    "group = 3\n",
    "trial = 1\n",
    "\n",
    "filename = \"group\" + str(group) + \"trial\" + str(trial) + \".csv\"\n",
    "print(filename)"
   ]
  },
  {
   "cell_type": "markdown",
   "id": "bcdcc03b-4a2c-46c4-ab10-5d178597d243",
   "metadata": {},
   "source": [
    "# Exercises about data frames"
   ]
  },
  {
   "cell_type": "markdown",
   "id": "b8939a7e-9edd-41f7-9aa6-018161aa4069",
   "metadata": {},
   "source": [
    "## How to load data that is not stored in the same directory as your script?"
   ]
  },
  {
   "cell_type": "code",
   "execution_count": null,
   "id": "c3cf6dcc-faca-4382-92e4-1b247d598f21",
   "metadata": {},
   "outputs": [],
   "source": [
    "### get your current working directory\n",
    "import os \n",
    "os.getcwd( )"
   ]
  },
  {
   "cell_type": "markdown",
   "id": "09314cb8-9a1c-4e65-8fe8-f41364e5872a",
   "metadata": {},
   "source": [
    "in [Github](https://github.com/TheDiren/RAndPythonCourse) the file *allForarexData.csv* is stored in directory *courseNotes*"
   ]
  },
  {
   "cell_type": "code",
   "execution_count": null,
   "id": "24db31de-c517-4a3b-bc71-7d35eff4faab",
   "metadata": {},
   "outputs": [],
   "source": [
    "### define the path to where you stored the downloaded course materials and add directory 'courseNotes'\n",
    "### depending on whether you work on a Mac, Unix or Windows system, the path looks different with either / or \\\n",
    "### \\ need to be escaped => \\\\\n",
    "datapath = 'C:\\\\Users\\\\kriemann\\\\python\\\\2025_informatica\\\\RAndPythonCourse\\\\courseNotes\\\\'\n",
    "print(datapath)"
   ]
  },
  {
   "cell_type": "code",
   "execution_count": null,
   "id": "62fe082c-47e2-4b8f-b744-52ee6a17dd30",
   "metadata": {},
   "outputs": [],
   "source": [
    "# 1. Read the data \"allForarexData.csv\"\n",
    "\n",
    "# import package\n",
    "import pandas as pd\n",
    "\n",
    "# open the data as dataframe \n",
    "df = pd.read_csv(datapath+'allForarexData.csv')\n",
    "\n",
    "# use head function to see the first 5 rows of the dataframe\n",
    "df.head()"
   ]
  },
  {
   "cell_type": "code",
   "execution_count": null,
   "id": "6c7d3ea9-694d-485a-99fb-2c2c715f85b0",
   "metadata": {},
   "outputs": [],
   "source": [
    "# 2. Convert Exp0_OxygenTemp and Exp1_OxygenTemp. Devide by 1000. Save the result in the same column.\n",
    "df['Exp0_OxygenTemp'] = df['Exp0_OxygenTemp']/1000.\n",
    "df['Exp1_OxygenTemp'] = df['Exp1_OxygenTemp']/1000.\n",
    "\n",
    "# use head function to see the first 5 rows of the dataframe\n",
    "df.head()"
   ]
  },
  {
   "cell_type": "code",
   "execution_count": null,
   "id": "30875d26-94b2-463d-bad9-da1ef030ebfb",
   "metadata": {},
   "outputs": [],
   "source": [
    "# 3. What are the means of Exp0_OxygenTemp and Exp1_OxygenTemp?\n",
    "print(df['Exp0_OxygenTemp'].mean())\n",
    "print(df['Exp1_OxygenTemp'].mean())"
   ]
  },
  {
   "cell_type": "code",
   "execution_count": null,
   "id": "235674cb-1367-4415-8689-de6756688cdc",
   "metadata": {},
   "outputs": [],
   "source": [
    "# 4. Save the timestamp in the correct format. The time was measured in seconds. (origin=\"1970-01-01\")\n",
    "df['timeStamp'] = pd.to_datetime(df['timeStamp'], unit='s', origin=pd.Timestamp('1970-01-01'))\n",
    "df.head()"
   ]
  },
  {
   "cell_type": "code",
   "execution_count": null,
   "id": "3d5c28fb-db69-4183-aedc-c852dd450aa6",
   "metadata": {},
   "outputs": [],
   "source": [
    "# 5. When was the first measurement? When was the last measurement?\n",
    "\n",
    "# if you are unsure whether the data are chronologically sorted\n",
    "df = df.sort_values(by=['timeStamp'], ascending=True)\n",
    "\n",
    "df.head(1)"
   ]
  },
  {
   "cell_type": "code",
   "execution_count": null,
   "id": "67632978-6d6f-4aa4-8a98-7dd08ac8c44a",
   "metadata": {},
   "outputs": [],
   "source": [
    "df.tail(1)"
   ]
  },
  {
   "cell_type": "code",
   "execution_count": null,
   "id": "35625929-7531-4ce6-833e-abb238aa492b",
   "metadata": {},
   "outputs": [],
   "source": [
    "# 6. Create a subset containing only data measured after 2019-03-09 09:25:52.\n",
    "\n",
    "df_subtime = df[df['timeStamp']>'2019-03-09 09:25:52']\n",
    "df_subtime.head()"
   ]
  },
  {
   "cell_type": "code",
   "execution_count": null,
   "id": "d20b88c2-383a-4ae4-a84f-638b97f5b1e8",
   "metadata": {},
   "outputs": [],
   "source": [
    "# 7. Difficult: Exclude columns, where all measurements are the same. \n",
    "# hint: there is a function called nunique\n",
    "\n",
    "constant_columns = [col for col in df.columns if df[col].nunique() == 1]\n",
    "\n",
    "print(\"Constant columns:\", constant_columns)"
   ]
  },
  {
   "cell_type": "code",
   "execution_count": null,
   "id": "cdd478a8-2ee6-4c31-b722-b37c8f0593fb",
   "metadata": {},
   "outputs": [],
   "source": [
    "df_sub = df.drop(constant_columns, axis=1)\n",
    "\n",
    "df_sub.head()"
   ]
  },
  {
   "cell_type": "markdown",
   "id": "60fddd65-24f0-4c47-9711-e20ab34828da",
   "metadata": {},
   "source": [
    "# Exercises about both data frames and data types"
   ]
  },
  {
   "cell_type": "code",
   "execution_count": null,
   "id": "371d5071-4d2f-4e9e-8ae4-c965b85b563a",
   "metadata": {},
   "outputs": [],
   "source": [
    "# Use beedata.csv\n",
    "\n",
    "# open the data as dataframe \n",
    "df = pd.read_csv(datapath+'beedata.csv')\n",
    "\n",
    "# use head function to see the first 5 rows of the dataframe\n",
    "df.head()"
   ]
  },
  {
   "cell_type": "code",
   "execution_count": null,
   "id": "e4d119ab-7682-49a1-b0e1-f84f8a336baa",
   "metadata": {},
   "outputs": [],
   "source": [
    "# 1. Select the lines of the bee data set where the hive number is 13 or 14.\n",
    "filtered_df = df[(df['hive'] == 13) | (df['hive'] == 14)]\n",
    "filtered_df.head()"
   ]
  },
  {
   "cell_type": "code",
   "execution_count": null,
   "id": "a4786507-54e0-4850-8b37-31cd81f4bfb0",
   "metadata": {},
   "outputs": [],
   "source": [
    "# 2. What are the classes of the beedata's columns hive and t_i_1?\n",
    "\n",
    "# 3. Difficult: How can you print the classes of all columns?\n",
    "\n",
    "# This is not at all difficult in python:\n",
    "df.info()"
   ]
  },
  {
   "cell_type": "markdown",
   "id": "ca8f3351-0b53-4ee0-bf26-10b13bc3583b",
   "metadata": {},
   "source": [
    "# Exercises - Conditions, For and While"
   ]
  },
  {
   "cell_type": "code",
   "execution_count": null,
   "id": "18cec9cd-40c7-497d-8710-7753b8722ebd",
   "metadata": {},
   "outputs": [],
   "source": [
    "# 1. Imagine somebody tells you the age of two of her friends,\n",
    "# Ali and Bea. If Ali is older than Bea, print \n",
    "# \"Ali is older than Bea.\". If Bea is older than Ali,\n",
    "# print \"Bea is older than Ali.\".\n",
    "\n",
    "Ali = 5555/111\n",
    "Bea = 10*5\n",
    "\n",
    "if Ali > Bea:\n",
    "    print(\"Ali is older than Bea.\")\n",
    "else:\n",
    "    print(\"Bea is older than Ali.\")"
   ]
  },
  {
   "cell_type": "code",
   "execution_count": null,
   "id": "94da7ed8-1be5-48ea-ad03-ca3755a34812",
   "metadata": {},
   "outputs": [],
   "source": [
    "# 2. The price of a small bar of chocolate is 1 Euro. \n",
    "# For a medium bar of chocolate you have to pay 3 Euros \n",
    "# and for a large bar you have to pay 5 Euros.\n",
    "# Somebody tells you how much money she has. \n",
    "# Tell her, how much chocolate she can buy \n",
    "# (Eg. print \"You can buy a small bar of chocolate.\")\n",
    "# She does not want to buy more than one bar of chocolate, \n",
    "# but the largest possible.\n",
    "\n",
    "money = 14/3\n",
    "\n",
    "if money >= 5:\n",
    "    print(\"You can buy a large bar of chocolate.\")\n",
    "elif money >= 3:\n",
    "    print(\"You can buy a medium bar of chocolate.\")\n",
    "elif money >= 1:\n",
    "    print(\"You can buy a small bar of chocolate.\")\n",
    "else:\n",
    "    print(\"Sorry, you can't buy any chocolate.\")"
   ]
  },
  {
   "cell_type": "code",
   "execution_count": null,
   "id": "9faf9195-5b67-4c3e-9ac3-962a50ccb49e",
   "metadata": {},
   "outputs": [],
   "source": [
    "# 1. Loop from 1 to 15 and print the square-root of \n",
    "# each number\n",
    "\n",
    "# you need the package numpy to compute square-roots\n",
    "import numpy as np\n",
    "\n",
    "for i in range(1,16):\n",
    "    print(np.sqrt(i))"
   ]
  },
  {
   "cell_type": "code",
   "execution_count": null,
   "id": "ce31afb8-47ac-464c-99cd-519525324aa8",
   "metadata": {},
   "outputs": [],
   "source": [
    "# 2. The function \"np.random.binomial(n=1, p=0.9, size=1)\" models a very unfair\n",
    "# coin, which shows the head (1) with a probability \n",
    "# of 90 %. Flip this coin until you get tail (0). \n",
    "# Count how many times you flipped the coin.\n",
    "\n",
    "coin = 1\n",
    "index = 0\n",
    "\n",
    "while coin!=0:\n",
    "    coin = np.random.binomial(n=1, p=0.9, size=1)\n",
    "    index = index +1\n",
    "\n",
    "print(index)\n"
   ]
  },
  {
   "cell_type": "code",
   "execution_count": null,
   "id": "b2c406c8-3e2f-4826-900e-f147049e6614",
   "metadata": {},
   "outputs": [],
   "source": [
    "# 3. Repeat each character of the string \"Summer\" 3 times.\n",
    "# Combine all characters to a new string. \n",
    "\n",
    "s = \"summer\"\n",
    "s1 = \"\"\n",
    "\n",
    "for i in range(len(s)):\n",
    "    for j in range(3):\n",
    "        s1 += s[i]\n",
    "\n",
    "print(s1)"
   ]
  },
  {
   "cell_type": "code",
   "execution_count": null,
   "id": "bde72611-fa20-4bf9-98c5-680e9848e3f2",
   "metadata": {},
   "outputs": [],
   "source": [
    "# 4. Difficult: Read in all files in the directory \n",
    "# \"forarexData\" and combine them to a single data frame.\n",
    "\n",
    "# hint:  Useful functions: os.listdir, os.path.join(), pd.concat\n",
    "\n",
    "# import os\n",
    "# import pandas as pd\n",
    "\n",
    "### first set the datapath correctly\n",
    "print(datapath)"
   ]
  },
  {
   "cell_type": "markdown",
   "id": "e90f3f25-764a-4b06-ac68-4dfaaaa4f4f1",
   "metadata": {},
   "source": [
    "in [Github](https://github.com/TheDiren/RAndPythonCourse) the directory *forarexData/* is stored in directory *data*"
   ]
  },
  {
   "cell_type": "code",
   "execution_count": null,
   "id": "f97c40a2-dc73-40dc-a976-05db92bc9317",
   "metadata": {},
   "outputs": [],
   "source": [
    "### adapt your datapath\n",
    "datapath2 = 'C:\\\\Users\\\\kriemann\\\\python\\\\2025_informatica\\\\RAndPythonCourse\\\\data\\\\'\n",
    "print(datapath2)"
   ]
  },
  {
   "cell_type": "code",
   "execution_count": null,
   "id": "625b05ac-6ff2-471a-b0a9-e57c8153289c",
   "metadata": {},
   "outputs": [],
   "source": [
    "dir = \"forarexData\\\\\"\n",
    "files = os.listdir(datapath2+dir)\n",
    "files = [os.path.join(datapath2+dir, f) for f in files]\n",
    "\n",
    "df = pd.DataFrame()\n",
    "for file in files:\n",
    "    tmp = pd.read_csv(file)\n",
    "    df = pd.concat([df, tmp], ignore_index=True)"
   ]
  },
  {
   "cell_type": "code",
   "execution_count": null,
   "id": "00be3b0f-79b9-4936-9bc7-a8b2d8174f86",
   "metadata": {},
   "outputs": [],
   "source": [
    "df.head()"
   ]
  },
  {
   "cell_type": "code",
   "execution_count": null,
   "id": "3d3dc0f7-8cb3-489b-a9e2-e5957a388214",
   "metadata": {},
   "outputs": [],
   "source": [
    "df.tail()"
   ]
  },
  {
   "cell_type": "code",
   "execution_count": null,
   "id": "a839e9ac-bd5e-41d8-b6c3-4b122bac0ad5",
   "metadata": {},
   "outputs": [],
   "source": [
    "df.columns"
   ]
  },
  {
   "cell_type": "code",
   "execution_count": null,
   "id": "b5c1fe36-2b1c-442a-8a1f-c0d410d98bc6",
   "metadata": {},
   "outputs": [],
   "source": [
    "df.columns[0:50]"
   ]
  },
  {
   "cell_type": "code",
   "execution_count": null,
   "id": "3c930229-277c-474a-ba2e-b4065499c4f6",
   "metadata": {},
   "outputs": [],
   "source": [
    "df.columns[50:108]"
   ]
  },
  {
   "cell_type": "code",
   "execution_count": null,
   "id": "67fe0bcc-9f36-49c8-92af-6955f0972ac2",
   "metadata": {},
   "outputs": [],
   "source": [
    "### alter the display options in this script only to see the complete dataframe\n",
    "pd.set_option('display.max_columns', None)\n",
    "pd.set_option('display.max_rows', None)"
   ]
  },
  {
   "cell_type": "code",
   "execution_count": null,
   "id": "fc792ecf-6e8d-498e-b59b-7b162f271c56",
   "metadata": {
    "scrolled": true
   },
   "outputs": [],
   "source": [
    "df"
   ]
  },
  {
   "cell_type": "markdown",
   "id": "fd8dba35-54ca-414c-a06c-b7cab42db019",
   "metadata": {},
   "source": [
    "# Exercises: Functions"
   ]
  },
  {
   "cell_type": "code",
   "execution_count": null,
   "id": "76037b88-3ca5-4b8f-bc7c-1bd4185d3037",
   "metadata": {},
   "outputs": [],
   "source": [
    "# 1. In one of the previous tasks you wrote some code to\n",
    "# Repeat each character of the string \"Summer\" 3 times.\n",
    "# Convert it into a function. It should take two parameters:\n",
    "# - a string, e.g. “summer”.\n",
    "# - A number, e.g. 3 to specify how often each letter \n",
    "#   should be repeated.\n",
    "# Use “summer” and 3 as default values.\n",
    "# hint: in case you did not find the solution. This is the solution:\n",
    "\n",
    "# Watch out this is a solution for another task!\n",
    "\n",
    "s = \"summer\"\n",
    "s1 = \"\"\n",
    "\n",
    "for i in range(len(s)):\n",
    "    for j in range(3):\n",
    "        s1 += s[i]\n",
    "\n",
    "print(s1)\n",
    "\n",
    "\n",
    "def funny_words(word=\"summer\", repeat_times=3):\n",
    "    s1 = \"\"\n",
    "    for i in range(len(word)):\n",
    "        for j in range(repeat_times):\n",
    "            s1 += word[i]\n",
    "    return s1"
   ]
  },
  {
   "cell_type": "code",
   "execution_count": null,
   "id": "bfffe2ab-de55-481c-892b-b42aff50c22b",
   "metadata": {},
   "outputs": [],
   "source": [
    "# call function\n",
    "funny_words()"
   ]
  },
  {
   "cell_type": "code",
   "execution_count": null,
   "id": "a2b1a555-59b5-4266-86a1-e9908ae0fe3d",
   "metadata": {},
   "outputs": [],
   "source": [
    "# call function\n",
    "funny_words('winter',6)"
   ]
  },
  {
   "cell_type": "code",
   "execution_count": null,
   "id": "9ac08455-36bf-4240-b516-33e79b3109e3",
   "metadata": {},
   "outputs": [],
   "source": [
    "# 2. We look at the data from the beehives again. \n",
    "# Given a beehive, how many observations do we have\n",
    "# for that beehive? How many observations are missing\n",
    "# in the column “weight_kg”? Write a function for this\n",
    "# problem. Return both values in a named list.\n",
    "# Use the dataframe and the hive number as input parameters.\n",
    "\n",
    "# import pandas as pd\n",
    "\n",
    "df = pd.read_csv(datapath+\"beedata.csv\")\n",
    "\n",
    "def beehive_info(df, hive):\n",
    "    sub = df[df['hive'] == hive]\n",
    "    n = len(sub)\n",
    "    missing = sub['weight_kg'].isna().sum()\n",
    "    return {'n': n, 'missing': missing}"
   ]
  },
  {
   "cell_type": "code",
   "execution_count": null,
   "id": "186044b0-893c-451c-9b23-de5dce92f744",
   "metadata": {},
   "outputs": [],
   "source": [
    "# call function\n",
    "beehive_info(df, 4)"
   ]
  },
  {
   "cell_type": "code",
   "execution_count": null,
   "id": "1fe7b7bb-ba03-4006-ac28-e02f966b262c",
   "metadata": {},
   "outputs": [],
   "source": [
    "# call function\n",
    "beehive_info(df, 13)"
   ]
  },
  {
   "cell_type": "code",
   "execution_count": null,
   "id": "138af8c2-8397-4f95-8658-d2880ec35345",
   "metadata": {},
   "outputs": [],
   "source": [
    "# 3. In a previous exercise, you wrote some code to read\n",
    "# in all files within a directory. \n",
    "# Convert the code to a function.\n",
    "\n",
    "# import os\n",
    "# import pandas as pd\n",
    "\n",
    "def combine(dir=datapath2+\"forarexData/\", final_name=\"forarexCombined.csv\"):\n",
    "    # list all files in directory\n",
    "    files = os.listdir(dir)\n",
    "    files = [os.path.join(dir, f) for f in files]\n",
    "    \n",
    "    # crreate new and empty dataframe\n",
    "    df = pd.DataFrame()\n",
    "    for file in files:\n",
    "        tmp = pd.read_csv(file)\n",
    "        df = pd.concat([df, tmp], ignore_index=True)\n",
    "    \n",
    "    df.to_csv(final_name, index=False)"
   ]
  },
  {
   "cell_type": "code",
   "execution_count": null,
   "id": "d1bfe705-d74c-4531-a9a3-c5f47f564f1c",
   "metadata": {},
   "outputs": [],
   "source": [
    "# call function\n",
    "combine()"
   ]
  },
  {
   "cell_type": "markdown",
   "id": "31002829-b279-4935-8890-59a1c7f615aa",
   "metadata": {},
   "source": [
    "# Plotting"
   ]
  },
  {
   "cell_type": "code",
   "execution_count": null,
   "id": "70361806-3f78-40a7-8831-74971eec0716",
   "metadata": {},
   "outputs": [],
   "source": [
    "### convert time from ns to datetime format"
   ]
  },
  {
   "cell_type": "code",
   "execution_count": null,
   "id": "bfda989e-0ca0-46ad-9e18-7ed217e7dd30",
   "metadata": {},
   "outputs": [],
   "source": [
    "df.head(2)"
   ]
  },
  {
   "cell_type": "code",
   "execution_count": null,
   "id": "259d895e-b295-4809-a495-79d444e71a01",
   "metadata": {},
   "outputs": [],
   "source": [
    "df['time'] = pd.to_datetime(df['time'], unit='ns', origin=pd.Timestamp('1970-01-01'))"
   ]
  },
  {
   "cell_type": "code",
   "execution_count": null,
   "id": "562015a7-dacc-4d12-ac77-3fd3b0605186",
   "metadata": {},
   "outputs": [],
   "source": [
    "df.head(2)"
   ]
  },
  {
   "cell_type": "code",
   "execution_count": null,
   "id": "3ee25c70-be51-46f0-bd76-a0e85e44f73a",
   "metadata": {},
   "outputs": [],
   "source": [
    "### without Matplotlib\n",
    "\n",
    "# Subset data\n",
    "df_4 = df[df['hive'] == 4]\n",
    "\n",
    "# plot temperature outside\n",
    "ax = df_4.plot(x='time', y='t_o', kind='scatter', marker='x')\n",
    "ax.set_ylim(0, 40)"
   ]
  },
  {
   "cell_type": "code",
   "execution_count": null,
   "id": "b49cdcaa-4791-4b71-908a-54b827cb31fb",
   "metadata": {},
   "outputs": [],
   "source": [
    "### with Matplotlib\n",
    "import matplotlib.pyplot as plt\n",
    "\n",
    "# Subset data\n",
    "df_4 = df[df['hive'] == 4]\n",
    "\n",
    "# colors similar to rainbow(5) in R\n",
    "colors = plt.cm.rainbow(np.linspace(0, 1, 5))\n",
    "\n",
    "# select columns\n",
    "cols = df_4.columns[3:8]\n",
    "\n",
    "plt.figure(figsize=(10, 6))\n",
    "\n",
    "# plot temperature outside\n",
    "plt.scatter(df_4['time'], df_4['t_o'], color='black', marker='x', label='outside')\n",
    "\n",
    "# plot all other temperatures\n",
    "for i, col in enumerate(cols):\n",
    "    plt.scatter(df_4['time'], df_4[col], color=colors[i], marker='x', label=str(i+1))\n",
    "\n",
    "plt.ylim(0, 40)\n",
    "plt.legend(loc='upper right', fontsize=8)\n",
    "plt.xlabel('time')\n",
    "plt.ylabel('Temperature')\n",
    "plt.show()\n"
   ]
  },
  {
   "cell_type": "code",
   "execution_count": null,
   "id": "23d910de-eb08-4a74-84a5-41236ffcda09",
   "metadata": {},
   "outputs": [],
   "source": []
  }
 ],
 "metadata": {
  "kernelspec": {
   "display_name": "Python 3 (ipykernel)",
   "language": "python",
   "name": "python3"
  },
  "language_info": {
   "codemirror_mode": {
    "name": "ipython",
    "version": 3
   },
   "file_extension": ".py",
   "mimetype": "text/x-python",
   "name": "python",
   "nbconvert_exporter": "python",
   "pygments_lexer": "ipython3",
   "version": "3.10.11"
  }
 },
 "nbformat": 4,
 "nbformat_minor": 5
}
