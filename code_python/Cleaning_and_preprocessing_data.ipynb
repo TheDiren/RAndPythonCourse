{
 "cells": [
  {
   "cell_type": "markdown",
   "metadata": {},
   "source": [
    "![PANGAEA_Banner.png](https://gitlab.awi.de/kriemann/nfdi4earth_academy_data/raw/main/logo/PANGAEA_Banner.png)"
   ]
  },
  {
   "cell_type": "markdown",
   "metadata": {
    "id": "TiJApo9Kv46M"
   },
   "source": [
    "# Cleaning and Preprocessing Data\n",
    "\n",
    "based on [PANGAEA Community Workshop script](https://github.com/pangaea-data-publisher/community-workshop-material/tree/master/Python/Data_curation_checklist)  \n",
    "Last updated: 2025-08-18\n",
    "\n",
    "This notebook aims to help you, to check and resolve some common problems and issues with data tables, before submitting them to a data repository like [PANGAEA](https://www.pangaea.de/).\n",
    "\n",
    "Check out our [instructions](https://wiki.pangaea.de/wiki/Data_submission) and [data templates](https://wiki.pangaea.de/wiki/Best_practice_manuals_and_templates) for submissions to PANGAEA."
   ]
  },
  {
   "cell_type": "markdown",
   "metadata": {
    "id": "z3kGGrlUEN_H"
   },
   "source": [
    "## 1. Import libraries/packages"
   ]
  },
  {
   "cell_type": "code",
   "execution_count": 1,
   "metadata": {
    "colab": {
     "base_uri": "https://localhost:8080/"
    },
    "id": "A0lhrlcPERwp",
    "outputId": "781cf6b0-c479-4891-c4a2-ce847a9315ab",
    "tags": []
   },
   "outputs": [],
   "source": [
    "import os\n",
    "\n",
    "import numpy as np\n",
    "import pandas as pd\n",
    "import re\n",
    "\n",
    "### date/time conversion package\n",
    "from datetime import date, timedelta\n",
    "\n",
    "### needed to download PANGAEA parameters\n",
    "import requests\n",
    "\n",
    "### Latitude/Longitude conversion package\n",
    "from LatLon23 import string2latlon\n",
    "\n",
    "### needed to find matching parameters\n",
    "from difflib import get_close_matches "
   ]
  },
  {
   "cell_type": "markdown",
   "metadata": {
    "id": "X4Sf5nsdE0_I"
   },
   "source": [
    "## 2. Random test data\n",
    "We created a random number data file for a PANGAEA test submission. We implemented on purpose very common formatting errors.  \n",
    "Please open the file *random_test_data.txt* and try to find and correct all errors."
   ]
  },
  {
   "cell_type": "code",
   "execution_count": 2,
   "metadata": {},
   "outputs": [
    {
     "name": "stdout",
     "output_type": "stream",
     "text": [
      "/isibhv/projects/p_pangaea_proces/kriemann/python/2025_informatica/data/\n"
     ]
    }
   ],
   "source": [
    "### get current working directory\n",
    "datapath = os.getcwd( )\n",
    "datapath = datapath+'/data/'\n",
    "print(datapath)"
   ]
  },
  {
   "cell_type": "code",
   "execution_count": 3,
   "metadata": {},
   "outputs": [],
   "source": [
    "#df.to_csv((datapath+'random_test_data.txt'),index=False,sep='\\t',encoding='utf-8')"
   ]
  },
  {
   "cell_type": "code",
   "execution_count": 4,
   "metadata": {},
   "outputs": [],
   "source": [
    "### open test data as dataframe\n",
    "df = pd.read_csv(datapath+'random_test_data.txt', sep='\\t')"
   ]
  },
  {
   "cell_type": "code",
   "execution_count": 5,
   "metadata": {},
   "outputs": [
    {
     "data": {
      "text/html": [
       "<div>\n",
       "<style scoped>\n",
       "    .dataframe tbody tr th:only-of-type {\n",
       "        vertical-align: middle;\n",
       "    }\n",
       "\n",
       "    .dataframe tbody tr th {\n",
       "        vertical-align: top;\n",
       "    }\n",
       "\n",
       "    .dataframe thead th {\n",
       "        text-align: right;\n",
       "    }\n",
       "</style>\n",
       "<table border=\"1\" class=\"dataframe\">\n",
       "  <thead>\n",
       "    <tr style=\"text-align: right;\">\n",
       "      <th></th>\n",
       "      <th>date</th>\n",
       "      <th>time</th>\n",
       "      <th>Location</th>\n",
       "      <th>Threatened status</th>\n",
       "      <th>species</th>\n",
       "      <th>lat/lon</th>\n",
       "      <th>latitude (deg)</th>\n",
       "      <th>lngitude (deg)</th>\n",
       "      <th>water depth (cm)</th>\n",
       "      <th>water temperature (degC)</th>\n",
       "      <th>Empty</th>\n",
       "    </tr>\n",
       "  </thead>\n",
       "  <tbody>\n",
       "    <tr>\n",
       "      <th>0</th>\n",
       "      <td>2017-02-02</td>\n",
       "      <td>17:00:00</td>\n",
       "      <td>Comment</td>\n",
       "      <td>Comment</td>\n",
       "      <td>Comment</td>\n",
       "      <td>Comment</td>\n",
       "      <td>Comment</td>\n",
       "      <td>Comment</td>\n",
       "      <td>Comment</td>\n",
       "      <td>Comment</td>\n",
       "      <td>NaN</td>\n",
       "    </tr>\n",
       "    <tr>\n",
       "      <th>1</th>\n",
       "      <td>2014-07-24</td>\n",
       "      <td>23:00:00</td>\n",
       "      <td>Bremerhaven, Germany</td>\n",
       "      <td>NT</td>\n",
       "      <td>Tursiops truncatus</td>\n",
       "      <td>53°32'59.9964''N; 8°34'59.9988''E</td>\n",
       "      <td>69.3</td>\n",
       "      <td>11.5</td>\n",
       "      <td>-999.9</td>\n",
       "      <td>0.9956999240091375</td>\n",
       "      <td>NaN</td>\n",
       "    </tr>\n",
       "    <tr>\n",
       "      <th>2</th>\n",
       "      <td>2012-07-15</td>\n",
       "      <td>18:00:00</td>\n",
       "      <td>Bremerhaven,     Germany</td>\n",
       "      <td>EN</td>\n",
       "      <td>Dolphinus delphis</td>\n",
       "      <td>53°32'59.9964''N; 8°34'59.9988''E</td>\n",
       "      <td>69,4</td>\n",
       "      <td>12.0</td>\n",
       "      <td>NaN</td>\n",
       "      <td>0.9250612779786214</td>\n",
       "      <td>NaN</td>\n",
       "    </tr>\n",
       "    <tr>\n",
       "      <th>3</th>\n",
       "      <td>2013-03-03</td>\n",
       "      <td>02:00:00</td>\n",
       "      <td>Bremerhaven, Germany</td>\n",
       "      <td>EX</td>\n",
       "      <td>Stenella coeruleoalba</td>\n",
       "      <td>53°32'59.9964''N; 8°34'59.9988''E</td>\n",
       "      <td>69.49999999999999</td>\n",
       "      <td>12.5</td>\n",
       "      <td>2.5</td>\n",
       "      <td>0.5707431649702995</td>\n",
       "      <td>NaN</td>\n",
       "    </tr>\n",
       "    <tr>\n",
       "      <th>4</th>\n",
       "      <td>2012-02-10</td>\n",
       "      <td>09:00:00</td>\n",
       "      <td>Bremerhaven, Germany</td>\n",
       "      <td>LC</td>\n",
       "      <td>Tursiops truncatus</td>\n",
       "      <td>53°32'59.9964''N; 8°34'59.9988''E</td>\n",
       "      <td>69.59999999999998</td>\n",
       "      <td>13.0</td>\n",
       "      <td>3.0</td>\n",
       "      <td>0.14828220296065653</td>\n",
       "      <td>NaN</td>\n",
       "    </tr>\n",
       "  </tbody>\n",
       "</table>\n",
       "</div>"
      ],
      "text/plain": [
       "         date      time                  Location Threatened status  \\\n",
       "0  2017-02-02  17:00:00                   Comment           Comment   \n",
       "1  2014-07-24  23:00:00      Bremerhaven, Germany                NT   \n",
       "2  2012-07-15  18:00:00  Bremerhaven,     Germany                EN   \n",
       "3  2013-03-03  02:00:00      Bremerhaven, Germany                EX   \n",
       "4  2012-02-10  09:00:00      Bremerhaven, Germany                LC   \n",
       "\n",
       "                 species                            lat/lon  \\\n",
       "0                Comment                            Comment   \n",
       "1     Tursiops truncatus  53°32'59.9964''N; 8°34'59.9988''E   \n",
       "2      Dolphinus delphis  53°32'59.9964''N; 8°34'59.9988''E   \n",
       "3  Stenella coeruleoalba  53°32'59.9964''N; 8°34'59.9988''E   \n",
       "4     Tursiops truncatus  53°32'59.9964''N; 8°34'59.9988''E   \n",
       "\n",
       "      latitude (deg) lngitude (deg) water depth (cm) water temperature (degC)  \\\n",
       "0            Comment        Comment          Comment                  Comment   \n",
       "1               69.3           11.5           -999.9       0.9956999240091375   \n",
       "2               69,4           12.0              NaN       0.9250612779786214   \n",
       "3  69.49999999999999           12.5              2.5       0.5707431649702995   \n",
       "4  69.59999999999998           13.0              3.0      0.14828220296065653   \n",
       "\n",
       "   Empty  \n",
       "0    NaN  \n",
       "1    NaN  \n",
       "2    NaN  \n",
       "3    NaN  \n",
       "4    NaN  "
      ]
     },
     "execution_count": 5,
     "metadata": {},
     "output_type": "execute_result"
    }
   ],
   "source": [
    "### show dataframe, but only the first 5 rows\n",
    "df.head()"
   ]
  },
  {
   "cell_type": "code",
   "execution_count": 6,
   "metadata": {},
   "outputs": [
    {
     "data": {
      "text/html": [
       "<div>\n",
       "<style scoped>\n",
       "    .dataframe tbody tr th:only-of-type {\n",
       "        vertical-align: middle;\n",
       "    }\n",
       "\n",
       "    .dataframe tbody tr th {\n",
       "        vertical-align: top;\n",
       "    }\n",
       "\n",
       "    .dataframe thead th {\n",
       "        text-align: right;\n",
       "    }\n",
       "</style>\n",
       "<table border=\"1\" class=\"dataframe\">\n",
       "  <thead>\n",
       "    <tr style=\"text-align: right;\">\n",
       "      <th></th>\n",
       "      <th>date</th>\n",
       "      <th>time</th>\n",
       "      <th>Location</th>\n",
       "      <th>Threatened status</th>\n",
       "      <th>species</th>\n",
       "      <th>lat/lon</th>\n",
       "      <th>latitude (deg)</th>\n",
       "      <th>lngitude (deg)</th>\n",
       "      <th>water depth (cm)</th>\n",
       "      <th>water temperature (degC)</th>\n",
       "      <th>Empty</th>\n",
       "    </tr>\n",
       "  </thead>\n",
       "  <tbody>\n",
       "    <tr>\n",
       "      <th>194</th>\n",
       "      <td>2018-11-17</td>\n",
       "      <td>20:00:00</td>\n",
       "      <td>Bremerhaven, Germany</td>\n",
       "      <td>EN</td>\n",
       "      <td>Dolphinus delphis</td>\n",
       "      <td>53°32'59.9964''N; 8°34'59.9988''E</td>\n",
       "      <td>88.5999999999989</td>\n",
       "      <td>108.0</td>\n",
       "      <td>98.0</td>\n",
       "      <td>0.802745192796905</td>\n",
       "      <td>NaN</td>\n",
       "    </tr>\n",
       "    <tr>\n",
       "      <th>195</th>\n",
       "      <td>2020-05-19</td>\n",
       "      <td>02:00:00</td>\n",
       "      <td>Bremerhaven, Germany</td>\n",
       "      <td>EX</td>\n",
       "      <td>Stenella coeruleoalba</td>\n",
       "      <td>53°32'59.9964''N; 8°34'59.9988''E</td>\n",
       "      <td>88.6999999999989</td>\n",
       "      <td>108.5</td>\n",
       "      <td>98.5</td>\n",
       "      <td>0.10935532817792304</td>\n",
       "      <td>NaN</td>\n",
       "    </tr>\n",
       "    <tr>\n",
       "      <th>196</th>\n",
       "      <td>2013-11-15</td>\n",
       "      <td>21:00:00</td>\n",
       "      <td>Bremerhaven, Germany</td>\n",
       "      <td>LC</td>\n",
       "      <td>Tursiops truncatus</td>\n",
       "      <td>53°32'59.9964''N; 8°34'59.9988''E</td>\n",
       "      <td>88.79999999999889</td>\n",
       "      <td>109.0</td>\n",
       "      <td>99.0</td>\n",
       "      <td>0.3668977429172354</td>\n",
       "      <td>NaN</td>\n",
       "    </tr>\n",
       "    <tr>\n",
       "      <th>197</th>\n",
       "      <td>2014-06-23</td>\n",
       "      <td>18:00:00</td>\n",
       "      <td>Bremerhaven, Germany</td>\n",
       "      <td>NT</td>\n",
       "      <td>Dolphinus delphis</td>\n",
       "      <td>53°32'59.9964''N; 8°34'59.9988''E</td>\n",
       "      <td>88.89999999999888</td>\n",
       "      <td>109.5</td>\n",
       "      <td>99.5</td>\n",
       "      <td>0.28897221922623695</td>\n",
       "      <td>NaN</td>\n",
       "    </tr>\n",
       "    <tr>\n",
       "      <th>198</th>\n",
       "      <td>2012-07-21</td>\n",
       "      <td>06:00:00</td>\n",
       "      <td>Total sum</td>\n",
       "      <td>Total sum</td>\n",
       "      <td>Total sum</td>\n",
       "      <td>Total sum</td>\n",
       "      <td>Total sum</td>\n",
       "      <td>Total sum</td>\n",
       "      <td>Total sum</td>\n",
       "      <td>Total sum</td>\n",
       "      <td>NaN</td>\n",
       "    </tr>\n",
       "  </tbody>\n",
       "</table>\n",
       "</div>"
      ],
      "text/plain": [
       "           date      time              Location Threatened status  \\\n",
       "194  2018-11-17  20:00:00  Bremerhaven, Germany                EN   \n",
       "195  2020-05-19  02:00:00  Bremerhaven, Germany                EX   \n",
       "196  2013-11-15  21:00:00  Bremerhaven, Germany                LC   \n",
       "197  2014-06-23  18:00:00  Bremerhaven, Germany                NT   \n",
       "198  2012-07-21  06:00:00             Total sum         Total sum   \n",
       "\n",
       "                   species                            lat/lon  \\\n",
       "194      Dolphinus delphis  53°32'59.9964''N; 8°34'59.9988''E   \n",
       "195  Stenella coeruleoalba  53°32'59.9964''N; 8°34'59.9988''E   \n",
       "196     Tursiops truncatus  53°32'59.9964''N; 8°34'59.9988''E   \n",
       "197      Dolphinus delphis  53°32'59.9964''N; 8°34'59.9988''E   \n",
       "198              Total sum                          Total sum   \n",
       "\n",
       "        latitude (deg) lngitude (deg) water depth (cm)  \\\n",
       "194   88.5999999999989          108.0             98.0   \n",
       "195   88.6999999999989          108.5             98.5   \n",
       "196  88.79999999999889          109.0             99.0   \n",
       "197  88.89999999999888          109.5             99.5   \n",
       "198          Total sum      Total sum        Total sum   \n",
       "\n",
       "    water temperature (degC)  Empty  \n",
       "194        0.802745192796905    NaN  \n",
       "195      0.10935532817792304    NaN  \n",
       "196       0.3668977429172354    NaN  \n",
       "197      0.28897221922623695    NaN  \n",
       "198                Total sum    NaN  "
      ]
     },
     "execution_count": 6,
     "metadata": {},
     "output_type": "execute_result"
    }
   ],
   "source": [
    "### show dataframe, but only the last 5 rows\n",
    "df.tail()"
   ]
  },
  {
   "cell_type": "code",
   "execution_count": 59,
   "metadata": {},
   "outputs": [
    {
     "data": {
      "text/html": [
       "<div>\n",
       "<style scoped>\n",
       "    .dataframe tbody tr th:only-of-type {\n",
       "        vertical-align: middle;\n",
       "    }\n",
       "\n",
       "    .dataframe tbody tr th {\n",
       "        vertical-align: top;\n",
       "    }\n",
       "\n",
       "    .dataframe thead th {\n",
       "        text-align: right;\n",
       "    }\n",
       "</style>\n",
       "<table border=\"1\" class=\"dataframe\">\n",
       "  <thead>\n",
       "    <tr style=\"text-align: right;\">\n",
       "      <th></th>\n",
       "      <th>Event []</th>\n",
       "      <th>DATE/TIME []</th>\n",
       "      <th>LATITUDE []</th>\n",
       "      <th>LONGITUDE []</th>\n",
       "      <th>Latitude 2 []</th>\n",
       "      <th>Longitude 2 []</th>\n",
       "      <th>DEPTH, water [m]</th>\n",
       "      <th>Location []</th>\n",
       "      <th>Species []</th>\n",
       "      <th>IUCN Red List status []</th>\n",
       "      <th>Temperature, water [°C]</th>\n",
       "      <th>Uniform resource locator/link to reference []</th>\n",
       "    </tr>\n",
       "  </thead>\n",
       "  <tbody>\n",
       "    <tr>\n",
       "      <th>1</th>\n",
       "      <td>PS132_1-2</td>\n",
       "      <td>2014-07-24T23:00:00</td>\n",
       "      <td>69.3</td>\n",
       "      <td>11.5</td>\n",
       "      <td>53.549999</td>\n",
       "      <td>8.583333</td>\n",
       "      <td>NaN</td>\n",
       "      <td>Bremerhaven, Germany</td>\n",
       "      <td>Tursiops truncatus</td>\n",
       "      <td>Near Threatened</td>\n",
       "      <td>0.995700</td>\n",
       "      <td>https://doi.org/10.1594/PANGAEA.945749</td>\n",
       "    </tr>\n",
       "    <tr>\n",
       "      <th>2</th>\n",
       "      <td>PS132_1-2</td>\n",
       "      <td>2012-07-15T18:00:00</td>\n",
       "      <td>69.4</td>\n",
       "      <td>12.0</td>\n",
       "      <td>53.549999</td>\n",
       "      <td>8.583333</td>\n",
       "      <td>NaN</td>\n",
       "      <td>Bremerhaven,     Germany</td>\n",
       "      <td>Delphinus delphis</td>\n",
       "      <td>Endangered</td>\n",
       "      <td>0.925061</td>\n",
       "      <td>https://doi.org/10.1594/PANGAEA.945749</td>\n",
       "    </tr>\n",
       "    <tr>\n",
       "      <th>3</th>\n",
       "      <td>PS132_1-2</td>\n",
       "      <td>2013-03-03T02:00:00</td>\n",
       "      <td>69.5</td>\n",
       "      <td>12.5</td>\n",
       "      <td>53.549999</td>\n",
       "      <td>8.583333</td>\n",
       "      <td>0.025</td>\n",
       "      <td>Bremerhaven, Germany</td>\n",
       "      <td>Stenella coeruleoalba</td>\n",
       "      <td>Extinct in the Wild</td>\n",
       "      <td>0.570743</td>\n",
       "      <td>https://doi.org/10.1594/PANGAEA.945749</td>\n",
       "    </tr>\n",
       "    <tr>\n",
       "      <th>4</th>\n",
       "      <td>PS132_1-2</td>\n",
       "      <td>2012-02-10T09:00:00</td>\n",
       "      <td>69.6</td>\n",
       "      <td>13.0</td>\n",
       "      <td>53.549999</td>\n",
       "      <td>8.583333</td>\n",
       "      <td>0.030</td>\n",
       "      <td>Bremerhaven, Germany</td>\n",
       "      <td>Tursiops truncatus</td>\n",
       "      <td>Least Concern</td>\n",
       "      <td>0.148282</td>\n",
       "      <td>https://doi.org/10.1594/PANGAEA.945749</td>\n",
       "    </tr>\n",
       "    <tr>\n",
       "      <th>5</th>\n",
       "      <td>PS132_1-2</td>\n",
       "      <td>2016-05-03T12:00:00</td>\n",
       "      <td>69.7</td>\n",
       "      <td>13.5</td>\n",
       "      <td>53.549999</td>\n",
       "      <td>8.583333</td>\n",
       "      <td>0.035</td>\n",
       "      <td>Bremerhaven, Germany</td>\n",
       "      <td>Delphinus delphis</td>\n",
       "      <td>Near Threatened</td>\n",
       "      <td>0.912003</td>\n",
       "      <td>https://doi.org/10.1594/PANGAEA.945749</td>\n",
       "    </tr>\n",
       "    <tr>\n",
       "      <th>...</th>\n",
       "      <td>...</td>\n",
       "      <td>...</td>\n",
       "      <td>...</td>\n",
       "      <td>...</td>\n",
       "      <td>...</td>\n",
       "      <td>...</td>\n",
       "      <td>...</td>\n",
       "      <td>...</td>\n",
       "      <td>...</td>\n",
       "      <td>...</td>\n",
       "      <td>...</td>\n",
       "      <td>...</td>\n",
       "    </tr>\n",
       "    <tr>\n",
       "      <th>193</th>\n",
       "      <td>PS132_1-2</td>\n",
       "      <td>2019-05-23T04:00:00</td>\n",
       "      <td>88.5</td>\n",
       "      <td>107.5</td>\n",
       "      <td>53.549999</td>\n",
       "      <td>8.583333</td>\n",
       "      <td>0.975</td>\n",
       "      <td>Bremerhaven, Germany</td>\n",
       "      <td>Tursiops truncatus</td>\n",
       "      <td>Near Threatened</td>\n",
       "      <td>0.065561</td>\n",
       "      <td>https://doi.org/10.1594/PANGAEA.945749</td>\n",
       "    </tr>\n",
       "    <tr>\n",
       "      <th>194</th>\n",
       "      <td>PS132_1-2</td>\n",
       "      <td>2018-11-17T20:00:00</td>\n",
       "      <td>88.6</td>\n",
       "      <td>108.0</td>\n",
       "      <td>53.549999</td>\n",
       "      <td>8.583333</td>\n",
       "      <td>0.980</td>\n",
       "      <td>Bremerhaven, Germany</td>\n",
       "      <td>Delphinus delphis</td>\n",
       "      <td>Endangered</td>\n",
       "      <td>0.802745</td>\n",
       "      <td>https://doi.org/10.1594/PANGAEA.945749</td>\n",
       "    </tr>\n",
       "    <tr>\n",
       "      <th>195</th>\n",
       "      <td>PS132_1-2</td>\n",
       "      <td>2020-05-19T02:00:00</td>\n",
       "      <td>88.7</td>\n",
       "      <td>108.5</td>\n",
       "      <td>53.549999</td>\n",
       "      <td>8.583333</td>\n",
       "      <td>0.985</td>\n",
       "      <td>Bremerhaven, Germany</td>\n",
       "      <td>Stenella coeruleoalba</td>\n",
       "      <td>Extinct in the Wild</td>\n",
       "      <td>0.109355</td>\n",
       "      <td>https://doi.org/10.1594/PANGAEA.945749</td>\n",
       "    </tr>\n",
       "    <tr>\n",
       "      <th>196</th>\n",
       "      <td>PS132_1-2</td>\n",
       "      <td>2013-11-15T21:00:00</td>\n",
       "      <td>88.8</td>\n",
       "      <td>109.0</td>\n",
       "      <td>53.549999</td>\n",
       "      <td>8.583333</td>\n",
       "      <td>0.990</td>\n",
       "      <td>Bremerhaven, Germany</td>\n",
       "      <td>Tursiops truncatus</td>\n",
       "      <td>Least Concern</td>\n",
       "      <td>0.366898</td>\n",
       "      <td>https://doi.org/10.1594/PANGAEA.945749</td>\n",
       "    </tr>\n",
       "    <tr>\n",
       "      <th>197</th>\n",
       "      <td>PS132_1-2</td>\n",
       "      <td>2014-06-23T18:00:00</td>\n",
       "      <td>88.9</td>\n",
       "      <td>109.5</td>\n",
       "      <td>53.549999</td>\n",
       "      <td>8.583333</td>\n",
       "      <td>0.995</td>\n",
       "      <td>Bremerhaven, Germany</td>\n",
       "      <td>Delphinus delphis</td>\n",
       "      <td>Near Threatened</td>\n",
       "      <td>0.288972</td>\n",
       "      <td>https://doi.org/10.1594/PANGAEA.945749</td>\n",
       "    </tr>\n",
       "  </tbody>\n",
       "</table>\n",
       "<p>197 rows × 12 columns</p>\n",
       "</div>"
      ],
      "text/plain": [
       "      Event []         DATE/TIME []  LATITUDE []  LONGITUDE []  Latitude 2 []  \\\n",
       "1    PS132_1-2  2014-07-24T23:00:00         69.3          11.5      53.549999   \n",
       "2    PS132_1-2  2012-07-15T18:00:00         69.4          12.0      53.549999   \n",
       "3    PS132_1-2  2013-03-03T02:00:00         69.5          12.5      53.549999   \n",
       "4    PS132_1-2  2012-02-10T09:00:00         69.6          13.0      53.549999   \n",
       "5    PS132_1-2  2016-05-03T12:00:00         69.7          13.5      53.549999   \n",
       "..         ...                  ...          ...           ...            ...   \n",
       "193  PS132_1-2  2019-05-23T04:00:00         88.5         107.5      53.549999   \n",
       "194  PS132_1-2  2018-11-17T20:00:00         88.6         108.0      53.549999   \n",
       "195  PS132_1-2  2020-05-19T02:00:00         88.7         108.5      53.549999   \n",
       "196  PS132_1-2  2013-11-15T21:00:00         88.8         109.0      53.549999   \n",
       "197  PS132_1-2  2014-06-23T18:00:00         88.9         109.5      53.549999   \n",
       "\n",
       "     Longitude 2 []  DEPTH, water [m]               Location []  \\\n",
       "1          8.583333               NaN      Bremerhaven, Germany   \n",
       "2          8.583333               NaN  Bremerhaven,     Germany   \n",
       "3          8.583333             0.025      Bremerhaven, Germany   \n",
       "4          8.583333             0.030      Bremerhaven, Germany   \n",
       "5          8.583333             0.035      Bremerhaven, Germany   \n",
       "..              ...               ...                       ...   \n",
       "193        8.583333             0.975      Bremerhaven, Germany   \n",
       "194        8.583333             0.980      Bremerhaven, Germany   \n",
       "195        8.583333             0.985      Bremerhaven, Germany   \n",
       "196        8.583333             0.990      Bremerhaven, Germany   \n",
       "197        8.583333             0.995      Bremerhaven, Germany   \n",
       "\n",
       "                Species [] IUCN Red List status []  Temperature, water [°C]  \\\n",
       "1       Tursiops truncatus         Near Threatened                 0.995700   \n",
       "2        Delphinus delphis              Endangered                 0.925061   \n",
       "3    Stenella coeruleoalba     Extinct in the Wild                 0.570743   \n",
       "4       Tursiops truncatus           Least Concern                 0.148282   \n",
       "5        Delphinus delphis         Near Threatened                 0.912003   \n",
       "..                     ...                     ...                      ...   \n",
       "193     Tursiops truncatus         Near Threatened                 0.065561   \n",
       "194      Delphinus delphis              Endangered                 0.802745   \n",
       "195  Stenella coeruleoalba     Extinct in the Wild                 0.109355   \n",
       "196     Tursiops truncatus           Least Concern                 0.366898   \n",
       "197      Delphinus delphis         Near Threatened                 0.288972   \n",
       "\n",
       "    Uniform resource locator/link to reference []  \n",
       "1          https://doi.org/10.1594/PANGAEA.945749  \n",
       "2          https://doi.org/10.1594/PANGAEA.945749  \n",
       "3          https://doi.org/10.1594/PANGAEA.945749  \n",
       "4          https://doi.org/10.1594/PANGAEA.945749  \n",
       "5          https://doi.org/10.1594/PANGAEA.945749  \n",
       "..                                            ...  \n",
       "193        https://doi.org/10.1594/PANGAEA.945749  \n",
       "194        https://doi.org/10.1594/PANGAEA.945749  \n",
       "195        https://doi.org/10.1594/PANGAEA.945749  \n",
       "196        https://doi.org/10.1594/PANGAEA.945749  \n",
       "197        https://doi.org/10.1594/PANGAEA.945749  \n",
       "\n",
       "[197 rows x 12 columns]"
      ]
     },
     "execution_count": 59,
     "metadata": {},
     "output_type": "execute_result"
    }
   ],
   "source": [
    "df"
   ]
  },
  {
   "cell_type": "markdown",
   "metadata": {
    "id": "LEcQeDJhLEvl"
   },
   "source": [
    "## 3. Data Curation Checklist\n",
    "\n"
   ]
  },
  {
   "cell_type": "markdown",
   "metadata": {
    "id": "LQjpm4dbLJ2N"
   },
   "source": [
    "### 3.1 Data structure\n",
    "\n",
    "* One cell = one entry\n",
    "* Columns = Variable/Parameters\n",
    "* Rows = Single observation\n",
    "* Single header row\n",
    "* No mix of numeric values and strings\n",
    "\n"
   ]
  },
  {
   "cell_type": "markdown",
   "metadata": {
    "id": "2hAxf7ELO0jK"
   },
   "source": [
    "#### Check data structure"
   ]
  },
  {
   "cell_type": "code",
   "execution_count": 7,
   "metadata": {
    "colab": {
     "base_uri": "https://localhost:8080/",
     "height": 518
    },
    "id": "j13EUbSkPRyI",
    "outputId": "e5d071de-2d23-4c2d-8e75-bb05d9dd3f41",
    "tags": []
   },
   "outputs": [
    {
     "data": {
      "text/html": [
       "<div>\n",
       "<style scoped>\n",
       "    .dataframe tbody tr th:only-of-type {\n",
       "        vertical-align: middle;\n",
       "    }\n",
       "\n",
       "    .dataframe tbody tr th {\n",
       "        vertical-align: top;\n",
       "    }\n",
       "\n",
       "    .dataframe thead th {\n",
       "        text-align: right;\n",
       "    }\n",
       "</style>\n",
       "<table border=\"1\" class=\"dataframe\">\n",
       "  <thead>\n",
       "    <tr style=\"text-align: right;\">\n",
       "      <th></th>\n",
       "      <th>date</th>\n",
       "      <th>time</th>\n",
       "      <th>Location</th>\n",
       "      <th>Threatened status</th>\n",
       "      <th>species</th>\n",
       "      <th>lat/lon</th>\n",
       "      <th>latitude (deg)</th>\n",
       "      <th>lngitude (deg)</th>\n",
       "      <th>water depth (cm)</th>\n",
       "      <th>water temperature (degC)</th>\n",
       "      <th>Empty</th>\n",
       "    </tr>\n",
       "  </thead>\n",
       "  <tbody>\n",
       "    <tr>\n",
       "      <th>0</th>\n",
       "      <td>2017-02-02</td>\n",
       "      <td>17:00:00</td>\n",
       "      <td>Comment</td>\n",
       "      <td>Comment</td>\n",
       "      <td>Comment</td>\n",
       "      <td>Comment</td>\n",
       "      <td>Comment</td>\n",
       "      <td>Comment</td>\n",
       "      <td>Comment</td>\n",
       "      <td>Comment</td>\n",
       "      <td>NaN</td>\n",
       "    </tr>\n",
       "    <tr>\n",
       "      <th>1</th>\n",
       "      <td>2014-07-24</td>\n",
       "      <td>23:00:00</td>\n",
       "      <td>Bremerhaven, Germany</td>\n",
       "      <td>NT</td>\n",
       "      <td>Tursiops truncatus</td>\n",
       "      <td>53°32'59.9964''N; 8°34'59.9988''E</td>\n",
       "      <td>69.3</td>\n",
       "      <td>11.5</td>\n",
       "      <td>-999.9</td>\n",
       "      <td>0.9956999240091375</td>\n",
       "      <td>NaN</td>\n",
       "    </tr>\n",
       "  </tbody>\n",
       "</table>\n",
       "</div>"
      ],
      "text/plain": [
       "         date      time              Location Threatened status  \\\n",
       "0  2017-02-02  17:00:00               Comment           Comment   \n",
       "1  2014-07-24  23:00:00  Bremerhaven, Germany                NT   \n",
       "\n",
       "              species                            lat/lon latitude (deg)  \\\n",
       "0             Comment                            Comment        Comment   \n",
       "1  Tursiops truncatus  53°32'59.9964''N; 8°34'59.9988''E           69.3   \n",
       "\n",
       "  lngitude (deg) water depth (cm) water temperature (degC)  Empty  \n",
       "0        Comment          Comment                  Comment    NaN  \n",
       "1           11.5           -999.9       0.9956999240091375    NaN  "
      ]
     },
     "execution_count": 7,
     "metadata": {},
     "output_type": "execute_result"
    }
   ],
   "source": [
    "### Check structure of data table\n",
    "df.head(2)"
   ]
  },
  {
   "cell_type": "code",
   "execution_count": 8,
   "metadata": {},
   "outputs": [
    {
     "data": {
      "text/html": [
       "<div>\n",
       "<style scoped>\n",
       "    .dataframe tbody tr th:only-of-type {\n",
       "        vertical-align: middle;\n",
       "    }\n",
       "\n",
       "    .dataframe tbody tr th {\n",
       "        vertical-align: top;\n",
       "    }\n",
       "\n",
       "    .dataframe thead th {\n",
       "        text-align: right;\n",
       "    }\n",
       "</style>\n",
       "<table border=\"1\" class=\"dataframe\">\n",
       "  <thead>\n",
       "    <tr style=\"text-align: right;\">\n",
       "      <th></th>\n",
       "      <th>date</th>\n",
       "      <th>time</th>\n",
       "      <th>Location</th>\n",
       "      <th>Threatened status</th>\n",
       "      <th>species</th>\n",
       "      <th>lat/lon</th>\n",
       "      <th>latitude (deg)</th>\n",
       "      <th>lngitude (deg)</th>\n",
       "      <th>water depth (cm)</th>\n",
       "      <th>water temperature (degC)</th>\n",
       "      <th>Empty</th>\n",
       "    </tr>\n",
       "  </thead>\n",
       "  <tbody>\n",
       "    <tr>\n",
       "      <th>0</th>\n",
       "      <td>2017-02-02</td>\n",
       "      <td>17:00:00</td>\n",
       "      <td>Comment</td>\n",
       "      <td>Comment</td>\n",
       "      <td>Comment</td>\n",
       "      <td>Comment</td>\n",
       "      <td>Comment</td>\n",
       "      <td>Comment</td>\n",
       "      <td>Comment</td>\n",
       "      <td>Comment</td>\n",
       "      <td>NaN</td>\n",
       "    </tr>\n",
       "    <tr>\n",
       "      <th>1</th>\n",
       "      <td>2014-07-24</td>\n",
       "      <td>23:00:00</td>\n",
       "      <td>Bremerhaven, Germany</td>\n",
       "      <td>NT</td>\n",
       "      <td>Tursiops truncatus</td>\n",
       "      <td>53°32'59.9964''N; 8°34'59.9988''E</td>\n",
       "      <td>69.3</td>\n",
       "      <td>11.5</td>\n",
       "      <td>-999.9</td>\n",
       "      <td>0.9956999240091375</td>\n",
       "      <td>NaN</td>\n",
       "    </tr>\n",
       "    <tr>\n",
       "      <th>2</th>\n",
       "      <td>2012-07-15</td>\n",
       "      <td>18:00:00</td>\n",
       "      <td>Bremerhaven,     Germany</td>\n",
       "      <td>EN</td>\n",
       "      <td>Dolphinus delphis</td>\n",
       "      <td>53°32'59.9964''N; 8°34'59.9988''E</td>\n",
       "      <td>69,4</td>\n",
       "      <td>12.0</td>\n",
       "      <td>NaN</td>\n",
       "      <td>0.9250612779786214</td>\n",
       "      <td>NaN</td>\n",
       "    </tr>\n",
       "    <tr>\n",
       "      <th>3</th>\n",
       "      <td>2013-03-03</td>\n",
       "      <td>02:00:00</td>\n",
       "      <td>Bremerhaven, Germany</td>\n",
       "      <td>EX</td>\n",
       "      <td>Stenella coeruleoalba</td>\n",
       "      <td>53°32'59.9964''N; 8°34'59.9988''E</td>\n",
       "      <td>69.49999999999999</td>\n",
       "      <td>12.5</td>\n",
       "      <td>2.5</td>\n",
       "      <td>0.5707431649702995</td>\n",
       "      <td>NaN</td>\n",
       "    </tr>\n",
       "    <tr>\n",
       "      <th>195</th>\n",
       "      <td>2020-05-19</td>\n",
       "      <td>02:00:00</td>\n",
       "      <td>Bremerhaven, Germany</td>\n",
       "      <td>EX</td>\n",
       "      <td>Stenella coeruleoalba</td>\n",
       "      <td>53°32'59.9964''N; 8°34'59.9988''E</td>\n",
       "      <td>88.6999999999989</td>\n",
       "      <td>108.5</td>\n",
       "      <td>98.5</td>\n",
       "      <td>0.10935532817792304</td>\n",
       "      <td>NaN</td>\n",
       "    </tr>\n",
       "    <tr>\n",
       "      <th>196</th>\n",
       "      <td>2013-11-15</td>\n",
       "      <td>21:00:00</td>\n",
       "      <td>Bremerhaven, Germany</td>\n",
       "      <td>LC</td>\n",
       "      <td>Tursiops truncatus</td>\n",
       "      <td>53°32'59.9964''N; 8°34'59.9988''E</td>\n",
       "      <td>88.79999999999889</td>\n",
       "      <td>109.0</td>\n",
       "      <td>99.0</td>\n",
       "      <td>0.3668977429172354</td>\n",
       "      <td>NaN</td>\n",
       "    </tr>\n",
       "    <tr>\n",
       "      <th>197</th>\n",
       "      <td>2014-06-23</td>\n",
       "      <td>18:00:00</td>\n",
       "      <td>Bremerhaven, Germany</td>\n",
       "      <td>NT</td>\n",
       "      <td>Dolphinus delphis</td>\n",
       "      <td>53°32'59.9964''N; 8°34'59.9988''E</td>\n",
       "      <td>88.89999999999888</td>\n",
       "      <td>109.5</td>\n",
       "      <td>99.5</td>\n",
       "      <td>0.28897221922623695</td>\n",
       "      <td>NaN</td>\n",
       "    </tr>\n",
       "    <tr>\n",
       "      <th>198</th>\n",
       "      <td>2012-07-21</td>\n",
       "      <td>06:00:00</td>\n",
       "      <td>Total sum</td>\n",
       "      <td>Total sum</td>\n",
       "      <td>Total sum</td>\n",
       "      <td>Total sum</td>\n",
       "      <td>Total sum</td>\n",
       "      <td>Total sum</td>\n",
       "      <td>Total sum</td>\n",
       "      <td>Total sum</td>\n",
       "      <td>NaN</td>\n",
       "    </tr>\n",
       "  </tbody>\n",
       "</table>\n",
       "</div>"
      ],
      "text/plain": [
       "           date      time                  Location Threatened status  \\\n",
       "0    2017-02-02  17:00:00                   Comment           Comment   \n",
       "1    2014-07-24  23:00:00      Bremerhaven, Germany                NT   \n",
       "2    2012-07-15  18:00:00  Bremerhaven,     Germany                EN   \n",
       "3    2013-03-03  02:00:00      Bremerhaven, Germany                EX   \n",
       "195  2020-05-19  02:00:00      Bremerhaven, Germany                EX   \n",
       "196  2013-11-15  21:00:00      Bremerhaven, Germany                LC   \n",
       "197  2014-06-23  18:00:00      Bremerhaven, Germany                NT   \n",
       "198  2012-07-21  06:00:00                 Total sum         Total sum   \n",
       "\n",
       "                   species                            lat/lon  \\\n",
       "0                  Comment                            Comment   \n",
       "1       Tursiops truncatus  53°32'59.9964''N; 8°34'59.9988''E   \n",
       "2        Dolphinus delphis  53°32'59.9964''N; 8°34'59.9988''E   \n",
       "3    Stenella coeruleoalba  53°32'59.9964''N; 8°34'59.9988''E   \n",
       "195  Stenella coeruleoalba  53°32'59.9964''N; 8°34'59.9988''E   \n",
       "196     Tursiops truncatus  53°32'59.9964''N; 8°34'59.9988''E   \n",
       "197      Dolphinus delphis  53°32'59.9964''N; 8°34'59.9988''E   \n",
       "198              Total sum                          Total sum   \n",
       "\n",
       "        latitude (deg) lngitude (deg) water depth (cm)  \\\n",
       "0              Comment        Comment          Comment   \n",
       "1                 69.3           11.5           -999.9   \n",
       "2                 69,4           12.0              NaN   \n",
       "3    69.49999999999999           12.5              2.5   \n",
       "195   88.6999999999989          108.5             98.5   \n",
       "196  88.79999999999889          109.0             99.0   \n",
       "197  88.89999999999888          109.5             99.5   \n",
       "198          Total sum      Total sum        Total sum   \n",
       "\n",
       "    water temperature (degC)  Empty  \n",
       "0                    Comment    NaN  \n",
       "1         0.9956999240091375    NaN  \n",
       "2         0.9250612779786214    NaN  \n",
       "3         0.5707431649702995    NaN  \n",
       "195      0.10935532817792304    NaN  \n",
       "196       0.3668977429172354    NaN  \n",
       "197      0.28897221922623695    NaN  \n",
       "198                Total sum    NaN  "
      ]
     },
     "execution_count": 8,
     "metadata": {},
     "output_type": "execute_result"
    }
   ],
   "source": [
    "### Alternative way to see head and tail together\n",
    "pd.concat([df.head(4), df.tail(4)])"
   ]
  },
  {
   "cell_type": "markdown",
   "metadata": {
    "id": "Kbeh7tuGQ3qE"
   },
   "source": [
    "#### Remove rows that are not observations\n",
    "Data table should have:\n",
    "* only single header row\n",
    "* no rows with aggregated statistics"
   ]
  },
  {
   "cell_type": "code",
   "execution_count": 9,
   "metadata": {
    "colab": {
     "base_uri": "https://localhost:8080/",
     "height": 323
    },
    "id": "TSPFUDraRSof",
    "outputId": "fedd8144-9c9d-433f-e466-27d7cf51f4bc",
    "tags": []
   },
   "outputs": [],
   "source": [
    "### Remove row with comments, which is first row here\n",
    "df = df.iloc[1: , :] # [row, column]"
   ]
  },
  {
   "cell_type": "code",
   "execution_count": 10,
   "metadata": {},
   "outputs": [
    {
     "data": {
      "text/html": [
       "<div>\n",
       "<style scoped>\n",
       "    .dataframe tbody tr th:only-of-type {\n",
       "        vertical-align: middle;\n",
       "    }\n",
       "\n",
       "    .dataframe tbody tr th {\n",
       "        vertical-align: top;\n",
       "    }\n",
       "\n",
       "    .dataframe thead th {\n",
       "        text-align: right;\n",
       "    }\n",
       "</style>\n",
       "<table border=\"1\" class=\"dataframe\">\n",
       "  <thead>\n",
       "    <tr style=\"text-align: right;\">\n",
       "      <th></th>\n",
       "      <th>date</th>\n",
       "      <th>time</th>\n",
       "      <th>Location</th>\n",
       "      <th>Threatened status</th>\n",
       "      <th>species</th>\n",
       "      <th>lat/lon</th>\n",
       "      <th>latitude (deg)</th>\n",
       "      <th>lngitude (deg)</th>\n",
       "      <th>water depth (cm)</th>\n",
       "      <th>water temperature (degC)</th>\n",
       "      <th>Empty</th>\n",
       "    </tr>\n",
       "  </thead>\n",
       "  <tbody>\n",
       "    <tr>\n",
       "      <th>1</th>\n",
       "      <td>2014-07-24</td>\n",
       "      <td>23:00:00</td>\n",
       "      <td>Bremerhaven, Germany</td>\n",
       "      <td>NT</td>\n",
       "      <td>Tursiops truncatus</td>\n",
       "      <td>53°32'59.9964''N; 8°34'59.9988''E</td>\n",
       "      <td>69.3</td>\n",
       "      <td>11.5</td>\n",
       "      <td>-999.9</td>\n",
       "      <td>0.9956999240091375</td>\n",
       "      <td>NaN</td>\n",
       "    </tr>\n",
       "    <tr>\n",
       "      <th>2</th>\n",
       "      <td>2012-07-15</td>\n",
       "      <td>18:00:00</td>\n",
       "      <td>Bremerhaven,     Germany</td>\n",
       "      <td>EN</td>\n",
       "      <td>Dolphinus delphis</td>\n",
       "      <td>53°32'59.9964''N; 8°34'59.9988''E</td>\n",
       "      <td>69,4</td>\n",
       "      <td>12.0</td>\n",
       "      <td>NaN</td>\n",
       "      <td>0.9250612779786214</td>\n",
       "      <td>NaN</td>\n",
       "    </tr>\n",
       "    <tr>\n",
       "      <th>197</th>\n",
       "      <td>2014-06-23</td>\n",
       "      <td>18:00:00</td>\n",
       "      <td>Bremerhaven, Germany</td>\n",
       "      <td>NT</td>\n",
       "      <td>Dolphinus delphis</td>\n",
       "      <td>53°32'59.9964''N; 8°34'59.9988''E</td>\n",
       "      <td>88.89999999999888</td>\n",
       "      <td>109.5</td>\n",
       "      <td>99.5</td>\n",
       "      <td>0.28897221922623695</td>\n",
       "      <td>NaN</td>\n",
       "    </tr>\n",
       "    <tr>\n",
       "      <th>198</th>\n",
       "      <td>2012-07-21</td>\n",
       "      <td>06:00:00</td>\n",
       "      <td>Total sum</td>\n",
       "      <td>Total sum</td>\n",
       "      <td>Total sum</td>\n",
       "      <td>Total sum</td>\n",
       "      <td>Total sum</td>\n",
       "      <td>Total sum</td>\n",
       "      <td>Total sum</td>\n",
       "      <td>Total sum</td>\n",
       "      <td>NaN</td>\n",
       "    </tr>\n",
       "  </tbody>\n",
       "</table>\n",
       "</div>"
      ],
      "text/plain": [
       "           date      time                  Location Threatened status  \\\n",
       "1    2014-07-24  23:00:00      Bremerhaven, Germany                NT   \n",
       "2    2012-07-15  18:00:00  Bremerhaven,     Germany                EN   \n",
       "197  2014-06-23  18:00:00      Bremerhaven, Germany                NT   \n",
       "198  2012-07-21  06:00:00                 Total sum         Total sum   \n",
       "\n",
       "                species                            lat/lon     latitude (deg)  \\\n",
       "1    Tursiops truncatus  53°32'59.9964''N; 8°34'59.9988''E               69.3   \n",
       "2     Dolphinus delphis  53°32'59.9964''N; 8°34'59.9988''E               69,4   \n",
       "197   Dolphinus delphis  53°32'59.9964''N; 8°34'59.9988''E  88.89999999999888   \n",
       "198           Total sum                          Total sum          Total sum   \n",
       "\n",
       "    lngitude (deg) water depth (cm) water temperature (degC)  Empty  \n",
       "1             11.5           -999.9       0.9956999240091375    NaN  \n",
       "2             12.0              NaN       0.9250612779786214    NaN  \n",
       "197          109.5             99.5      0.28897221922623695    NaN  \n",
       "198      Total sum        Total sum                Total sum    NaN  "
      ]
     },
     "execution_count": 10,
     "metadata": {},
     "output_type": "execute_result"
    }
   ],
   "source": [
    "pd.concat([df.head(2), df.tail(2)])"
   ]
  },
  {
   "cell_type": "code",
   "execution_count": 11,
   "metadata": {},
   "outputs": [
    {
     "data": {
      "text/html": [
       "<div>\n",
       "<style scoped>\n",
       "    .dataframe tbody tr th:only-of-type {\n",
       "        vertical-align: middle;\n",
       "    }\n",
       "\n",
       "    .dataframe tbody tr th {\n",
       "        vertical-align: top;\n",
       "    }\n",
       "\n",
       "    .dataframe thead th {\n",
       "        text-align: right;\n",
       "    }\n",
       "</style>\n",
       "<table border=\"1\" class=\"dataframe\">\n",
       "  <thead>\n",
       "    <tr style=\"text-align: right;\">\n",
       "      <th></th>\n",
       "      <th>date</th>\n",
       "      <th>time</th>\n",
       "      <th>Location</th>\n",
       "      <th>Threatened status</th>\n",
       "      <th>species</th>\n",
       "      <th>lat/lon</th>\n",
       "      <th>latitude (deg)</th>\n",
       "      <th>lngitude (deg)</th>\n",
       "      <th>water depth (cm)</th>\n",
       "      <th>water temperature (degC)</th>\n",
       "      <th>Empty</th>\n",
       "    </tr>\n",
       "  </thead>\n",
       "  <tbody>\n",
       "    <tr>\n",
       "      <th>1</th>\n",
       "      <td>2014-07-24</td>\n",
       "      <td>23:00:00</td>\n",
       "      <td>Bremerhaven, Germany</td>\n",
       "      <td>NT</td>\n",
       "      <td>Tursiops truncatus</td>\n",
       "      <td>53°32'59.9964''N; 8°34'59.9988''E</td>\n",
       "      <td>69.3</td>\n",
       "      <td>11.5</td>\n",
       "      <td>-999.9</td>\n",
       "      <td>0.9956999240091375</td>\n",
       "      <td>NaN</td>\n",
       "    </tr>\n",
       "    <tr>\n",
       "      <th>2</th>\n",
       "      <td>2012-07-15</td>\n",
       "      <td>18:00:00</td>\n",
       "      <td>Bremerhaven,     Germany</td>\n",
       "      <td>EN</td>\n",
       "      <td>Dolphinus delphis</td>\n",
       "      <td>53°32'59.9964''N; 8°34'59.9988''E</td>\n",
       "      <td>69,4</td>\n",
       "      <td>12.0</td>\n",
       "      <td>NaN</td>\n",
       "      <td>0.9250612779786214</td>\n",
       "      <td>NaN</td>\n",
       "    </tr>\n",
       "    <tr>\n",
       "      <th>196</th>\n",
       "      <td>2013-11-15</td>\n",
       "      <td>21:00:00</td>\n",
       "      <td>Bremerhaven, Germany</td>\n",
       "      <td>LC</td>\n",
       "      <td>Tursiops truncatus</td>\n",
       "      <td>53°32'59.9964''N; 8°34'59.9988''E</td>\n",
       "      <td>88.79999999999889</td>\n",
       "      <td>109.0</td>\n",
       "      <td>99.0</td>\n",
       "      <td>0.3668977429172354</td>\n",
       "      <td>NaN</td>\n",
       "    </tr>\n",
       "    <tr>\n",
       "      <th>197</th>\n",
       "      <td>2014-06-23</td>\n",
       "      <td>18:00:00</td>\n",
       "      <td>Bremerhaven, Germany</td>\n",
       "      <td>NT</td>\n",
       "      <td>Dolphinus delphis</td>\n",
       "      <td>53°32'59.9964''N; 8°34'59.9988''E</td>\n",
       "      <td>88.89999999999888</td>\n",
       "      <td>109.5</td>\n",
       "      <td>99.5</td>\n",
       "      <td>0.28897221922623695</td>\n",
       "      <td>NaN</td>\n",
       "    </tr>\n",
       "  </tbody>\n",
       "</table>\n",
       "</div>"
      ],
      "text/plain": [
       "           date      time                  Location Threatened status  \\\n",
       "1    2014-07-24  23:00:00      Bremerhaven, Germany                NT   \n",
       "2    2012-07-15  18:00:00  Bremerhaven,     Germany                EN   \n",
       "196  2013-11-15  21:00:00      Bremerhaven, Germany                LC   \n",
       "197  2014-06-23  18:00:00      Bremerhaven, Germany                NT   \n",
       "\n",
       "                species                            lat/lon     latitude (deg)  \\\n",
       "1    Tursiops truncatus  53°32'59.9964''N; 8°34'59.9988''E               69.3   \n",
       "2     Dolphinus delphis  53°32'59.9964''N; 8°34'59.9988''E               69,4   \n",
       "196  Tursiops truncatus  53°32'59.9964''N; 8°34'59.9988''E  88.79999999999889   \n",
       "197   Dolphinus delphis  53°32'59.9964''N; 8°34'59.9988''E  88.89999999999888   \n",
       "\n",
       "    lngitude (deg) water depth (cm) water temperature (degC)  Empty  \n",
       "1             11.5           -999.9       0.9956999240091375    NaN  \n",
       "2             12.0              NaN       0.9250612779786214    NaN  \n",
       "196          109.0             99.0       0.3668977429172354    NaN  \n",
       "197          109.5             99.5      0.28897221922623695    NaN  "
      ]
     },
     "execution_count": 11,
     "metadata": {},
     "output_type": "execute_result"
    }
   ],
   "source": [
    "### Remove row with aggregated statistics, which is last row here\n",
    "df = df.iloc[:-1 , :] # [row, column]\n",
    "pd.concat([df.head(2), df.tail(2)])"
   ]
  },
  {
   "cell_type": "markdown",
   "metadata": {
    "id": "cTi1dfv2MVaM"
   },
   "source": [
    "### 3.2. Data types\n",
    "\n",
    "* Are data types as expected?\n",
    "\n",
    "__Numeric data__\n",
    "* Columns must contain numbers only; exception see [quality flags](https://wiki.pangaea.de/wiki/Quality_flag), DO NOT USE FORMULAS (Excel) - cells with formulas have to be saved as number prior to submission\n",
    "* Fields without data should be left empty (and NOT filled with '-', 'n/a', 'NaN', -9999 or '*' etc.)."
   ]
  },
  {
   "cell_type": "code",
   "execution_count": 12,
   "metadata": {
    "colab": {
     "base_uri": "https://localhost:8080/"
    },
    "id": "hR9weW6RMYuw",
    "outputId": "452f9817-91d4-447a-e4ab-7619ff006d4a",
    "tags": []
   },
   "outputs": [
    {
     "name": "stdout",
     "output_type": "stream",
     "text": [
      "<class 'pandas.core.frame.DataFrame'>\n",
      "RangeIndex: 197 entries, 1 to 197\n",
      "Data columns (total 11 columns):\n",
      " #   Column                    Non-Null Count  Dtype  \n",
      "---  ------                    --------------  -----  \n",
      " 0   date                      197 non-null    object \n",
      " 1   time                      197 non-null    object \n",
      " 2   Location                  197 non-null    object \n",
      " 3   Threatened status         197 non-null    object \n",
      " 4   species                   197 non-null    object \n",
      " 5   lat/lon                   197 non-null    object \n",
      " 6   latitude (deg)            197 non-null    object \n",
      " 7   lngitude (deg)            197 non-null    object \n",
      " 8   water depth (cm)          196 non-null    object \n",
      " 9   water temperature (degC)  197 non-null    object \n",
      " 10  Empty                     0 non-null      float64\n",
      "dtypes: float64(1), object(10)\n",
      "memory usage: 17.1+ KB\n"
     ]
    }
   ],
   "source": [
    "### Check data types\n",
    "df.info()"
   ]
  },
  {
   "cell_type": "code",
   "execution_count": 13,
   "metadata": {
    "colab": {
     "base_uri": "https://localhost:8080/",
     "height": 208
    },
    "id": "MVQ6y1_Rx9zz",
    "outputId": "61eb13d3-3b0b-49c0-91b9-144296a69a5b",
    "tags": []
   },
   "outputs": [
    {
     "data": {
      "text/html": [
       "<div>\n",
       "<style scoped>\n",
       "    .dataframe tbody tr th:only-of-type {\n",
       "        vertical-align: middle;\n",
       "    }\n",
       "\n",
       "    .dataframe tbody tr th {\n",
       "        vertical-align: top;\n",
       "    }\n",
       "\n",
       "    .dataframe thead th {\n",
       "        text-align: right;\n",
       "    }\n",
       "</style>\n",
       "<table border=\"1\" class=\"dataframe\">\n",
       "  <thead>\n",
       "    <tr style=\"text-align: right;\">\n",
       "      <th></th>\n",
       "      <th>date</th>\n",
       "      <th>time</th>\n",
       "      <th>Location</th>\n",
       "      <th>Threatened status</th>\n",
       "      <th>species</th>\n",
       "      <th>lat/lon</th>\n",
       "      <th>latitude (deg)</th>\n",
       "      <th>lngitude (deg)</th>\n",
       "      <th>water depth (cm)</th>\n",
       "      <th>water temperature (degC)</th>\n",
       "      <th>Empty</th>\n",
       "    </tr>\n",
       "  </thead>\n",
       "  <tbody>\n",
       "    <tr>\n",
       "      <th>1</th>\n",
       "      <td>2014-07-24</td>\n",
       "      <td>23:00:00</td>\n",
       "      <td>Bremerhaven, Germany</td>\n",
       "      <td>NT</td>\n",
       "      <td>Tursiops truncatus</td>\n",
       "      <td>53°32'59.9964''N; 8°34'59.9988''E</td>\n",
       "      <td>69.3</td>\n",
       "      <td>11.5</td>\n",
       "      <td>-999.9</td>\n",
       "      <td>0.9956999240091375</td>\n",
       "      <td>NaN</td>\n",
       "    </tr>\n",
       "    <tr>\n",
       "      <th>2</th>\n",
       "      <td>2012-07-15</td>\n",
       "      <td>18:00:00</td>\n",
       "      <td>Bremerhaven,     Germany</td>\n",
       "      <td>EN</td>\n",
       "      <td>Dolphinus delphis</td>\n",
       "      <td>53°32'59.9964''N; 8°34'59.9988''E</td>\n",
       "      <td>69,4</td>\n",
       "      <td>12.0</td>\n",
       "      <td>NaN</td>\n",
       "      <td>0.9250612779786214</td>\n",
       "      <td>NaN</td>\n",
       "    </tr>\n",
       "  </tbody>\n",
       "</table>\n",
       "</div>"
      ],
      "text/plain": [
       "         date      time                  Location Threatened status  \\\n",
       "1  2014-07-24  23:00:00      Bremerhaven, Germany                NT   \n",
       "2  2012-07-15  18:00:00  Bremerhaven,     Germany                EN   \n",
       "\n",
       "              species                            lat/lon latitude (deg)  \\\n",
       "1  Tursiops truncatus  53°32'59.9964''N; 8°34'59.9988''E           69.3   \n",
       "2   Dolphinus delphis  53°32'59.9964''N; 8°34'59.9988''E           69,4   \n",
       "\n",
       "  lngitude (deg) water depth (cm) water temperature (degC)  Empty  \n",
       "1           11.5           -999.9       0.9956999240091375    NaN  \n",
       "2           12.0              NaN       0.9250612779786214    NaN  "
      ]
     },
     "execution_count": 13,
     "metadata": {},
     "output_type": "execute_result"
    }
   ],
   "source": [
    "df.head(2)"
   ]
  },
  {
   "cell_type": "markdown",
   "metadata": {
    "id": "GJPRrPFi1Um-"
   },
   "source": [
    "#### Remove all columns containing nothing"
   ]
  },
  {
   "cell_type": "code",
   "execution_count": 14,
   "metadata": {
    "id": "zf02UKuO1gEG",
    "tags": []
   },
   "outputs": [],
   "source": [
    "### Remove all columns containing nothing (just NaN)\n",
    "df.dropna(axis = 1, how = 'all', inplace = True)"
   ]
  },
  {
   "cell_type": "markdown",
   "metadata": {
    "id": "rh38rT7qxh7K"
   },
   "source": [
    "#### Remove ambigious missing values"
   ]
  },
  {
   "cell_type": "code",
   "execution_count": 15,
   "metadata": {
    "colab": {
     "base_uri": "https://localhost:8080/"
    },
    "id": "novPJkzTxppY",
    "outputId": "097993b1-729f-4450-a20a-8f8974f7a75b",
    "tags": []
   },
   "outputs": [],
   "source": [
    "### replace missing values with empty cells\n",
    "df['water depth (cm)'] = df['water depth (cm)'].str.replace('-999.9', '', regex=False)\n",
    "df['water depth (cm)'] = df['water depth (cm)'].str.replace('n/a', '', regex=False)"
   ]
  },
  {
   "cell_type": "markdown",
   "metadata": {
    "id": "34Y3TWSHPc8R"
   },
   "source": [
    "#### Check for comma separated values"
   ]
  },
  {
   "cell_type": "code",
   "execution_count": 16,
   "metadata": {
    "colab": {
     "base_uri": "https://localhost:8080/"
    },
    "id": "7LkRa0ThPfVS",
    "outputId": "905f97ce-1958-4006-f034-42d2f9e279b4",
    "tags": []
   },
   "outputs": [
    {
     "data": {
      "text/plain": [
       "array(['69.3', '69,4', '69.49999999999999', '69.59999999999998',\n",
       "       '69.69999999999997', '69.79999999999997', '69.89999999999996',\n",
       "       '69.99999999999996', '70.09999999999995', '70.19999999999995'],\n",
       "      dtype=object)"
      ]
     },
     "execution_count": 16,
     "metadata": {},
     "output_type": "execute_result"
    }
   ],
   "source": [
    "### List unique values\n",
    "df['latitude (deg)'].unique()[:10]"
   ]
  },
  {
   "cell_type": "code",
   "execution_count": 17,
   "metadata": {
    "id": "9YHq8M7gP46G",
    "tags": []
   },
   "outputs": [],
   "source": [
    "### Replace commas with dots\n",
    "def replace_comma(dataframe, char = \",\", new_char = \".\"):\n",
    "  return [re.sub(char, new_char, x) if isinstance(x, str) else x for x in dataframe]\n",
    "\n",
    "df['latitude (deg)'] = replace_comma(df['latitude (deg)'])"
   ]
  },
  {
   "cell_type": "markdown",
   "metadata": {
    "id": "iBpLdKkSPY7n"
   },
   "source": [
    "#### Convert to numeric"
   ]
  },
  {
   "cell_type": "code",
   "execution_count": 18,
   "metadata": {},
   "outputs": [],
   "source": [
    "### Convert specific column to numeric\n",
    "df['latitude (deg)'] = pd.to_numeric(df['latitude (deg)'])"
   ]
  },
  {
   "cell_type": "code",
   "execution_count": 19,
   "metadata": {
    "colab": {
     "base_uri": "https://localhost:8080/"
    },
    "id": "U2X82natMcnM",
    "outputId": "f72a8d22-2c08-4205-a372-0302001bf925",
    "tags": []
   },
   "outputs": [],
   "source": [
    "### OR: Convert multiple columns of dataframe to numeric\n",
    "df[df.columns[6:]] = df[df.columns[6:]].apply(pd.to_numeric)"
   ]
  },
  {
   "cell_type": "code",
   "execution_count": 20,
   "metadata": {},
   "outputs": [
    {
     "name": "stdout",
     "output_type": "stream",
     "text": [
      "<class 'pandas.core.frame.DataFrame'>\n",
      "RangeIndex: 197 entries, 1 to 197\n",
      "Data columns (total 10 columns):\n",
      " #   Column                    Non-Null Count  Dtype  \n",
      "---  ------                    --------------  -----  \n",
      " 0   date                      197 non-null    object \n",
      " 1   time                      197 non-null    object \n",
      " 2   Location                  197 non-null    object \n",
      " 3   Threatened status         197 non-null    object \n",
      " 4   species                   197 non-null    object \n",
      " 5   lat/lon                   197 non-null    object \n",
      " 6   latitude (deg)            197 non-null    float64\n",
      " 7   lngitude (deg)            197 non-null    float64\n",
      " 8   water depth (cm)          195 non-null    float64\n",
      " 9   water temperature (degC)  197 non-null    float64\n",
      "dtypes: float64(4), object(6)\n",
      "memory usage: 15.5+ KB\n"
     ]
    }
   ],
   "source": [
    "### Check data type\n",
    "df.info()"
   ]
  },
  {
   "cell_type": "markdown",
   "metadata": {
    "id": "Ii4WA0Nmzp3W"
   },
   "source": [
    "#### Remove leading and trailing white space"
   ]
  },
  {
   "cell_type": "code",
   "execution_count": 21,
   "metadata": {},
   "outputs": [
    {
     "data": {
      "text/plain": [
       "Index(['date', 'time', 'Location', 'Threatened status', 'species', 'lat/lon',\n",
       "       'latitude (deg)', 'lngitude (deg)', 'water depth (cm)',\n",
       "       'water temperature (degC)'],\n",
       "      dtype='object')"
      ]
     },
     "execution_count": 21,
     "metadata": {},
     "output_type": "execute_result"
    }
   ],
   "source": [
    "df.columns"
   ]
  },
  {
   "cell_type": "code",
   "execution_count": 22,
   "metadata": {
    "id": "2OffVZILzuFT",
    "tags": []
   },
   "outputs": [],
   "source": [
    "### Remove all leading and trailing white spaces \n",
    "cols = df.select_dtypes(['object']).columns\n",
    "df[cols] = df[cols].apply(lambda x: x.str.strip())\n",
    "\n",
    "### Optional: Remove double white spaces\n",
    "df.replace(r\"\\s\", r\" \", regex = True, inplace = True)"
   ]
  },
  {
   "cell_type": "markdown",
   "metadata": {
    "id": "JDvWpAZbrLiY"
   },
   "source": [
    "### 3.3. Date formatting\n",
    "Date/Time should be provided in the ISO-format (e.g. 1954-04-07T13:34:11) as coordinated universal time (UTC) <p>\n",
    "--> for local time it is better to use new \"local time\" column in addition to column providing UTC time in ISO-format"
   ]
  },
  {
   "cell_type": "code",
   "execution_count": 23,
   "metadata": {},
   "outputs": [
    {
     "data": {
      "text/html": [
       "<div>\n",
       "<style scoped>\n",
       "    .dataframe tbody tr th:only-of-type {\n",
       "        vertical-align: middle;\n",
       "    }\n",
       "\n",
       "    .dataframe tbody tr th {\n",
       "        vertical-align: top;\n",
       "    }\n",
       "\n",
       "    .dataframe thead th {\n",
       "        text-align: right;\n",
       "    }\n",
       "</style>\n",
       "<table border=\"1\" class=\"dataframe\">\n",
       "  <thead>\n",
       "    <tr style=\"text-align: right;\">\n",
       "      <th></th>\n",
       "      <th>date</th>\n",
       "      <th>time</th>\n",
       "      <th>Location</th>\n",
       "      <th>Threatened status</th>\n",
       "      <th>species</th>\n",
       "      <th>lat/lon</th>\n",
       "      <th>latitude (deg)</th>\n",
       "      <th>lngitude (deg)</th>\n",
       "      <th>water depth (cm)</th>\n",
       "      <th>water temperature (degC)</th>\n",
       "    </tr>\n",
       "  </thead>\n",
       "  <tbody>\n",
       "    <tr>\n",
       "      <th>1</th>\n",
       "      <td>2014-07-24</td>\n",
       "      <td>23:00:00</td>\n",
       "      <td>Bremerhaven, Germany</td>\n",
       "      <td>NT</td>\n",
       "      <td>Tursiops truncatus</td>\n",
       "      <td>53°32'59.9964''N; 8°34'59.9988''E</td>\n",
       "      <td>69.3</td>\n",
       "      <td>11.5</td>\n",
       "      <td>NaN</td>\n",
       "      <td>0.995700</td>\n",
       "    </tr>\n",
       "    <tr>\n",
       "      <th>2</th>\n",
       "      <td>2012-07-15</td>\n",
       "      <td>18:00:00</td>\n",
       "      <td>Bremerhaven,     Germany</td>\n",
       "      <td>EN</td>\n",
       "      <td>Dolphinus delphis</td>\n",
       "      <td>53°32'59.9964''N; 8°34'59.9988''E</td>\n",
       "      <td>69.4</td>\n",
       "      <td>12.0</td>\n",
       "      <td>NaN</td>\n",
       "      <td>0.925061</td>\n",
       "    </tr>\n",
       "  </tbody>\n",
       "</table>\n",
       "</div>"
      ],
      "text/plain": [
       "         date      time                  Location Threatened status  \\\n",
       "1  2014-07-24  23:00:00      Bremerhaven, Germany                NT   \n",
       "2  2012-07-15  18:00:00  Bremerhaven,     Germany                EN   \n",
       "\n",
       "              species                            lat/lon  latitude (deg)  \\\n",
       "1  Tursiops truncatus  53°32'59.9964''N; 8°34'59.9988''E            69.3   \n",
       "2   Dolphinus delphis  53°32'59.9964''N; 8°34'59.9988''E            69.4   \n",
       "\n",
       "   lngitude (deg)  water depth (cm)  water temperature (degC)  \n",
       "1            11.5               NaN                  0.995700  \n",
       "2            12.0               NaN                  0.925061  "
      ]
     },
     "execution_count": 23,
     "metadata": {},
     "output_type": "execute_result"
    }
   ],
   "source": [
    "df.head(2)"
   ]
  },
  {
   "cell_type": "markdown",
   "metadata": {
    "id": "i8bROrwUvI0n"
   },
   "source": [
    "#### Merge Date and Time and convert to PANGAEA format"
   ]
  },
  {
   "cell_type": "code",
   "execution_count": 24,
   "metadata": {},
   "outputs": [
    {
     "name": "stdout",
     "output_type": "stream",
     "text": [
      "<class 'pandas.core.frame.DataFrame'>\n",
      "RangeIndex: 197 entries, 1 to 197\n",
      "Data columns (total 10 columns):\n",
      " #   Column                    Non-Null Count  Dtype  \n",
      "---  ------                    --------------  -----  \n",
      " 0   date                      197 non-null    object \n",
      " 1   time                      197 non-null    object \n",
      " 2   Location                  197 non-null    object \n",
      " 3   Threatened status         197 non-null    object \n",
      " 4   species                   197 non-null    object \n",
      " 5   lat/lon                   197 non-null    object \n",
      " 6   latitude (deg)            197 non-null    float64\n",
      " 7   lngitude (deg)            197 non-null    float64\n",
      " 8   water depth (cm)          195 non-null    float64\n",
      " 9   water temperature (degC)  197 non-null    float64\n",
      "dtypes: float64(4), object(6)\n",
      "memory usage: 15.5+ KB\n"
     ]
    }
   ],
   "source": [
    "df.info()"
   ]
  },
  {
   "cell_type": "code",
   "execution_count": 25,
   "metadata": {
    "colab": {
     "base_uri": "https://localhost:8080/",
     "height": 354
    },
    "id": "fDURUytQrYa4",
    "outputId": "797cd12f-10ac-4431-c6d7-7917ab130225",
    "tags": []
   },
   "outputs": [
    {
     "data": {
      "text/html": [
       "<div>\n",
       "<style scoped>\n",
       "    .dataframe tbody tr th:only-of-type {\n",
       "        vertical-align: middle;\n",
       "    }\n",
       "\n",
       "    .dataframe tbody tr th {\n",
       "        vertical-align: top;\n",
       "    }\n",
       "\n",
       "    .dataframe thead th {\n",
       "        text-align: right;\n",
       "    }\n",
       "</style>\n",
       "<table border=\"1\" class=\"dataframe\">\n",
       "  <thead>\n",
       "    <tr style=\"text-align: right;\">\n",
       "      <th></th>\n",
       "      <th>date</th>\n",
       "      <th>time</th>\n",
       "      <th>Location</th>\n",
       "      <th>Threatened status</th>\n",
       "      <th>species</th>\n",
       "      <th>lat/lon</th>\n",
       "      <th>latitude (deg)</th>\n",
       "      <th>lngitude (deg)</th>\n",
       "      <th>water depth (cm)</th>\n",
       "      <th>water temperature (degC)</th>\n",
       "      <th>date/time</th>\n",
       "    </tr>\n",
       "  </thead>\n",
       "  <tbody>\n",
       "    <tr>\n",
       "      <th>1</th>\n",
       "      <td>2014-07-24</td>\n",
       "      <td>23:00:00</td>\n",
       "      <td>Bremerhaven, Germany</td>\n",
       "      <td>NT</td>\n",
       "      <td>Tursiops truncatus</td>\n",
       "      <td>53°32'59.9964''N; 8°34'59.9988''E</td>\n",
       "      <td>69.3</td>\n",
       "      <td>11.5</td>\n",
       "      <td>NaN</td>\n",
       "      <td>0.995700</td>\n",
       "      <td>2014-07-24 23:00:00</td>\n",
       "    </tr>\n",
       "    <tr>\n",
       "      <th>2</th>\n",
       "      <td>2012-07-15</td>\n",
       "      <td>18:00:00</td>\n",
       "      <td>Bremerhaven,     Germany</td>\n",
       "      <td>EN</td>\n",
       "      <td>Dolphinus delphis</td>\n",
       "      <td>53°32'59.9964''N; 8°34'59.9988''E</td>\n",
       "      <td>69.4</td>\n",
       "      <td>12.0</td>\n",
       "      <td>NaN</td>\n",
       "      <td>0.925061</td>\n",
       "      <td>2012-07-15 18:00:00</td>\n",
       "    </tr>\n",
       "  </tbody>\n",
       "</table>\n",
       "</div>"
      ],
      "text/plain": [
       "         date      time                  Location Threatened status  \\\n",
       "1  2014-07-24  23:00:00      Bremerhaven, Germany                NT   \n",
       "2  2012-07-15  18:00:00  Bremerhaven,     Germany                EN   \n",
       "\n",
       "              species                            lat/lon  latitude (deg)  \\\n",
       "1  Tursiops truncatus  53°32'59.9964''N; 8°34'59.9988''E            69.3   \n",
       "2   Dolphinus delphis  53°32'59.9964''N; 8°34'59.9988''E            69.4   \n",
       "\n",
       "   lngitude (deg)  water depth (cm)  water temperature (degC)  \\\n",
       "1            11.5               NaN                  0.995700   \n",
       "2            12.0               NaN                  0.925061   \n",
       "\n",
       "            date/time  \n",
       "1 2014-07-24 23:00:00  \n",
       "2 2012-07-15 18:00:00  "
      ]
     },
     "execution_count": 25,
     "metadata": {},
     "output_type": "execute_result"
    }
   ],
   "source": [
    "### Join date and time\n",
    "df['date/time'] = pd.to_datetime(df['date'] + ' ' + df['time'])\n",
    "\n",
    "df.head(2)"
   ]
  },
  {
   "cell_type": "code",
   "execution_count": 26,
   "metadata": {},
   "outputs": [
    {
     "data": {
      "text/html": [
       "<div>\n",
       "<style scoped>\n",
       "    .dataframe tbody tr th:only-of-type {\n",
       "        vertical-align: middle;\n",
       "    }\n",
       "\n",
       "    .dataframe tbody tr th {\n",
       "        vertical-align: top;\n",
       "    }\n",
       "\n",
       "    .dataframe thead th {\n",
       "        text-align: right;\n",
       "    }\n",
       "</style>\n",
       "<table border=\"1\" class=\"dataframe\">\n",
       "  <thead>\n",
       "    <tr style=\"text-align: right;\">\n",
       "      <th></th>\n",
       "      <th>date</th>\n",
       "      <th>time</th>\n",
       "      <th>Location</th>\n",
       "      <th>Threatened status</th>\n",
       "      <th>species</th>\n",
       "      <th>lat/lon</th>\n",
       "      <th>latitude (deg)</th>\n",
       "      <th>lngitude (deg)</th>\n",
       "      <th>water depth (cm)</th>\n",
       "      <th>water temperature (degC)</th>\n",
       "      <th>date/time</th>\n",
       "    </tr>\n",
       "  </thead>\n",
       "  <tbody>\n",
       "    <tr>\n",
       "      <th>1</th>\n",
       "      <td>2014-07-24</td>\n",
       "      <td>23:00:00</td>\n",
       "      <td>Bremerhaven, Germany</td>\n",
       "      <td>NT</td>\n",
       "      <td>Tursiops truncatus</td>\n",
       "      <td>53°32'59.9964''N; 8°34'59.9988''E</td>\n",
       "      <td>69.3</td>\n",
       "      <td>11.5</td>\n",
       "      <td>NaN</td>\n",
       "      <td>0.995700</td>\n",
       "      <td>2014-07-24T23:00:00</td>\n",
       "    </tr>\n",
       "    <tr>\n",
       "      <th>2</th>\n",
       "      <td>2012-07-15</td>\n",
       "      <td>18:00:00</td>\n",
       "      <td>Bremerhaven,     Germany</td>\n",
       "      <td>EN</td>\n",
       "      <td>Dolphinus delphis</td>\n",
       "      <td>53°32'59.9964''N; 8°34'59.9988''E</td>\n",
       "      <td>69.4</td>\n",
       "      <td>12.0</td>\n",
       "      <td>NaN</td>\n",
       "      <td>0.925061</td>\n",
       "      <td>2012-07-15T18:00:00</td>\n",
       "    </tr>\n",
       "  </tbody>\n",
       "</table>\n",
       "</div>"
      ],
      "text/plain": [
       "         date      time                  Location Threatened status  \\\n",
       "1  2014-07-24  23:00:00      Bremerhaven, Germany                NT   \n",
       "2  2012-07-15  18:00:00  Bremerhaven,     Germany                EN   \n",
       "\n",
       "              species                            lat/lon  latitude (deg)  \\\n",
       "1  Tursiops truncatus  53°32'59.9964''N; 8°34'59.9988''E            69.3   \n",
       "2   Dolphinus delphis  53°32'59.9964''N; 8°34'59.9988''E            69.4   \n",
       "\n",
       "   lngitude (deg)  water depth (cm)  water temperature (degC)  \\\n",
       "1            11.5               NaN                  0.995700   \n",
       "2            12.0               NaN                  0.925061   \n",
       "\n",
       "             date/time  \n",
       "1  2014-07-24T23:00:00  \n",
       "2  2012-07-15T18:00:00  "
      ]
     },
     "execution_count": 26,
     "metadata": {},
     "output_type": "execute_result"
    }
   ],
   "source": [
    "### Convert to pangaea standard time format\n",
    "df['date/time'] = df['date/time'].dt.strftime('%Y-%m-%dT%H:%M:%S')\n",
    "\n",
    "df.head(2)"
   ]
  },
  {
   "cell_type": "code",
   "execution_count": 27,
   "metadata": {},
   "outputs": [
    {
     "data": {
      "text/html": [
       "<div>\n",
       "<style scoped>\n",
       "    .dataframe tbody tr th:only-of-type {\n",
       "        vertical-align: middle;\n",
       "    }\n",
       "\n",
       "    .dataframe tbody tr th {\n",
       "        vertical-align: top;\n",
       "    }\n",
       "\n",
       "    .dataframe thead th {\n",
       "        text-align: right;\n",
       "    }\n",
       "</style>\n",
       "<table border=\"1\" class=\"dataframe\">\n",
       "  <thead>\n",
       "    <tr style=\"text-align: right;\">\n",
       "      <th></th>\n",
       "      <th>Location</th>\n",
       "      <th>Threatened status</th>\n",
       "      <th>species</th>\n",
       "      <th>lat/lon</th>\n",
       "      <th>latitude (deg)</th>\n",
       "      <th>lngitude (deg)</th>\n",
       "      <th>water depth (cm)</th>\n",
       "      <th>water temperature (degC)</th>\n",
       "      <th>date/time</th>\n",
       "    </tr>\n",
       "  </thead>\n",
       "  <tbody>\n",
       "    <tr>\n",
       "      <th>1</th>\n",
       "      <td>Bremerhaven, Germany</td>\n",
       "      <td>NT</td>\n",
       "      <td>Tursiops truncatus</td>\n",
       "      <td>53°32'59.9964''N; 8°34'59.9988''E</td>\n",
       "      <td>69.3</td>\n",
       "      <td>11.5</td>\n",
       "      <td>NaN</td>\n",
       "      <td>0.995700</td>\n",
       "      <td>2014-07-24T23:00:00</td>\n",
       "    </tr>\n",
       "    <tr>\n",
       "      <th>2</th>\n",
       "      <td>Bremerhaven,     Germany</td>\n",
       "      <td>EN</td>\n",
       "      <td>Dolphinus delphis</td>\n",
       "      <td>53°32'59.9964''N; 8°34'59.9988''E</td>\n",
       "      <td>69.4</td>\n",
       "      <td>12.0</td>\n",
       "      <td>NaN</td>\n",
       "      <td>0.925061</td>\n",
       "      <td>2012-07-15T18:00:00</td>\n",
       "    </tr>\n",
       "  </tbody>\n",
       "</table>\n",
       "</div>"
      ],
      "text/plain": [
       "                   Location Threatened status             species  \\\n",
       "1      Bremerhaven, Germany                NT  Tursiops truncatus   \n",
       "2  Bremerhaven,     Germany                EN   Dolphinus delphis   \n",
       "\n",
       "                             lat/lon  latitude (deg)  lngitude (deg)  \\\n",
       "1  53°32'59.9964''N; 8°34'59.9988''E            69.3            11.5   \n",
       "2  53°32'59.9964''N; 8°34'59.9988''E            69.4            12.0   \n",
       "\n",
       "   water depth (cm)  water temperature (degC)            date/time  \n",
       "1               NaN                  0.995700  2014-07-24T23:00:00  \n",
       "2               NaN                  0.925061  2012-07-15T18:00:00  "
      ]
     },
     "execution_count": 27,
     "metadata": {},
     "output_type": "execute_result"
    }
   ],
   "source": [
    "### Remove redundant time column\n",
    "df = df.drop(['date','time'], axis = 1)\n",
    "\n",
    "df.head(2)"
   ]
  },
  {
   "cell_type": "markdown",
   "metadata": {
    "id": "ypPvlcU79Xqs"
   },
   "source": [
    "#### Convert from degrees to decimal format\n",
    "Note: decimal degree (-65.1234) (S and W are negative, projection WGS84)"
   ]
  },
  {
   "cell_type": "markdown",
   "metadata": {
    "id": "XMCVru6zUoW5"
   },
   "source": [
    "##### First separate latitude and longitude into individual columns\n",
    "Note: Multiple values separated by ';', '-', '±', '()' (ranges, values with errors, uncertainties, or alternative values in brackets) within a single cell should be avoided"
   ]
  },
  {
   "cell_type": "code",
   "execution_count": 28,
   "metadata": {},
   "outputs": [
    {
     "data": {
      "text/html": [
       "<div>\n",
       "<style scoped>\n",
       "    .dataframe tbody tr th:only-of-type {\n",
       "        vertical-align: middle;\n",
       "    }\n",
       "\n",
       "    .dataframe tbody tr th {\n",
       "        vertical-align: top;\n",
       "    }\n",
       "\n",
       "    .dataframe thead th {\n",
       "        text-align: right;\n",
       "    }\n",
       "</style>\n",
       "<table border=\"1\" class=\"dataframe\">\n",
       "  <thead>\n",
       "    <tr style=\"text-align: right;\">\n",
       "      <th></th>\n",
       "      <th>Location</th>\n",
       "      <th>Threatened status</th>\n",
       "      <th>species</th>\n",
       "      <th>lat/lon</th>\n",
       "      <th>latitude (deg)</th>\n",
       "      <th>lngitude (deg)</th>\n",
       "      <th>water depth (cm)</th>\n",
       "      <th>water temperature (degC)</th>\n",
       "      <th>date/time</th>\n",
       "    </tr>\n",
       "  </thead>\n",
       "  <tbody>\n",
       "    <tr>\n",
       "      <th>1</th>\n",
       "      <td>Bremerhaven, Germany</td>\n",
       "      <td>NT</td>\n",
       "      <td>Tursiops truncatus</td>\n",
       "      <td>53°32'59.9964''N; 8°34'59.9988''E</td>\n",
       "      <td>69.3</td>\n",
       "      <td>11.5</td>\n",
       "      <td>NaN</td>\n",
       "      <td>0.995700</td>\n",
       "      <td>2014-07-24T23:00:00</td>\n",
       "    </tr>\n",
       "    <tr>\n",
       "      <th>2</th>\n",
       "      <td>Bremerhaven,     Germany</td>\n",
       "      <td>EN</td>\n",
       "      <td>Dolphinus delphis</td>\n",
       "      <td>53°32'59.9964''N; 8°34'59.9988''E</td>\n",
       "      <td>69.4</td>\n",
       "      <td>12.0</td>\n",
       "      <td>NaN</td>\n",
       "      <td>0.925061</td>\n",
       "      <td>2012-07-15T18:00:00</td>\n",
       "    </tr>\n",
       "  </tbody>\n",
       "</table>\n",
       "</div>"
      ],
      "text/plain": [
       "                   Location Threatened status             species  \\\n",
       "1      Bremerhaven, Germany                NT  Tursiops truncatus   \n",
       "2  Bremerhaven,     Germany                EN   Dolphinus delphis   \n",
       "\n",
       "                             lat/lon  latitude (deg)  lngitude (deg)  \\\n",
       "1  53°32'59.9964''N; 8°34'59.9988''E            69.3            11.5   \n",
       "2  53°32'59.9964''N; 8°34'59.9988''E            69.4            12.0   \n",
       "\n",
       "   water depth (cm)  water temperature (degC)            date/time  \n",
       "1               NaN                  0.995700  2014-07-24T23:00:00  \n",
       "2               NaN                  0.925061  2012-07-15T18:00:00  "
      ]
     },
     "execution_count": 28,
     "metadata": {},
     "output_type": "execute_result"
    }
   ],
   "source": [
    "df.head(2)"
   ]
  },
  {
   "cell_type": "code",
   "execution_count": 29,
   "metadata": {},
   "outputs": [
    {
     "data": {
      "text/html": [
       "<div>\n",
       "<style scoped>\n",
       "    .dataframe tbody tr th:only-of-type {\n",
       "        vertical-align: middle;\n",
       "    }\n",
       "\n",
       "    .dataframe tbody tr th {\n",
       "        vertical-align: top;\n",
       "    }\n",
       "\n",
       "    .dataframe thead th {\n",
       "        text-align: right;\n",
       "    }\n",
       "</style>\n",
       "<table border=\"1\" class=\"dataframe\">\n",
       "  <thead>\n",
       "    <tr style=\"text-align: right;\">\n",
       "      <th></th>\n",
       "      <th>Location</th>\n",
       "      <th>Threatened status</th>\n",
       "      <th>species</th>\n",
       "      <th>lat/lon</th>\n",
       "      <th>latitude (deg)</th>\n",
       "      <th>lngitude (deg)</th>\n",
       "      <th>water depth (cm)</th>\n",
       "      <th>water temperature (degC)</th>\n",
       "      <th>date/time</th>\n",
       "      <th>lat</th>\n",
       "      <th>lon</th>\n",
       "    </tr>\n",
       "  </thead>\n",
       "  <tbody>\n",
       "    <tr>\n",
       "      <th>1</th>\n",
       "      <td>Bremerhaven, Germany</td>\n",
       "      <td>NT</td>\n",
       "      <td>Tursiops truncatus</td>\n",
       "      <td>53°32'59.9964''N; 8°34'59.9988''E</td>\n",
       "      <td>69.3</td>\n",
       "      <td>11.5</td>\n",
       "      <td>NaN</td>\n",
       "      <td>0.995700</td>\n",
       "      <td>2014-07-24T23:00:00</td>\n",
       "      <td>53°32'59.9964''N</td>\n",
       "      <td>8°34'59.9988''E</td>\n",
       "    </tr>\n",
       "    <tr>\n",
       "      <th>2</th>\n",
       "      <td>Bremerhaven,     Germany</td>\n",
       "      <td>EN</td>\n",
       "      <td>Dolphinus delphis</td>\n",
       "      <td>53°32'59.9964''N; 8°34'59.9988''E</td>\n",
       "      <td>69.4</td>\n",
       "      <td>12.0</td>\n",
       "      <td>NaN</td>\n",
       "      <td>0.925061</td>\n",
       "      <td>2012-07-15T18:00:00</td>\n",
       "      <td>53°32'59.9964''N</td>\n",
       "      <td>8°34'59.9988''E</td>\n",
       "    </tr>\n",
       "  </tbody>\n",
       "</table>\n",
       "</div>"
      ],
      "text/plain": [
       "                   Location Threatened status             species  \\\n",
       "1      Bremerhaven, Germany                NT  Tursiops truncatus   \n",
       "2  Bremerhaven,     Germany                EN   Dolphinus delphis   \n",
       "\n",
       "                             lat/lon  latitude (deg)  lngitude (deg)  \\\n",
       "1  53°32'59.9964''N; 8°34'59.9988''E            69.3            11.5   \n",
       "2  53°32'59.9964''N; 8°34'59.9988''E            69.4            12.0   \n",
       "\n",
       "   water depth (cm)  water temperature (degC)            date/time  \\\n",
       "1               NaN                  0.995700  2014-07-24T23:00:00   \n",
       "2               NaN                  0.925061  2012-07-15T18:00:00   \n",
       "\n",
       "                lat               lon  \n",
       "1  53°32'59.9964''N   8°34'59.9988''E  \n",
       "2  53°32'59.9964''N   8°34'59.9988''E  "
      ]
     },
     "execution_count": 29,
     "metadata": {},
     "output_type": "execute_result"
    }
   ],
   "source": [
    "### Split cell by ; seperator\n",
    "df['lat'] = [x.split(\";\")[0] for x in  df['lat/lon']]\n",
    "df['lon'] = [x.split(\";\")[1] for x in  df['lat/lon']]\n",
    "\n",
    "df.head(2)"
   ]
  },
  {
   "cell_type": "code",
   "execution_count": 30,
   "metadata": {
    "colab": {
     "base_uri": "https://localhost:8080/",
     "height": 208
    },
    "id": "cXPsicg2UvYu",
    "outputId": "d70cb668-2a7f-49e9-87ee-e61cbb51557e",
    "tags": []
   },
   "outputs": [
    {
     "data": {
      "text/html": [
       "<div>\n",
       "<style scoped>\n",
       "    .dataframe tbody tr th:only-of-type {\n",
       "        vertical-align: middle;\n",
       "    }\n",
       "\n",
       "    .dataframe tbody tr th {\n",
       "        vertical-align: top;\n",
       "    }\n",
       "\n",
       "    .dataframe thead th {\n",
       "        text-align: right;\n",
       "    }\n",
       "</style>\n",
       "<table border=\"1\" class=\"dataframe\">\n",
       "  <thead>\n",
       "    <tr style=\"text-align: right;\">\n",
       "      <th></th>\n",
       "      <th>Location</th>\n",
       "      <th>Threatened status</th>\n",
       "      <th>species</th>\n",
       "      <th>latitude (deg)</th>\n",
       "      <th>lngitude (deg)</th>\n",
       "      <th>water depth (cm)</th>\n",
       "      <th>water temperature (degC)</th>\n",
       "      <th>date/time</th>\n",
       "      <th>lat</th>\n",
       "      <th>lon</th>\n",
       "    </tr>\n",
       "  </thead>\n",
       "  <tbody>\n",
       "    <tr>\n",
       "      <th>1</th>\n",
       "      <td>Bremerhaven, Germany</td>\n",
       "      <td>NT</td>\n",
       "      <td>Tursiops truncatus</td>\n",
       "      <td>69.3</td>\n",
       "      <td>11.5</td>\n",
       "      <td>NaN</td>\n",
       "      <td>0.995700</td>\n",
       "      <td>2014-07-24T23:00:00</td>\n",
       "      <td>53°32'59.9964''N</td>\n",
       "      <td>8°34'59.9988''E</td>\n",
       "    </tr>\n",
       "    <tr>\n",
       "      <th>2</th>\n",
       "      <td>Bremerhaven,     Germany</td>\n",
       "      <td>EN</td>\n",
       "      <td>Dolphinus delphis</td>\n",
       "      <td>69.4</td>\n",
       "      <td>12.0</td>\n",
       "      <td>NaN</td>\n",
       "      <td>0.925061</td>\n",
       "      <td>2012-07-15T18:00:00</td>\n",
       "      <td>53°32'59.9964''N</td>\n",
       "      <td>8°34'59.9988''E</td>\n",
       "    </tr>\n",
       "  </tbody>\n",
       "</table>\n",
       "</div>"
      ],
      "text/plain": [
       "                   Location Threatened status             species  \\\n",
       "1      Bremerhaven, Germany                NT  Tursiops truncatus   \n",
       "2  Bremerhaven,     Germany                EN   Dolphinus delphis   \n",
       "\n",
       "   latitude (deg)  lngitude (deg)  water depth (cm)  water temperature (degC)  \\\n",
       "1            69.3            11.5               NaN                  0.995700   \n",
       "2            69.4            12.0               NaN                  0.925061   \n",
       "\n",
       "             date/time               lat               lon  \n",
       "1  2014-07-24T23:00:00  53°32'59.9964''N   8°34'59.9988''E  \n",
       "2  2012-07-15T18:00:00  53°32'59.9964''N   8°34'59.9988''E  "
      ]
     },
     "execution_count": 30,
     "metadata": {},
     "output_type": "execute_result"
    }
   ],
   "source": [
    "### Remove old lat/lon column\n",
    "df = df.drop('lat/lon', axis = 1)\n",
    "\n",
    "df.head(2)"
   ]
  },
  {
   "cell_type": "markdown",
   "metadata": {
    "id": "oO36Z46eVgBm"
   },
   "source": [
    "Then convert from degrees to decimal format"
   ]
  },
  {
   "cell_type": "code",
   "execution_count": 31,
   "metadata": {
    "colab": {
     "base_uri": "https://localhost:8080/",
     "height": 354
    },
    "id": "nGQzEC9H9aGk",
    "outputId": "6f914b30-a59d-4ee7-a77c-21d416c2ec87",
    "tags": []
   },
   "outputs": [],
   "source": [
    "### Function to convert latitude and longitude from degrees to decimal units\n",
    "def geo_decimal(latitude, longitude, format = \"d%°%m%'%S%''%H\", decimals = 6):\n",
    "    lat_dec = [round(string2latlon(lat, long, format).lat.decimal_degree, decimals) for lat, long in zip(latitude, longitude)]\n",
    "    long_dec = [round(string2latlon(lat, long, format).lon.decimal_degree, decimals) for lat, long in zip(latitude, longitude)]\n",
    "\n",
    "    return lat_dec, long_dec\n",
    "    "
   ]
  },
  {
   "cell_type": "code",
   "execution_count": 32,
   "metadata": {},
   "outputs": [
    {
     "data": {
      "text/html": [
       "<div>\n",
       "<style scoped>\n",
       "    .dataframe tbody tr th:only-of-type {\n",
       "        vertical-align: middle;\n",
       "    }\n",
       "\n",
       "    .dataframe tbody tr th {\n",
       "        vertical-align: top;\n",
       "    }\n",
       "\n",
       "    .dataframe thead th {\n",
       "        text-align: right;\n",
       "    }\n",
       "</style>\n",
       "<table border=\"1\" class=\"dataframe\">\n",
       "  <thead>\n",
       "    <tr style=\"text-align: right;\">\n",
       "      <th></th>\n",
       "      <th>Location</th>\n",
       "      <th>Threatened status</th>\n",
       "      <th>species</th>\n",
       "      <th>latitude (deg)</th>\n",
       "      <th>lngitude (deg)</th>\n",
       "      <th>water depth (cm)</th>\n",
       "      <th>water temperature (degC)</th>\n",
       "      <th>date/time</th>\n",
       "      <th>lat</th>\n",
       "      <th>lon</th>\n",
       "    </tr>\n",
       "  </thead>\n",
       "  <tbody>\n",
       "    <tr>\n",
       "      <th>1</th>\n",
       "      <td>Bremerhaven, Germany</td>\n",
       "      <td>NT</td>\n",
       "      <td>Tursiops truncatus</td>\n",
       "      <td>69.3</td>\n",
       "      <td>11.5</td>\n",
       "      <td>NaN</td>\n",
       "      <td>0.995700</td>\n",
       "      <td>2014-07-24T23:00:00</td>\n",
       "      <td>53.549999</td>\n",
       "      <td>8.583333</td>\n",
       "    </tr>\n",
       "    <tr>\n",
       "      <th>2</th>\n",
       "      <td>Bremerhaven,     Germany</td>\n",
       "      <td>EN</td>\n",
       "      <td>Dolphinus delphis</td>\n",
       "      <td>69.4</td>\n",
       "      <td>12.0</td>\n",
       "      <td>NaN</td>\n",
       "      <td>0.925061</td>\n",
       "      <td>2012-07-15T18:00:00</td>\n",
       "      <td>53.549999</td>\n",
       "      <td>8.583333</td>\n",
       "    </tr>\n",
       "  </tbody>\n",
       "</table>\n",
       "</div>"
      ],
      "text/plain": [
       "                   Location Threatened status             species  \\\n",
       "1      Bremerhaven, Germany                NT  Tursiops truncatus   \n",
       "2  Bremerhaven,     Germany                EN   Dolphinus delphis   \n",
       "\n",
       "   latitude (deg)  lngitude (deg)  water depth (cm)  water temperature (degC)  \\\n",
       "1            69.3            11.5               NaN                  0.995700   \n",
       "2            69.4            12.0               NaN                  0.925061   \n",
       "\n",
       "             date/time        lat       lon  \n",
       "1  2014-07-24T23:00:00  53.549999  8.583333  \n",
       "2  2012-07-15T18:00:00  53.549999  8.583333  "
      ]
     },
     "execution_count": 32,
     "metadata": {},
     "output_type": "execute_result"
    }
   ],
   "source": [
    "### call geo_decimal function\n",
    "df['lat'], df['lon'] =  geo_decimal(df['lat'], df['lon'], format = \"d%°%m%'%S%''%H\")\n",
    "\n",
    "df.head(2)"
   ]
  },
  {
   "cell_type": "markdown",
   "metadata": {
    "id": "091uwHIQV9UV"
   },
   "source": [
    "### 3.4. Spelling"
   ]
  },
  {
   "cell_type": "markdown",
   "metadata": {
    "id": "CyppUtQWaMFr"
   },
   "source": [
    "#### Spell out abbreviations"
   ]
  },
  {
   "cell_type": "code",
   "execution_count": 33,
   "metadata": {
    "colab": {
     "base_uri": "https://localhost:8080/",
     "height": 354
    },
    "id": "5WNR67MbYapq",
    "outputId": "00155e08-1142-43af-ce14-cabb56e558c8"
   },
   "outputs": [
    {
     "data": {
      "text/plain": [
       "array(['NT', 'EN', 'EX', 'LC'], dtype=object)"
      ]
     },
     "execution_count": 33,
     "metadata": {},
     "output_type": "execute_result"
    }
   ],
   "source": [
    "### What are the abbreviations\n",
    "df['Threatened status'].unique()"
   ]
  },
  {
   "cell_type": "code",
   "execution_count": 34,
   "metadata": {},
   "outputs": [],
   "source": [
    "### Create list with abbreviations\n",
    "abbreviated = ('LC', 'NT', 'EN', 'EX')"
   ]
  },
  {
   "cell_type": "code",
   "execution_count": 35,
   "metadata": {},
   "outputs": [],
   "source": [
    "### Create list with full names\n",
    "spelled_out = ('Least Concern', 'Near Threatened', 'Endangered', 'Extinct in the Wild')"
   ]
  },
  {
   "cell_type": "code",
   "execution_count": 36,
   "metadata": {},
   "outputs": [
    {
     "data": {
      "text/html": [
       "<div>\n",
       "<style scoped>\n",
       "    .dataframe tbody tr th:only-of-type {\n",
       "        vertical-align: middle;\n",
       "    }\n",
       "\n",
       "    .dataframe tbody tr th {\n",
       "        vertical-align: top;\n",
       "    }\n",
       "\n",
       "    .dataframe thead th {\n",
       "        text-align: right;\n",
       "    }\n",
       "</style>\n",
       "<table border=\"1\" class=\"dataframe\">\n",
       "  <thead>\n",
       "    <tr style=\"text-align: right;\">\n",
       "      <th></th>\n",
       "      <th>Location</th>\n",
       "      <th>Threatened status</th>\n",
       "      <th>species</th>\n",
       "      <th>latitude (deg)</th>\n",
       "      <th>lngitude (deg)</th>\n",
       "      <th>water depth (cm)</th>\n",
       "      <th>water temperature (degC)</th>\n",
       "      <th>date/time</th>\n",
       "      <th>lat</th>\n",
       "      <th>lon</th>\n",
       "    </tr>\n",
       "  </thead>\n",
       "  <tbody>\n",
       "    <tr>\n",
       "      <th>1</th>\n",
       "      <td>Bremerhaven, Germany</td>\n",
       "      <td>Near Threatened</td>\n",
       "      <td>Tursiops truncatus</td>\n",
       "      <td>69.3</td>\n",
       "      <td>11.5</td>\n",
       "      <td>NaN</td>\n",
       "      <td>0.995700</td>\n",
       "      <td>2014-07-24T23:00:00</td>\n",
       "      <td>53.549999</td>\n",
       "      <td>8.583333</td>\n",
       "    </tr>\n",
       "    <tr>\n",
       "      <th>2</th>\n",
       "      <td>Bremerhaven,     Germany</td>\n",
       "      <td>Endangered</td>\n",
       "      <td>Dolphinus delphis</td>\n",
       "      <td>69.4</td>\n",
       "      <td>12.0</td>\n",
       "      <td>NaN</td>\n",
       "      <td>0.925061</td>\n",
       "      <td>2012-07-15T18:00:00</td>\n",
       "      <td>53.549999</td>\n",
       "      <td>8.583333</td>\n",
       "    </tr>\n",
       "    <tr>\n",
       "      <th>3</th>\n",
       "      <td>Bremerhaven, Germany</td>\n",
       "      <td>Extinct in the Wild</td>\n",
       "      <td>Stenella coeruleoalba</td>\n",
       "      <td>69.5</td>\n",
       "      <td>12.5</td>\n",
       "      <td>2.5</td>\n",
       "      <td>0.570743</td>\n",
       "      <td>2013-03-03T02:00:00</td>\n",
       "      <td>53.549999</td>\n",
       "      <td>8.583333</td>\n",
       "    </tr>\n",
       "    <tr>\n",
       "      <th>4</th>\n",
       "      <td>Bremerhaven, Germany</td>\n",
       "      <td>Least Concern</td>\n",
       "      <td>Tursiops truncatus</td>\n",
       "      <td>69.6</td>\n",
       "      <td>13.0</td>\n",
       "      <td>3.0</td>\n",
       "      <td>0.148282</td>\n",
       "      <td>2012-02-10T09:00:00</td>\n",
       "      <td>53.549999</td>\n",
       "      <td>8.583333</td>\n",
       "    </tr>\n",
       "    <tr>\n",
       "      <th>5</th>\n",
       "      <td>Bremerhaven, Germany</td>\n",
       "      <td>Near Threatened</td>\n",
       "      <td>Dolphinus delphis</td>\n",
       "      <td>69.7</td>\n",
       "      <td>13.5</td>\n",
       "      <td>3.5</td>\n",
       "      <td>0.912003</td>\n",
       "      <td>2016-05-03T12:00:00</td>\n",
       "      <td>53.549999</td>\n",
       "      <td>8.583333</td>\n",
       "    </tr>\n",
       "  </tbody>\n",
       "</table>\n",
       "</div>"
      ],
      "text/plain": [
       "                   Location    Threatened status                species  \\\n",
       "1      Bremerhaven, Germany      Near Threatened     Tursiops truncatus   \n",
       "2  Bremerhaven,     Germany           Endangered      Dolphinus delphis   \n",
       "3      Bremerhaven, Germany  Extinct in the Wild  Stenella coeruleoalba   \n",
       "4      Bremerhaven, Germany        Least Concern     Tursiops truncatus   \n",
       "5      Bremerhaven, Germany      Near Threatened      Dolphinus delphis   \n",
       "\n",
       "   latitude (deg)  lngitude (deg)  water depth (cm)  water temperature (degC)  \\\n",
       "1            69.3            11.5               NaN                  0.995700   \n",
       "2            69.4            12.0               NaN                  0.925061   \n",
       "3            69.5            12.5               2.5                  0.570743   \n",
       "4            69.6            13.0               3.0                  0.148282   \n",
       "5            69.7            13.5               3.5                  0.912003   \n",
       "\n",
       "             date/time        lat       lon  \n",
       "1  2014-07-24T23:00:00  53.549999  8.583333  \n",
       "2  2012-07-15T18:00:00  53.549999  8.583333  \n",
       "3  2013-03-03T02:00:00  53.549999  8.583333  \n",
       "4  2012-02-10T09:00:00  53.549999  8.583333  \n",
       "5  2016-05-03T12:00:00  53.549999  8.583333  "
      ]
     },
     "execution_count": 36,
     "metadata": {},
     "output_type": "execute_result"
    }
   ],
   "source": [
    "### Replace the values in 'Name' column with the dictionary\n",
    "df = df.replace({\"Threatened status\": dict(zip(abbreviated, spelled_out))})\n",
    "\n",
    "df.head()"
   ]
  },
  {
   "cell_type": "markdown",
   "metadata": {
    "id": "-AgYYziib2iO"
   },
   "source": [
    "#### Correct species names"
   ]
  },
  {
   "cell_type": "code",
   "execution_count": 37,
   "metadata": {
    "colab": {
     "base_uri": "https://localhost:8080/"
    },
    "id": "2vdIF4xacEkc",
    "outputId": "e6c5edc4-1ca9-42b2-87e7-25d60d60874f"
   },
   "outputs": [],
   "source": [
    "### Create data frame with unique species names\n",
    "species = pd.DataFrame({'name': df[\"species\"].drop_duplicates()})"
   ]
  },
  {
   "cell_type": "code",
   "execution_count": 38,
   "metadata": {},
   "outputs": [
    {
     "name": "stdout",
     "output_type": "stream",
     "text": [
      "                    name\n",
      "1     Tursiops truncatus\n",
      "2      Dolphinus delphis\n",
      "3  Stenella coeruleoalba\n"
     ]
    }
   ],
   "source": [
    "### Save as csv for upload to WoRMS or ITIS\n",
    "species.to_csv('Species.txt', index=False, sep=\"\\t\")\n",
    "print(species)"
   ]
  },
  {
   "cell_type": "markdown",
   "metadata": {
    "id": "uHPhaVDYeL7w"
   },
   "source": [
    "--> Use the species.txt file to check species spelling using the taxon match tools of:\n",
    "- [WoRMS](https://www.marinespecies.org/aphia.php?p=match) \n",
    "- [ITIS](https://www.itis.gov/taxmatch.html)\n",
    "\n",
    "After this you can also add columns for the AphiaID (WoRMS) or TSN numbers (ITIS)\n",
    "\n",
    "Alternatively use the R package [taxize](https://cran.r-project.org/web/packages/taxize/index.html)\n",
    "\n",
    "For species spelling conventions read our [PANGAEA wiki](https://wiki.pangaea.de/wiki/Taxon)"
   ]
  },
  {
   "cell_type": "markdown",
   "metadata": {
    "id": "IueEwyfXsOZc"
   },
   "source": [
    "##### Correct individual species names"
   ]
  },
  {
   "cell_type": "code",
   "execution_count": 39,
   "metadata": {
    "colab": {
     "base_uri": "https://localhost:8080/"
    },
    "id": "usTDCn2ysTB7",
    "outputId": "2915ffb0-edf3-491d-cb68-42e66e219c5e"
   },
   "outputs": [],
   "source": [
    "### Correct mispelled species names\n",
    "df['species'] = df['species'].str.replace('Dolphinus delphis', 'Delphinus delphis')"
   ]
  },
  {
   "cell_type": "code",
   "execution_count": 40,
   "metadata": {},
   "outputs": [
    {
     "data": {
      "text/plain": [
       "array(['Tursiops truncatus', 'Delphinus delphis', 'Stenella coeruleoalba'],\n",
       "      dtype=object)"
      ]
     },
     "execution_count": 40,
     "metadata": {},
     "output_type": "execute_result"
    }
   ],
   "source": [
    "### check current spelling\n",
    "df['species'].unique()"
   ]
  },
  {
   "cell_type": "markdown",
   "metadata": {
    "id": "jlC7kaOMbw63"
   },
   "source": [
    "### 3.5 Parameter (header) naming\n",
    "\n",
    "* Use clear and descriptive parameter names, no cryptic abbreviations. Non experts should be able to understand the meaning (e.g. \"Water content, sediment [%]\" instead of \"WCS\")\n",
    "* All parameters in English only\n",
    "* Parameters are always accompanied by a unit\n",
    "* Use SI units written in square brackets following the parameter e.g. \"Ground heat, flux [W/m**2]\"\n",
    "* Find suitable standard parameters names by:\n",
    "  * Looking at similar datasets published at [PANGAEA](https://pangaea.de/)\n",
    "  * Finding matching parameters in the [PANGAEA parameter database](https://www.pangaea.de/lists/parameter/all-byname)\n",
    "* Look out for PANGAEA's special [geocodes](https://wiki.pangaea.de/wiki/Geocode) and their formatting"
   ]
  },
  {
   "cell_type": "markdown",
   "metadata": {
    "id": "mfnVPH3a5bU0"
   },
   "source": [
    "#### Download complete PANGAEA parameter list"
   ]
  },
  {
   "cell_type": "code",
   "execution_count": 41,
   "metadata": {
    "colab": {
     "base_uri": "https://localhost:8080/"
    },
    "id": "6G__h_nf4JRP",
    "outputId": "f4e92384-6bd3-4446-c071-67c55441d1ac"
   },
   "outputs": [
    {
     "data": {
      "text/plain": [
       "11273070"
      ]
     },
     "execution_count": 41,
     "metadata": {},
     "output_type": "execute_result"
    }
   ],
   "source": [
    "### URL link to PANGAEA parameters\n",
    "URL = \"https://www.pangaea.de/lists/parameter/all-byname\"\n",
    "response = requests.get(URL)\n",
    "### Save parameters as local file\n",
    "open(\"PANGAEA_parameters.tab\", \"wb\").write(response.content)"
   ]
  },
  {
   "cell_type": "code",
   "execution_count": 42,
   "metadata": {
    "colab": {
     "base_uri": "https://localhost:8080/",
     "height": 223
    },
    "id": "aCiC7fDR5HCd",
    "outputId": "e900c39e-d669-4141-9485-f9772b733940"
   },
   "outputs": [],
   "source": [
    "### Load parameter list\n",
    "params = pd.read_csv('PANGAEA_parameters.tab', sep = '\\t', on_bad_lines = \"warn\")"
   ]
  },
  {
   "cell_type": "code",
   "execution_count": 43,
   "metadata": {},
   "outputs": [
    {
     "name": "stdout",
     "output_type": "stream",
     "text": [
      "There are currently 220941 parameters available in PANGAEA\n"
     ]
    }
   ],
   "source": [
    "### Check out table size\n",
    "print(f'There are currently {params.shape[0]} parameters available in PANGAEA')"
   ]
  },
  {
   "cell_type": "code",
   "execution_count": 44,
   "metadata": {},
   "outputs": [
    {
     "data": {
      "text/html": [
       "<div>\n",
       "<style scoped>\n",
       "    .dataframe tbody tr th:only-of-type {\n",
       "        vertical-align: middle;\n",
       "    }\n",
       "\n",
       "    .dataframe tbody tr th {\n",
       "        vertical-align: top;\n",
       "    }\n",
       "\n",
       "    .dataframe thead th {\n",
       "        text-align: right;\n",
       "    }\n",
       "</style>\n",
       "<table border=\"1\" class=\"dataframe\">\n",
       "  <thead>\n",
       "    <tr style=\"text-align: right;\">\n",
       "      <th></th>\n",
       "      <th>Parameter</th>\n",
       "      <th>Abbreviation</th>\n",
       "      <th>Unit</th>\n",
       "      <th>ID parameter</th>\n",
       "    </tr>\n",
       "  </thead>\n",
       "  <tbody>\n",
       "    <tr>\n",
       "      <th>0</th>\n",
       "      <td>-</td>\n",
       "      <td>NaN</td>\n",
       "      <td>NaN</td>\n",
       "      <td>16432</td>\n",
       "    </tr>\n",
       "    <tr>\n",
       "      <th>1</th>\n",
       "      <td>-</td>\n",
       "      <td>NaN</td>\n",
       "      <td>NaN</td>\n",
       "      <td>16431</td>\n",
       "    </tr>\n",
       "    <tr>\n",
       "      <th>2</th>\n",
       "      <td>10,13-dimethyl-17-[2-(2-ethylcyclopropyl)ethan...</td>\n",
       "      <td>22,24-cyclocholest-5-ene/TOC</td>\n",
       "      <td>µg/g</td>\n",
       "      <td>191031</td>\n",
       "    </tr>\n",
       "    <tr>\n",
       "      <th>3</th>\n",
       "      <td>10,13-dimethyl-17-[2-(2-ethylcyclopropyl)ethan...</td>\n",
       "      <td>22,24-cyclocholest-5-ene/sed</td>\n",
       "      <td>µg/g</td>\n",
       "      <td>191030</td>\n",
       "    </tr>\n",
       "    <tr>\n",
       "      <th>220937</th>\n",
       "      <td>ν1 peak position, carbonate</td>\n",
       "      <td>ν1 peak pos CO3</td>\n",
       "      <td>1/cm</td>\n",
       "      <td>524691</td>\n",
       "    </tr>\n",
       "    <tr>\n",
       "      <th>220938</th>\n",
       "      <td>ω_r, vorticity, cylindrical, radial component</td>\n",
       "      <td>ω_r</td>\n",
       "      <td>NaN</td>\n",
       "      <td>514819</td>\n",
       "    </tr>\n",
       "    <tr>\n",
       "      <th>220939</th>\n",
       "      <td>ω_z, vorticity, cylindrical, axial component</td>\n",
       "      <td>ω_z</td>\n",
       "      <td>NaN</td>\n",
       "      <td>514821</td>\n",
       "    </tr>\n",
       "    <tr>\n",
       "      <th>220940</th>\n",
       "      <td>ω_θ, vorticity, cylindrical, azimuthal component</td>\n",
       "      <td>ω_θ</td>\n",
       "      <td>NaN</td>\n",
       "      <td>514820</td>\n",
       "    </tr>\n",
       "  </tbody>\n",
       "</table>\n",
       "</div>"
      ],
      "text/plain": [
       "                                                Parameter  \\\n",
       "0                                                       -   \n",
       "1                                                       -   \n",
       "2       10,13-dimethyl-17-[2-(2-ethylcyclopropyl)ethan...   \n",
       "3       10,13-dimethyl-17-[2-(2-ethylcyclopropyl)ethan...   \n",
       "220937                        ν1 peak position, carbonate   \n",
       "220938      ω_r, vorticity, cylindrical, radial component   \n",
       "220939       ω_z, vorticity, cylindrical, axial component   \n",
       "220940   ω_θ, vorticity, cylindrical, azimuthal component   \n",
       "\n",
       "                        Abbreviation  Unit  ID parameter  \n",
       "0                                NaN   NaN         16432  \n",
       "1                                NaN   NaN         16431  \n",
       "2       22,24-cyclocholest-5-ene/TOC  µg/g        191031  \n",
       "3       22,24-cyclocholest-5-ene/sed  µg/g        191030  \n",
       "220937               ν1 peak pos CO3  1/cm        524691  \n",
       "220938                           ω_r   NaN        514819  \n",
       "220939                           ω_z   NaN        514821  \n",
       "220940                           ω_θ   NaN        514820  "
      ]
     },
     "execution_count": 44,
     "metadata": {},
     "output_type": "execute_result"
    }
   ],
   "source": [
    "### Short glance at the data table\n",
    "pd.concat([params.head(4), params.tail(4)])"
   ]
  },
  {
   "cell_type": "markdown",
   "metadata": {
    "id": "BQlL4dIv83r2"
   },
   "source": [
    "#### Lookup similar parameters in the existing list of PANGAEA parameters\n",
    "Note: If you cannot find a suitable parameter we can create a new one for you"
   ]
  },
  {
   "cell_type": "markdown",
   "metadata": {
    "id": "n5-IFmL6_VJN"
   },
   "source": [
    "##### Find parameters containing your parameter name\n",
    "Note: Also check for a matching unit for your parameter"
   ]
  },
  {
   "cell_type": "code",
   "execution_count": 45,
   "metadata": {
    "colab": {
     "base_uri": "https://localhost:8080/",
     "height": 613
    },
    "id": "DzIiYMW5-qVJ",
    "outputId": "e404f4a9-3de9-47f4-a15f-3d4597662360"
   },
   "outputs": [
    {
     "data": {
      "text/html": [
       "<div>\n",
       "<style scoped>\n",
       "    .dataframe tbody tr th:only-of-type {\n",
       "        vertical-align: middle;\n",
       "    }\n",
       "\n",
       "    .dataframe tbody tr th {\n",
       "        vertical-align: top;\n",
       "    }\n",
       "\n",
       "    .dataframe thead th {\n",
       "        text-align: right;\n",
       "    }\n",
       "</style>\n",
       "<table border=\"1\" class=\"dataframe\">\n",
       "  <thead>\n",
       "    <tr style=\"text-align: right;\">\n",
       "      <th></th>\n",
       "      <th>Parameter</th>\n",
       "      <th>Abbreviation</th>\n",
       "      <th>Unit</th>\n",
       "      <th>ID parameter</th>\n",
       "    </tr>\n",
       "  </thead>\n",
       "  <tbody>\n",
       "    <tr>\n",
       "      <th>48569</th>\n",
       "      <td>Colatitude</td>\n",
       "      <td>Colat</td>\n",
       "      <td>deg</td>\n",
       "      <td>108668</td>\n",
       "    </tr>\n",
       "    <tr>\n",
       "      <th>103673</th>\n",
       "      <td>LATITUDE</td>\n",
       "      <td>Latitude</td>\n",
       "      <td>NaN</td>\n",
       "      <td>1600</td>\n",
       "    </tr>\n",
       "    <tr>\n",
       "      <th>103674</th>\n",
       "      <td>Latitude 2</td>\n",
       "      <td>Latitude 2</td>\n",
       "      <td>NaN</td>\n",
       "      <td>20716</td>\n",
       "    </tr>\n",
       "    <tr>\n",
       "      <th>103675</th>\n",
       "      <td>Latitude, additional</td>\n",
       "      <td>Latitude+</td>\n",
       "      <td>NaN</td>\n",
       "      <td>31412</td>\n",
       "    </tr>\n",
       "    <tr>\n",
       "      <th>103676</th>\n",
       "      <td>Latitude, center</td>\n",
       "      <td>Lat C</td>\n",
       "      <td>NaN</td>\n",
       "      <td>190123</td>\n",
       "    </tr>\n",
       "    <tr>\n",
       "      <th>103677</th>\n",
       "      <td>Latitude description</td>\n",
       "      <td>Latitude descr</td>\n",
       "      <td>NaN</td>\n",
       "      <td>160914</td>\n",
       "    </tr>\n",
       "    <tr>\n",
       "      <th>103678</th>\n",
       "      <td>Latitude, difference</td>\n",
       "      <td>Latitude diff</td>\n",
       "      <td>NaN</td>\n",
       "      <td>517237</td>\n",
       "    </tr>\n",
       "    <tr>\n",
       "      <th>103679</th>\n",
       "      <td>Latitude (EPSG)</td>\n",
       "      <td>Latitude EPSG</td>\n",
       "      <td>NaN</td>\n",
       "      <td>189957</td>\n",
       "    </tr>\n",
       "    <tr>\n",
       "      <th>103680</th>\n",
       "      <td>Latitude, error</td>\n",
       "      <td>Latitude e</td>\n",
       "      <td>m</td>\n",
       "      <td>185820</td>\n",
       "    </tr>\n",
       "    <tr>\n",
       "      <th>103681</th>\n",
       "      <td>Latitude, error</td>\n",
       "      <td>Latitude e</td>\n",
       "      <td>NaN</td>\n",
       "      <td>49734</td>\n",
       "    </tr>\n",
       "    <tr>\n",
       "      <th>103682</th>\n",
       "      <td>Latitude, median</td>\n",
       "      <td>Latitude med</td>\n",
       "      <td>NaN</td>\n",
       "      <td>102820</td>\n",
       "    </tr>\n",
       "    <tr>\n",
       "      <th>103683</th>\n",
       "      <td>Latitude, northbound</td>\n",
       "      <td>Latitude north</td>\n",
       "      <td>NaN</td>\n",
       "      <td>102825</td>\n",
       "    </tr>\n",
       "    <tr>\n",
       "      <th>103684</th>\n",
       "      <td>Latitude, southbound</td>\n",
       "      <td>Latitude south</td>\n",
       "      <td>NaN</td>\n",
       "      <td>102824</td>\n",
       "    </tr>\n",
       "    <tr>\n",
       "      <th>103685</th>\n",
       "      <td>Latitude, standard deviation</td>\n",
       "      <td>Lat std dev</td>\n",
       "      <td>±</td>\n",
       "      <td>516328</td>\n",
       "    </tr>\n",
       "    <tr>\n",
       "      <th>103686</th>\n",
       "      <td>Latitude, uncertainty</td>\n",
       "      <td>Latitude unc</td>\n",
       "      <td>±</td>\n",
       "      <td>510508</td>\n",
       "    </tr>\n",
       "    <tr>\n",
       "      <th>136573</th>\n",
       "      <td>Paleolatitude</td>\n",
       "      <td>Pal-lat</td>\n",
       "      <td>NaN</td>\n",
       "      <td>99577</td>\n",
       "    </tr>\n",
       "    <tr>\n",
       "      <th>159765</th>\n",
       "      <td>Quality flag, latitude</td>\n",
       "      <td>QF lat</td>\n",
       "      <td>NaN</td>\n",
       "      <td>539385</td>\n",
       "    </tr>\n",
       "    <tr>\n",
       "      <th>194975</th>\n",
       "      <td>Start of data file recording, latitude</td>\n",
       "      <td>File start latitude</td>\n",
       "      <td>NaN</td>\n",
       "      <td>175085</td>\n",
       "    </tr>\n",
       "    <tr>\n",
       "      <th>196839</th>\n",
       "      <td>Stop of data file recording, latitude</td>\n",
       "      <td>File stop latitude</td>\n",
       "      <td>NaN</td>\n",
       "      <td>175088</td>\n",
       "    </tr>\n",
       "    <tr>\n",
       "      <th>213294</th>\n",
       "      <td>Uncertainty of latitude</td>\n",
       "      <td>Latitude unc</td>\n",
       "      <td>NaN</td>\n",
       "      <td>130854</td>\n",
       "    </tr>\n",
       "    <tr>\n",
       "      <th>216348</th>\n",
       "      <td>Virtual geomagnetic pole latitude</td>\n",
       "      <td>VGP latitude</td>\n",
       "      <td>deg</td>\n",
       "      <td>97590</td>\n",
       "    </tr>\n",
       "    <tr>\n",
       "      <th>216349</th>\n",
       "      <td>Virtual geomagnetic pole latitude, uncertainty</td>\n",
       "      <td>VGP latitude unc</td>\n",
       "      <td>±</td>\n",
       "      <td>532601</td>\n",
       "    </tr>\n",
       "  </tbody>\n",
       "</table>\n",
       "</div>"
      ],
      "text/plain": [
       "                                             Parameter         Abbreviation  \\\n",
       "48569                                       Colatitude                Colat   \n",
       "103673                                        LATITUDE             Latitude   \n",
       "103674                                      Latitude 2           Latitude 2   \n",
       "103675                            Latitude, additional            Latitude+   \n",
       "103676                                Latitude, center                Lat C   \n",
       "103677                            Latitude description       Latitude descr   \n",
       "103678                            Latitude, difference        Latitude diff   \n",
       "103679                                 Latitude (EPSG)        Latitude EPSG   \n",
       "103680                                 Latitude, error           Latitude e   \n",
       "103681                                 Latitude, error           Latitude e   \n",
       "103682                                Latitude, median         Latitude med   \n",
       "103683                            Latitude, northbound       Latitude north   \n",
       "103684                            Latitude, southbound       Latitude south   \n",
       "103685                    Latitude, standard deviation          Lat std dev   \n",
       "103686                           Latitude, uncertainty         Latitude unc   \n",
       "136573                                   Paleolatitude              Pal-lat   \n",
       "159765                          Quality flag, latitude               QF lat   \n",
       "194975          Start of data file recording, latitude  File start latitude   \n",
       "196839           Stop of data file recording, latitude   File stop latitude   \n",
       "213294                         Uncertainty of latitude         Latitude unc   \n",
       "216348               Virtual geomagnetic pole latitude         VGP latitude   \n",
       "216349  Virtual geomagnetic pole latitude, uncertainty     VGP latitude unc   \n",
       "\n",
       "       Unit  ID parameter  \n",
       "48569   deg        108668  \n",
       "103673  NaN          1600  \n",
       "103674  NaN         20716  \n",
       "103675  NaN         31412  \n",
       "103676  NaN        190123  \n",
       "103677  NaN        160914  \n",
       "103678  NaN        517237  \n",
       "103679  NaN        189957  \n",
       "103680    m        185820  \n",
       "103681  NaN         49734  \n",
       "103682  NaN        102820  \n",
       "103683  NaN        102825  \n",
       "103684  NaN        102824  \n",
       "103685    ±        516328  \n",
       "103686    ±        510508  \n",
       "136573  NaN         99577  \n",
       "159765  NaN        539385  \n",
       "194975  NaN        175085  \n",
       "196839  NaN        175088  \n",
       "213294  NaN        130854  \n",
       "216348  deg         97590  \n",
       "216349    ±        532601  "
      ]
     },
     "execution_count": 45,
     "metadata": {},
     "output_type": "execute_result"
    }
   ],
   "source": [
    "### Find your parameter using partial string matching\n",
    "params[params[\"Parameter\"].str.contains(\"Latitude\", case = False)]"
   ]
  },
  {
   "cell_type": "code",
   "execution_count": 46,
   "metadata": {
    "colab": {
     "base_uri": "https://localhost:8080/"
    },
    "id": "b82EqkqK7Vo5",
    "outputId": "528eff2c-d468-4739-b412-8c9c59cdab25"
   },
   "outputs": [
    {
     "data": {
      "text/plain": [
       "['Colatitude',\n",
       " 'Altitude',\n",
       " 'Latitude 2',\n",
       " 'Paleolatitude',\n",
       " 'Platynite',\n",
       " 'Magnitude',\n",
       " 'Blattodea',\n",
       " 'Amplitude',\n",
       " 'Amplitude',\n",
       " 'Amplitude']"
      ]
     },
     "execution_count": 46,
     "metadata": {},
     "output_type": "execute_result"
    }
   ],
   "source": [
    "### Find similar (not exact matches) PANGAEA parameters for your own parameter. This search is less sensitive to spelling mistakes\n",
    "get_close_matches('latitude', params[\"Parameter\"], n = 10)"
   ]
  },
  {
   "cell_type": "markdown",
   "metadata": {
    "id": "6CNrOizk9WnH"
   },
   "source": [
    "#### Rename parameters"
   ]
  },
  {
   "cell_type": "code",
   "execution_count": 47,
   "metadata": {},
   "outputs": [
    {
     "name": "stdout",
     "output_type": "stream",
     "text": [
      "original column names:  Index(['Location', 'Threatened status', 'species', 'latitude (deg)',\n",
      "       'lngitude (deg)', 'water depth (cm)', 'water temperature (degC)',\n",
      "       'date/time', 'lat', 'lon'],\n",
      "      dtype='object')\n"
     ]
    }
   ],
   "source": [
    "print('original column names: ',df.columns)"
   ]
  },
  {
   "cell_type": "code",
   "execution_count": 48,
   "metadata": {},
   "outputs": [],
   "source": [
    "### define new column names \n",
    "new_col_names = ['Location []', 'IUCN Red List status []', \n",
    "                 'Species []', 'LATITUDE []', 'LONGITUDE []',\n",
    "                 'DEPTH, water [m]', 'Temperature, water [°C]',\n",
    "                 'DATE/TIME []', 'Latitude 2 []', 'Longitude 2 []']"
   ]
  },
  {
   "cell_type": "code",
   "execution_count": 49,
   "metadata": {
    "colab": {
     "base_uri": "https://localhost:8080/",
     "height": 208
    },
    "id": "maI6Jll48Iid",
    "outputId": "e84185a5-74c8-402d-ca88-8eee427a5382"
   },
   "outputs": [
    {
     "name": "stdout",
     "output_type": "stream",
     "text": [
      "new column names:  Index(['Location []', 'IUCN Red List status []', 'Species []', 'LATITUDE []',\n",
      "       'LONGITUDE []', 'DEPTH, water [m]', 'Temperature, water [°C]',\n",
      "       'DATE/TIME []', 'Latitude 2 []', 'Longitude 2 []'],\n",
      "      dtype='object')\n"
     ]
    }
   ],
   "source": [
    "### replace original column names with new column names\n",
    "df.columns = new_col_names\n",
    "\n",
    "print('new column names: ',df.columns)"
   ]
  },
  {
   "cell_type": "code",
   "execution_count": 50,
   "metadata": {},
   "outputs": [
    {
     "data": {
      "text/html": [
       "<div>\n",
       "<style scoped>\n",
       "    .dataframe tbody tr th:only-of-type {\n",
       "        vertical-align: middle;\n",
       "    }\n",
       "\n",
       "    .dataframe tbody tr th {\n",
       "        vertical-align: top;\n",
       "    }\n",
       "\n",
       "    .dataframe thead th {\n",
       "        text-align: right;\n",
       "    }\n",
       "</style>\n",
       "<table border=\"1\" class=\"dataframe\">\n",
       "  <thead>\n",
       "    <tr style=\"text-align: right;\">\n",
       "      <th></th>\n",
       "      <th>Location []</th>\n",
       "      <th>IUCN Red List status []</th>\n",
       "      <th>Species []</th>\n",
       "      <th>LATITUDE []</th>\n",
       "      <th>LONGITUDE []</th>\n",
       "      <th>DEPTH, water [m]</th>\n",
       "      <th>Temperature, water [°C]</th>\n",
       "      <th>DATE/TIME []</th>\n",
       "      <th>Latitude 2 []</th>\n",
       "      <th>Longitude 2 []</th>\n",
       "    </tr>\n",
       "  </thead>\n",
       "  <tbody>\n",
       "    <tr>\n",
       "      <th>1</th>\n",
       "      <td>Bremerhaven, Germany</td>\n",
       "      <td>Near Threatened</td>\n",
       "      <td>Tursiops truncatus</td>\n",
       "      <td>69.3</td>\n",
       "      <td>11.5</td>\n",
       "      <td>NaN</td>\n",
       "      <td>0.995700</td>\n",
       "      <td>2014-07-24T23:00:00</td>\n",
       "      <td>53.549999</td>\n",
       "      <td>8.583333</td>\n",
       "    </tr>\n",
       "    <tr>\n",
       "      <th>2</th>\n",
       "      <td>Bremerhaven,     Germany</td>\n",
       "      <td>Endangered</td>\n",
       "      <td>Delphinus delphis</td>\n",
       "      <td>69.4</td>\n",
       "      <td>12.0</td>\n",
       "      <td>NaN</td>\n",
       "      <td>0.925061</td>\n",
       "      <td>2012-07-15T18:00:00</td>\n",
       "      <td>53.549999</td>\n",
       "      <td>8.583333</td>\n",
       "    </tr>\n",
       "    <tr>\n",
       "      <th>3</th>\n",
       "      <td>Bremerhaven, Germany</td>\n",
       "      <td>Extinct in the Wild</td>\n",
       "      <td>Stenella coeruleoalba</td>\n",
       "      <td>69.5</td>\n",
       "      <td>12.5</td>\n",
       "      <td>2.5</td>\n",
       "      <td>0.570743</td>\n",
       "      <td>2013-03-03T02:00:00</td>\n",
       "      <td>53.549999</td>\n",
       "      <td>8.583333</td>\n",
       "    </tr>\n",
       "  </tbody>\n",
       "</table>\n",
       "</div>"
      ],
      "text/plain": [
       "                Location [] IUCN Red List status []             Species []  \\\n",
       "1      Bremerhaven, Germany         Near Threatened     Tursiops truncatus   \n",
       "2  Bremerhaven,     Germany              Endangered      Delphinus delphis   \n",
       "3      Bremerhaven, Germany     Extinct in the Wild  Stenella coeruleoalba   \n",
       "\n",
       "   LATITUDE []  LONGITUDE []  DEPTH, water [m]  Temperature, water [°C]  \\\n",
       "1         69.3          11.5               NaN                 0.995700   \n",
       "2         69.4          12.0               NaN                 0.925061   \n",
       "3         69.5          12.5               2.5                 0.570743   \n",
       "\n",
       "          DATE/TIME []  Latitude 2 []  Longitude 2 []  \n",
       "1  2014-07-24T23:00:00      53.549999        8.583333  \n",
       "2  2012-07-15T18:00:00      53.549999        8.583333  \n",
       "3  2013-03-03T02:00:00      53.549999        8.583333  "
      ]
     },
     "execution_count": 50,
     "metadata": {},
     "output_type": "execute_result"
    }
   ],
   "source": [
    "df.head(3)"
   ]
  },
  {
   "cell_type": "code",
   "execution_count": 51,
   "metadata": {},
   "outputs": [],
   "source": [
    "### sort columns\n",
    "df = df[['DATE/TIME []','LATITUDE []','LONGITUDE []',\n",
    "         'Latitude 2 []', 'Longitude 2 []','DEPTH, water [m]',\n",
    "         'Location []', 'Species []', 'IUCN Red List status []',\n",
    "         'Temperature, water [°C]'\n",
    "        ]]"
   ]
  },
  {
   "cell_type": "code",
   "execution_count": 52,
   "metadata": {},
   "outputs": [
    {
     "data": {
      "text/html": [
       "<div>\n",
       "<style scoped>\n",
       "    .dataframe tbody tr th:only-of-type {\n",
       "        vertical-align: middle;\n",
       "    }\n",
       "\n",
       "    .dataframe tbody tr th {\n",
       "        vertical-align: top;\n",
       "    }\n",
       "\n",
       "    .dataframe thead th {\n",
       "        text-align: right;\n",
       "    }\n",
       "</style>\n",
       "<table border=\"1\" class=\"dataframe\">\n",
       "  <thead>\n",
       "    <tr style=\"text-align: right;\">\n",
       "      <th></th>\n",
       "      <th>DATE/TIME []</th>\n",
       "      <th>LATITUDE []</th>\n",
       "      <th>LONGITUDE []</th>\n",
       "      <th>Latitude 2 []</th>\n",
       "      <th>Longitude 2 []</th>\n",
       "      <th>DEPTH, water [m]</th>\n",
       "      <th>Location []</th>\n",
       "      <th>Species []</th>\n",
       "      <th>IUCN Red List status []</th>\n",
       "      <th>Temperature, water [°C]</th>\n",
       "    </tr>\n",
       "  </thead>\n",
       "  <tbody>\n",
       "    <tr>\n",
       "      <th>1</th>\n",
       "      <td>2014-07-24T23:00:00</td>\n",
       "      <td>69.3</td>\n",
       "      <td>11.5</td>\n",
       "      <td>53.549999</td>\n",
       "      <td>8.583333</td>\n",
       "      <td>NaN</td>\n",
       "      <td>Bremerhaven, Germany</td>\n",
       "      <td>Tursiops truncatus</td>\n",
       "      <td>Near Threatened</td>\n",
       "      <td>0.995700</td>\n",
       "    </tr>\n",
       "    <tr>\n",
       "      <th>2</th>\n",
       "      <td>2012-07-15T18:00:00</td>\n",
       "      <td>69.4</td>\n",
       "      <td>12.0</td>\n",
       "      <td>53.549999</td>\n",
       "      <td>8.583333</td>\n",
       "      <td>NaN</td>\n",
       "      <td>Bremerhaven,     Germany</td>\n",
       "      <td>Delphinus delphis</td>\n",
       "      <td>Endangered</td>\n",
       "      <td>0.925061</td>\n",
       "    </tr>\n",
       "    <tr>\n",
       "      <th>3</th>\n",
       "      <td>2013-03-03T02:00:00</td>\n",
       "      <td>69.5</td>\n",
       "      <td>12.5</td>\n",
       "      <td>53.549999</td>\n",
       "      <td>8.583333</td>\n",
       "      <td>2.5</td>\n",
       "      <td>Bremerhaven, Germany</td>\n",
       "      <td>Stenella coeruleoalba</td>\n",
       "      <td>Extinct in the Wild</td>\n",
       "      <td>0.570743</td>\n",
       "    </tr>\n",
       "  </tbody>\n",
       "</table>\n",
       "</div>"
      ],
      "text/plain": [
       "          DATE/TIME []  LATITUDE []  LONGITUDE []  Latitude 2 []  \\\n",
       "1  2014-07-24T23:00:00         69.3          11.5      53.549999   \n",
       "2  2012-07-15T18:00:00         69.4          12.0      53.549999   \n",
       "3  2013-03-03T02:00:00         69.5          12.5      53.549999   \n",
       "\n",
       "   Longitude 2 []  DEPTH, water [m]               Location []  \\\n",
       "1        8.583333               NaN      Bremerhaven, Germany   \n",
       "2        8.583333               NaN  Bremerhaven,     Germany   \n",
       "3        8.583333               2.5      Bremerhaven, Germany   \n",
       "\n",
       "              Species [] IUCN Red List status []  Temperature, water [°C]  \n",
       "1     Tursiops truncatus         Near Threatened                 0.995700  \n",
       "2      Delphinus delphis              Endangered                 0.925061  \n",
       "3  Stenella coeruleoalba     Extinct in the Wild                 0.570743  "
      ]
     },
     "execution_count": 52,
     "metadata": {},
     "output_type": "execute_result"
    }
   ],
   "source": [
    "df.head(3)"
   ]
  },
  {
   "cell_type": "markdown",
   "metadata": {
    "id": "ps-aaL4pBYd4"
   },
   "source": [
    "### 3.6. Conversions"
   ]
  },
  {
   "cell_type": "markdown",
   "metadata": {
    "id": "GRL6swx1Bxzb"
   },
   "source": [
    "#### Convert units\n",
    "PANGAEA aims to reduce redundancy of units by converting units to one scale (if possible). During the lookup of parameters you can already see which unit scale is used in PANGAEA."
   ]
  },
  {
   "cell_type": "code",
   "execution_count": 53,
   "metadata": {
    "colab": {
     "base_uri": "https://localhost:8080/",
     "height": 208
    },
    "id": "dLuMYhSZCfkY",
    "outputId": "945f8dd2-584e-472e-94d0-d7dee3f2b0c0"
   },
   "outputs": [
    {
     "data": {
      "text/html": [
       "<div>\n",
       "<style scoped>\n",
       "    .dataframe tbody tr th:only-of-type {\n",
       "        vertical-align: middle;\n",
       "    }\n",
       "\n",
       "    .dataframe tbody tr th {\n",
       "        vertical-align: top;\n",
       "    }\n",
       "\n",
       "    .dataframe thead th {\n",
       "        text-align: right;\n",
       "    }\n",
       "</style>\n",
       "<table border=\"1\" class=\"dataframe\">\n",
       "  <thead>\n",
       "    <tr style=\"text-align: right;\">\n",
       "      <th></th>\n",
       "      <th>DATE/TIME []</th>\n",
       "      <th>LATITUDE []</th>\n",
       "      <th>LONGITUDE []</th>\n",
       "      <th>Latitude 2 []</th>\n",
       "      <th>Longitude 2 []</th>\n",
       "      <th>DEPTH, water [m]</th>\n",
       "      <th>Location []</th>\n",
       "      <th>Species []</th>\n",
       "      <th>IUCN Red List status []</th>\n",
       "      <th>Temperature, water [°C]</th>\n",
       "    </tr>\n",
       "  </thead>\n",
       "  <tbody>\n",
       "    <tr>\n",
       "      <th>1</th>\n",
       "      <td>2014-07-24T23:00:00</td>\n",
       "      <td>69.3</td>\n",
       "      <td>11.5</td>\n",
       "      <td>53.549999</td>\n",
       "      <td>8.583333</td>\n",
       "      <td>NaN</td>\n",
       "      <td>Bremerhaven, Germany</td>\n",
       "      <td>Tursiops truncatus</td>\n",
       "      <td>Near Threatened</td>\n",
       "      <td>0.995700</td>\n",
       "    </tr>\n",
       "    <tr>\n",
       "      <th>2</th>\n",
       "      <td>2012-07-15T18:00:00</td>\n",
       "      <td>69.4</td>\n",
       "      <td>12.0</td>\n",
       "      <td>53.549999</td>\n",
       "      <td>8.583333</td>\n",
       "      <td>NaN</td>\n",
       "      <td>Bremerhaven,     Germany</td>\n",
       "      <td>Delphinus delphis</td>\n",
       "      <td>Endangered</td>\n",
       "      <td>0.925061</td>\n",
       "    </tr>\n",
       "    <tr>\n",
       "      <th>3</th>\n",
       "      <td>2013-03-03T02:00:00</td>\n",
       "      <td>69.5</td>\n",
       "      <td>12.5</td>\n",
       "      <td>53.549999</td>\n",
       "      <td>8.583333</td>\n",
       "      <td>0.025</td>\n",
       "      <td>Bremerhaven, Germany</td>\n",
       "      <td>Stenella coeruleoalba</td>\n",
       "      <td>Extinct in the Wild</td>\n",
       "      <td>0.570743</td>\n",
       "    </tr>\n",
       "    <tr>\n",
       "      <th>4</th>\n",
       "      <td>2012-02-10T09:00:00</td>\n",
       "      <td>69.6</td>\n",
       "      <td>13.0</td>\n",
       "      <td>53.549999</td>\n",
       "      <td>8.583333</td>\n",
       "      <td>0.030</td>\n",
       "      <td>Bremerhaven, Germany</td>\n",
       "      <td>Tursiops truncatus</td>\n",
       "      <td>Least Concern</td>\n",
       "      <td>0.148282</td>\n",
       "    </tr>\n",
       "  </tbody>\n",
       "</table>\n",
       "</div>"
      ],
      "text/plain": [
       "          DATE/TIME []  LATITUDE []  LONGITUDE []  Latitude 2 []  \\\n",
       "1  2014-07-24T23:00:00         69.3          11.5      53.549999   \n",
       "2  2012-07-15T18:00:00         69.4          12.0      53.549999   \n",
       "3  2013-03-03T02:00:00         69.5          12.5      53.549999   \n",
       "4  2012-02-10T09:00:00         69.6          13.0      53.549999   \n",
       "\n",
       "   Longitude 2 []  DEPTH, water [m]               Location []  \\\n",
       "1        8.583333               NaN      Bremerhaven, Germany   \n",
       "2        8.583333               NaN  Bremerhaven,     Germany   \n",
       "3        8.583333             0.025      Bremerhaven, Germany   \n",
       "4        8.583333             0.030      Bremerhaven, Germany   \n",
       "\n",
       "              Species [] IUCN Red List status []  Temperature, water [°C]  \n",
       "1     Tursiops truncatus         Near Threatened                 0.995700  \n",
       "2      Delphinus delphis              Endangered                 0.925061  \n",
       "3  Stenella coeruleoalba     Extinct in the Wild                 0.570743  \n",
       "4     Tursiops truncatus           Least Concern                 0.148282  "
      ]
     },
     "execution_count": 53,
     "metadata": {},
     "output_type": "execute_result"
    }
   ],
   "source": [
    "### DEPTH, water was initially in \"cm\", but in PANGAEA \"m\" is the most common unit used for this parameter\n",
    "df['DEPTH, water [m]'] = df['DEPTH, water [m]']/100\n",
    "df.head(4)"
   ]
  },
  {
   "cell_type": "markdown",
   "metadata": {
    "id": "HutJ6-gh8Ikb"
   },
   "source": [
    "### 3.7. URLs"
   ]
  },
  {
   "cell_type": "code",
   "execution_count": 54,
   "metadata": {
    "colab": {
     "base_uri": "https://localhost:8080/"
    },
    "id": "TXe5hpOZ8PK9",
    "outputId": "1f511b08-d0c8-47f0-97fa-3f725561e22b"
   },
   "outputs": [],
   "source": [
    "# add URL in mew column\n",
    "df['Uniform resource locator/link to reference []'] = \"https://doi.org/10.1594/PANGAEA.945749\""
   ]
  },
  {
   "cell_type": "code",
   "execution_count": 55,
   "metadata": {
    "tags": []
   },
   "outputs": [
    {
     "data": {
      "text/html": [
       "<div>\n",
       "<style scoped>\n",
       "    .dataframe tbody tr th:only-of-type {\n",
       "        vertical-align: middle;\n",
       "    }\n",
       "\n",
       "    .dataframe tbody tr th {\n",
       "        vertical-align: top;\n",
       "    }\n",
       "\n",
       "    .dataframe thead th {\n",
       "        text-align: right;\n",
       "    }\n",
       "</style>\n",
       "<table border=\"1\" class=\"dataframe\">\n",
       "  <thead>\n",
       "    <tr style=\"text-align: right;\">\n",
       "      <th></th>\n",
       "      <th>DATE/TIME []</th>\n",
       "      <th>LATITUDE []</th>\n",
       "      <th>LONGITUDE []</th>\n",
       "      <th>Latitude 2 []</th>\n",
       "      <th>Longitude 2 []</th>\n",
       "      <th>DEPTH, water [m]</th>\n",
       "      <th>Location []</th>\n",
       "      <th>Species []</th>\n",
       "      <th>IUCN Red List status []</th>\n",
       "      <th>Temperature, water [°C]</th>\n",
       "      <th>Uniform resource locator/link to reference []</th>\n",
       "    </tr>\n",
       "  </thead>\n",
       "  <tbody>\n",
       "    <tr>\n",
       "      <th>1</th>\n",
       "      <td>2014-07-24T23:00:00</td>\n",
       "      <td>69.3</td>\n",
       "      <td>11.5</td>\n",
       "      <td>53.549999</td>\n",
       "      <td>8.583333</td>\n",
       "      <td>NaN</td>\n",
       "      <td>Bremerhaven, Germany</td>\n",
       "      <td>Tursiops truncatus</td>\n",
       "      <td>Near Threatened</td>\n",
       "      <td>0.995700</td>\n",
       "      <td>https://doi.org/10.1594/PANGAEA.945749</td>\n",
       "    </tr>\n",
       "    <tr>\n",
       "      <th>2</th>\n",
       "      <td>2012-07-15T18:00:00</td>\n",
       "      <td>69.4</td>\n",
       "      <td>12.0</td>\n",
       "      <td>53.549999</td>\n",
       "      <td>8.583333</td>\n",
       "      <td>NaN</td>\n",
       "      <td>Bremerhaven,     Germany</td>\n",
       "      <td>Delphinus delphis</td>\n",
       "      <td>Endangered</td>\n",
       "      <td>0.925061</td>\n",
       "      <td>https://doi.org/10.1594/PANGAEA.945749</td>\n",
       "    </tr>\n",
       "  </tbody>\n",
       "</table>\n",
       "</div>"
      ],
      "text/plain": [
       "          DATE/TIME []  LATITUDE []  LONGITUDE []  Latitude 2 []  \\\n",
       "1  2014-07-24T23:00:00         69.3          11.5      53.549999   \n",
       "2  2012-07-15T18:00:00         69.4          12.0      53.549999   \n",
       "\n",
       "   Longitude 2 []  DEPTH, water [m]               Location []  \\\n",
       "1        8.583333               NaN      Bremerhaven, Germany   \n",
       "2        8.583333               NaN  Bremerhaven,     Germany   \n",
       "\n",
       "           Species [] IUCN Red List status []  Temperature, water [°C]  \\\n",
       "1  Tursiops truncatus         Near Threatened                 0.995700   \n",
       "2   Delphinus delphis              Endangered                 0.925061   \n",
       "\n",
       "  Uniform resource locator/link to reference []  \n",
       "1        https://doi.org/10.1594/PANGAEA.945749  \n",
       "2        https://doi.org/10.1594/PANGAEA.945749  "
      ]
     },
     "execution_count": 55,
     "metadata": {},
     "output_type": "execute_result"
    }
   ],
   "source": [
    "df.head(2)"
   ]
  },
  {
   "cell_type": "code",
   "execution_count": 56,
   "metadata": {},
   "outputs": [
    {
     "data": {
      "text/plain": [
       "['This link works', 'This link works']"
      ]
     },
     "execution_count": 56,
     "metadata": {},
     "output_type": "execute_result"
    }
   ],
   "source": [
    "### check if URL are working\n",
    "[f'This link works' if requests.get(url).status_code == 200 else False for url in df['Uniform resource locator/link to reference []'][:2]] # check only the first 2 links"
   ]
  },
  {
   "cell_type": "markdown",
   "metadata": {
    "id": "Eg5iyWtC4p88"
   },
   "source": [
    "### 3.8. Event\n",
    "An [EVENT](https://wiki.pangaea.de/wiki/Event) refers to the sampling event at which the data was obtained, such as a [station](https://www.pangaea.de/expeditions/) during a research expedition. An [EVENT](https://wiki.pangaea.de/wiki/Event) can also be described as metadata overview of a sampling device or sampling method"
   ]
  },
  {
   "cell_type": "code",
   "execution_count": 57,
   "metadata": {
    "colab": {
     "base_uri": "https://localhost:8080/",
     "height": 245
    },
    "id": "OzobjNpj4uJH",
    "outputId": "faa7b1ff-0ed7-457a-fb80-03f6ef349909"
   },
   "outputs": [
    {
     "data": {
      "text/html": [
       "<div>\n",
       "<style scoped>\n",
       "    .dataframe tbody tr th:only-of-type {\n",
       "        vertical-align: middle;\n",
       "    }\n",
       "\n",
       "    .dataframe tbody tr th {\n",
       "        vertical-align: top;\n",
       "    }\n",
       "\n",
       "    .dataframe thead th {\n",
       "        text-align: right;\n",
       "    }\n",
       "</style>\n",
       "<table border=\"1\" class=\"dataframe\">\n",
       "  <thead>\n",
       "    <tr style=\"text-align: right;\">\n",
       "      <th></th>\n",
       "      <th>Event []</th>\n",
       "      <th>DATE/TIME []</th>\n",
       "      <th>LATITUDE []</th>\n",
       "      <th>LONGITUDE []</th>\n",
       "      <th>Latitude 2 []</th>\n",
       "      <th>Longitude 2 []</th>\n",
       "      <th>DEPTH, water [m]</th>\n",
       "      <th>Location []</th>\n",
       "      <th>Species []</th>\n",
       "      <th>IUCN Red List status []</th>\n",
       "      <th>Temperature, water [°C]</th>\n",
       "      <th>Uniform resource locator/link to reference []</th>\n",
       "    </tr>\n",
       "  </thead>\n",
       "  <tbody>\n",
       "    <tr>\n",
       "      <th>1</th>\n",
       "      <td>PS132_1-2</td>\n",
       "      <td>2014-07-24T23:00:00</td>\n",
       "      <td>69.3</td>\n",
       "      <td>11.5</td>\n",
       "      <td>53.549999</td>\n",
       "      <td>8.583333</td>\n",
       "      <td>NaN</td>\n",
       "      <td>Bremerhaven, Germany</td>\n",
       "      <td>Tursiops truncatus</td>\n",
       "      <td>Near Threatened</td>\n",
       "      <td>0.995700</td>\n",
       "      <td>https://doi.org/10.1594/PANGAEA.945749</td>\n",
       "    </tr>\n",
       "    <tr>\n",
       "      <th>2</th>\n",
       "      <td>PS132_1-2</td>\n",
       "      <td>2012-07-15T18:00:00</td>\n",
       "      <td>69.4</td>\n",
       "      <td>12.0</td>\n",
       "      <td>53.549999</td>\n",
       "      <td>8.583333</td>\n",
       "      <td>NaN</td>\n",
       "      <td>Bremerhaven,     Germany</td>\n",
       "      <td>Delphinus delphis</td>\n",
       "      <td>Endangered</td>\n",
       "      <td>0.925061</td>\n",
       "      <td>https://doi.org/10.1594/PANGAEA.945749</td>\n",
       "    </tr>\n",
       "  </tbody>\n",
       "</table>\n",
       "</div>"
      ],
      "text/plain": [
       "    Event []         DATE/TIME []  LATITUDE []  LONGITUDE []  Latitude 2 []  \\\n",
       "1  PS132_1-2  2014-07-24T23:00:00         69.3          11.5      53.549999   \n",
       "2  PS132_1-2  2012-07-15T18:00:00         69.4          12.0      53.549999   \n",
       "\n",
       "   Longitude 2 []  DEPTH, water [m]               Location []  \\\n",
       "1        8.583333               NaN      Bremerhaven, Germany   \n",
       "2        8.583333               NaN  Bremerhaven,     Germany   \n",
       "\n",
       "           Species [] IUCN Red List status []  Temperature, water [°C]  \\\n",
       "1  Tursiops truncatus         Near Threatened                 0.995700   \n",
       "2   Delphinus delphis              Endangered                 0.925061   \n",
       "\n",
       "  Uniform resource locator/link to reference []  \n",
       "1        https://doi.org/10.1594/PANGAEA.945749  \n",
       "2        https://doi.org/10.1594/PANGAEA.945749  "
      ]
     },
     "execution_count": 57,
     "metadata": {},
     "output_type": "execute_result"
    }
   ],
   "source": [
    "### add event column\n",
    "df.insert(loc = 0, column = 'Event []', value = 'PS132_1-2')\n",
    "df.head(2)"
   ]
  },
  {
   "cell_type": "markdown",
   "metadata": {
    "id": "hN6x57KmEFs9"
   },
   "source": [
    "## 4. Save curated data\n",
    "* as tab-delimited text files\n",
    "* Important: PANGAEA only accepts UTF-8 encoding to avoid unicode errors\n"
   ]
  },
  {
   "cell_type": "code",
   "execution_count": 58,
   "metadata": {
    "id": "TFEUyHJ8EKQa"
   },
   "outputs": [],
   "source": [
    "### Save as tab-delimited txt file\n",
    "df.to_csv('Curated_data.txt', index=False, sep=\"\\t\", encoding='utf-8')"
   ]
  },
  {
   "cell_type": "markdown",
   "metadata": {
    "id": "vP-nNk9kBscC"
   },
   "source": [
    "## 5. Submit to PANGAEA\n",
    "Congratulations! You finished curating your data, which was an important step forward to make your data more accessible, understandable und useable for future users.\n",
    "Now you are ready to submit your data file(s) to [PANGAEA](https://www.pangaea.de/submit/)."
   ]
  }
 ],
 "metadata": {
  "colab": {
   "provenance": [],
   "toc_visible": true
  },
  "kernelspec": {
   "display_name": "Python [conda env:Anaconda-Python3.10]",
   "language": "python",
   "name": "conda-env-Anaconda-Python3.10-py"
  },
  "language_info": {
   "codemirror_mode": {
    "name": "ipython",
    "version": 3
   },
   "file_extension": ".py",
   "mimetype": "text/x-python",
   "name": "python",
   "nbconvert_exporter": "python",
   "pygments_lexer": "ipython3",
   "version": "3.10.11"
  },
  "vscode": {
   "interpreter": {
    "hash": "ab424e4dc2e74cacaae9c1f914107a9f781b476e0d613ee58688e62f3501b19d"
   }
  }
 },
 "nbformat": 4,
 "nbformat_minor": 4
}
