{
 "cells": [
  {
   "cell_type": "code",
   "execution_count": null,
   "id": "a90fe9f5-d580-4ea1-b8c8-3db97ca6a6fe",
   "metadata": {},
   "outputs": [],
   "source": [
    "!pip install palmerpenguins"
   ]
  },
  {
   "cell_type": "code",
   "execution_count": null,
   "id": "a55fb410-a365-4735-b596-167bc3f2e37c",
   "metadata": {},
   "outputs": [],
   "source": [
    "from palmerpenguins import load_penguins\n",
    "\n",
    "import matplotlib.pyplot as plt"
   ]
  },
  {
   "cell_type": "code",
   "execution_count": null,
   "id": "f8a4c350-94fc-473b-b903-89062db3f707",
   "metadata": {},
   "outputs": [],
   "source": [
    "pen = load_penguins()\n",
    "pen.head()"
   ]
  },
  {
   "cell_type": "code",
   "execution_count": null,
   "id": "80d4331b-e457-43a3-ab40-88bef705b544",
   "metadata": {},
   "outputs": [],
   "source": [
    "### plot body mass over flipper length\n",
    "\n",
    "plt.figure(figsize=(10, 6))\n",
    "\n",
    "plt.scatter(pen['body_mass_g'], pen['flipper_length_mm'], color='black', marker='x', label='all penguins')\n",
    "\n",
    "# # plot all other temperatures\n",
    "# for i, col in enumerate(cols):\n",
    "#     plt.scatter(df_4['time'], df_4[col], color=colors[i], marker='x', label=str(i+1))\n",
    "\n",
    "plt.legend(loc='upper left', fontsize=8)\n",
    "plt.xlabel('flipper length in mm')\n",
    "plt.ylabel('body mass in g')\n",
    "plt.show()"
   ]
  },
  {
   "cell_type": "code",
   "execution_count": null,
   "id": "60f1e6cc-f71a-45bb-b690-d5e1a8bed0c0",
   "metadata": {},
   "outputs": [],
   "source": [
    "### which kind of penguins?\n",
    "pen['species'].unique()"
   ]
  },
  {
   "cell_type": "code",
   "execution_count": null,
   "id": "e295047e-65ac-4a66-aa8a-48673a046be9",
   "metadata": {},
   "outputs": [],
   "source": [
    "### individual \n",
    "ade = pen[pen['species']=='Adelie']\n",
    "gen = pen[pen['species']=='Gentoo']\n",
    "chi = pen[pen['species']=='Chinstrap']"
   ]
  },
  {
   "cell_type": "code",
   "execution_count": null,
   "id": "fd9ad8af-769f-4c7d-a89a-90b0959818b1",
   "metadata": {},
   "outputs": [],
   "source": [
    "### plot body mass over flipper length\n",
    "\n",
    "fig1 = plt.figure(figsize=(10, 6))\n",
    "\n",
    "plt.scatter(ade['body_mass_g'], ade['flipper_length_mm'], color='orange', marker='o', label='Adelie')\n",
    "plt.scatter(chi['body_mass_g'], chi['flipper_length_mm'], color='purple', marker='^', label='Chinstrap')\n",
    "plt.scatter(gen['body_mass_g'], gen['flipper_length_mm'], color='darkcyan', marker='s', label='Gentoo')\n",
    "\n",
    "plt.legend(loc='upper left', fontsize=8)\n",
    "plt.xlabel('flipper length in mm')\n",
    "plt.ylabel('body mass in g')\n",
    "plt.show()"
   ]
  },
  {
   "cell_type": "markdown",
   "id": "714d91e4-a061-476d-a040-8ad7ed1d33d5",
   "metadata": {},
   "source": [
    "Details on [Matplotlib markers](https://matplotlib.org/stable/api/markers_api.html)  \n",
    "Details on [Matplotlib colors](https://matplotlib.org/stable/gallery/color/named_colors.html)"
   ]
  },
  {
   "cell_type": "code",
   "execution_count": null,
   "id": "ed70cdeb-ea63-407d-8c99-d0f4f373cca7",
   "metadata": {},
   "outputs": [],
   "source": []
  }
 ],
 "metadata": {
  "kernelspec": {
   "display_name": "Python 3 (ipykernel)",
   "language": "python",
   "name": "python3"
  },
  "language_info": {
   "codemirror_mode": {
    "name": "ipython",
    "version": 3
   },
   "file_extension": ".py",
   "mimetype": "text/x-python",
   "name": "python",
   "nbconvert_exporter": "python",
   "pygments_lexer": "ipython3",
   "version": "3.10.11"
  }
 },
 "nbformat": 4,
 "nbformat_minor": 5
}
