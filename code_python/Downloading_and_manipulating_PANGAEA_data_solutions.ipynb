{
 "cells": [
  {
   "cell_type": "markdown",
   "metadata": {},
   "source": [
    "![PANGAEA_Banner.png](https://gitlab.awi.de/kriemann/nfdi4earth_academy_data/raw/main/logo/PANGAEA_Banner.png)"
   ]
  },
  {
   "cell_type": "markdown",
   "metadata": {},
   "source": [
    "# How to download data from PANGAEA and manipulate it \n",
    "\n",
    "based on [PANGAEA Community Workshop script](Python/PANGAEApy_practical/pangaeapy_practical_solutions.ipynb)  \n",
    "Last updated: 2025-08-18  \n",
    "\n",
    "This notebook will guide you how to search and retrieve diverse earth- and environmental data and its metadata from the [PANGAEA data repository](https://www.pangaea.de) using Python. It uses the [PANGAEApy package](https://pypi.org/project/pangaeapy/), version 1.0.22 to facilitate the data download. \n",
    "\n",
    "Check out our [Wiki](https://wiki.pangaea.de/wiki/PANGAEA_search) for further details on searching data in PANGAEA."
   ]
  },
  {
   "cell_type": "markdown",
   "metadata": {
    "tags": []
   },
   "source": [
    "## 1. Import libraries"
   ]
  },
  {
   "cell_type": "code",
   "execution_count": 1,
   "metadata": {},
   "outputs": [],
   "source": [
    "import os\n",
    "import pandas as pd\n",
    "import numpy as np\n",
    "from collections import Counter\n",
    "import requests "
   ]
  },
  {
   "cell_type": "code",
   "execution_count": 2,
   "metadata": {
    "tags": []
   },
   "outputs": [],
   "source": [
    "### PANGAEApy\n",
    "## if you need to install PANGAEApy use pip\n",
    "#!pip install pangaeapy # Uncomment to upgrade pangaeapy\n",
    "\n",
    "## if you need to upgrade PANGAEApy use \n",
    "#!pip install pangaeapy --upgrade # Uncomment to upgrade pangaeapy\n",
    "\n",
    "## check version of PANGAEApy\n",
    "# !pip show pangaeapy\n",
    "\n",
    "## for details see https://pypi.org/project/pangaeapy/ \n",
    "\n",
    "import pangaeapy as pan\n",
    "from pangaeapy.pandataset import PanDataSet"
   ]
  },
  {
   "cell_type": "markdown",
   "metadata": {},
   "source": [
    "### PANGAEApy documentation\n",
    "To call the PANGAEApy documentation uncomment one of the following lines"
   ]
  },
  {
   "cell_type": "code",
   "execution_count": 3,
   "metadata": {
    "tags": []
   },
   "outputs": [],
   "source": [
    "# help(pan)\n",
    "### or \n",
    "# help(pan.panquery)\n",
    "### or\n",
    "# help(pan.pandataset)"
   ]
  },
  {
   "cell_type": "code",
   "execution_count": 4,
   "metadata": {
    "tags": []
   },
   "outputs": [],
   "source": [
    "### ignore warnings in this script\n",
    "import warnings\n",
    "from pandas.errors import SettingWithCopyWarning\n",
    "warnings.simplefilter(action='ignore', category=(SettingWithCopyWarning))\n",
    "warnings.simplefilter(action='ignore', category=FutureWarning)"
   ]
  },
  {
   "cell_type": "markdown",
   "metadata": {
    "tags": []
   },
   "source": [
    "## 2. Query for data in PANGAEA\n",
    "\n",
    "AIM: How to search for datasets of a particular topic such as a species, location, project or author?\n",
    "\n",
    "This mirrors the query via the [PANGAEA website](https://pangaea.de/)  \n",
    "\n",
    "**Note:** The search term is enclosed with single quotes '. If your search term includes a blank, use additional double quotes \" inside the single quotes.  \n",
    "Example: _'sea ice'_ vs. _'\"sea ice\"'_  \n",
    "Example: _'parameter:Temperature, water method:CTD/Rosette'_ vs. _'parameter:\"Temperature, water\" method:CTD/Rosette'_"
   ]
  },
  {
   "cell_type": "markdown",
   "metadata": {
    "tags": []
   },
   "source": [
    "#### General info on query\n",
    "* limit = the maximum number of datasets to be returned from query is 500.\n",
    "    * default limit = 10\n",
    "    * To download > 500 use the offset attribute e.g. pan.PanQuery(\"Triticum\", limit = 500, offset=500)\n",
    "* type: \n",
    "    * collection = dataset collection\n",
    "    * member = individual dataset which can be part of a dataset collection \n",
    "* score: Indicates how well the dataset matched the query search term\n",
    "* help(pan.panquery)"
   ]
  },
  {
   "cell_type": "markdown",
   "metadata": {},
   "source": [
    "### 2.1 Basic example queries\n",
    "* search via [keywords](https://wiki.pangaea.de/wiki/PANGAEA_search)\n",
    "* search via geographical coordinates a.k.a. bounding box"
   ]
  },
  {
   "cell_type": "markdown",
   "metadata": {},
   "source": [
    "#### Query PANGAEA with 1 keyword"
   ]
  },
  {
   "cell_type": "code",
   "execution_count": 5,
   "metadata": {},
   "outputs": [],
   "source": [
    "query = pan.PanQuery('Geochemistry')\n",
    "### compare with https://pangaea.de/?q=Geochemistry"
   ]
  },
  {
   "cell_type": "code",
   "execution_count": 6,
   "metadata": {},
   "outputs": [
    {
     "name": "stdout",
     "output_type": "stream",
     "text": [
      "<pangaeapy.panquery.PanQuery object at 0x7f39c8084d70>\n"
     ]
    }
   ],
   "source": [
    "### query is a PANGAEApy object with built in objects\n",
    "print(query)"
   ]
  },
  {
   "cell_type": "code",
   "execution_count": 7,
   "metadata": {},
   "outputs": [
    {
     "name": "stdout",
     "output_type": "stream",
     "text": [
      "Geochemistry\n"
     ]
    }
   ],
   "source": [
    "### you can ask the following attributes\n",
    "## totalcount, error, query, result\n",
    "print(query.query)"
   ]
  },
  {
   "cell_type": "code",
   "execution_count": 8,
   "metadata": {},
   "outputs": [
    {
     "name": "stdout",
     "output_type": "stream",
     "text": [
      "There are 23272 query results.\n"
     ]
    }
   ],
   "source": [
    "print(f'There are {query.totalcount} query results.')"
   ]
  },
  {
   "cell_type": "code",
   "execution_count": 9,
   "metadata": {},
   "outputs": [
    {
     "name": "stdout",
     "output_type": "stream",
     "text": [
      "Total length of data frame query_results is 10.\n"
     ]
    }
   ],
   "source": [
    "### put query results into dataframe\n",
    "query_results = pd.DataFrame(query.result)\n",
    "print(f'Total length of data frame query_results is {len(query_results)}.')"
   ]
  },
  {
   "cell_type": "code",
   "execution_count": 10,
   "metadata": {},
   "outputs": [
    {
     "data": {
      "text/html": [
       "<div>\n",
       "<style scoped>\n",
       "    .dataframe tbody tr th:only-of-type {\n",
       "        vertical-align: middle;\n",
       "    }\n",
       "\n",
       "    .dataframe tbody tr th {\n",
       "        vertical-align: top;\n",
       "    }\n",
       "\n",
       "    .dataframe thead th {\n",
       "        text-align: right;\n",
       "    }\n",
       "</style>\n",
       "<table border=\"1\" class=\"dataframe\">\n",
       "  <thead>\n",
       "    <tr style=\"text-align: right;\">\n",
       "      <th></th>\n",
       "      <th>URI</th>\n",
       "      <th>score</th>\n",
       "      <th>html</th>\n",
       "      <th>type</th>\n",
       "      <th>position</th>\n",
       "    </tr>\n",
       "  </thead>\n",
       "  <tbody>\n",
       "    <tr>\n",
       "      <th>0</th>\n",
       "      <td>doi:10.1594/PANGAEA.763295</td>\n",
       "      <td>26.125828</td>\n",
       "      <td>&lt;li&gt;&lt;div class=\"citation\"&gt;&lt;a href=\"https://doi...</td>\n",
       "      <td>collection</td>\n",
       "      <td>0</td>\n",
       "    </tr>\n",
       "    <tr>\n",
       "      <th>1</th>\n",
       "      <td>doi:10.1594/PANGAEA.757640</td>\n",
       "      <td>26.000298</td>\n",
       "      <td>&lt;li&gt;&lt;div class=\"citation\"&gt;&lt;a href=\"https://doi...</td>\n",
       "      <td>collection</td>\n",
       "      <td>1</td>\n",
       "    </tr>\n",
       "    <tr>\n",
       "      <th>2</th>\n",
       "      <td>doi:10.1594/PANGAEA.792717</td>\n",
       "      <td>25.770397</td>\n",
       "      <td>&lt;li&gt;&lt;div class=\"citation\"&gt;&lt;a href=\"https://doi...</td>\n",
       "      <td>collection</td>\n",
       "      <td>2</td>\n",
       "    </tr>\n",
       "    <tr>\n",
       "      <th>3</th>\n",
       "      <td>doi:10.1594/PANGAEA.763350</td>\n",
       "      <td>25.511566</td>\n",
       "      <td>&lt;li&gt;&lt;div class=\"citation\"&gt;&lt;a href=\"https://doi...</td>\n",
       "      <td>collection</td>\n",
       "      <td>3</td>\n",
       "    </tr>\n",
       "    <tr>\n",
       "      <th>4</th>\n",
       "      <td>doi:10.1594/PANGAEA.725824</td>\n",
       "      <td>25.318384</td>\n",
       "      <td>&lt;li&gt;&lt;div class=\"citation\"&gt;&lt;a href=\"https://doi...</td>\n",
       "      <td>collection</td>\n",
       "      <td>4</td>\n",
       "    </tr>\n",
       "    <tr>\n",
       "      <th>5</th>\n",
       "      <td>doi:10.1594/PANGAEA.788108</td>\n",
       "      <td>25.310232</td>\n",
       "      <td>&lt;li&gt;&lt;div class=\"citation\"&gt;&lt;a href=\"https://doi...</td>\n",
       "      <td>collection</td>\n",
       "      <td>5</td>\n",
       "    </tr>\n",
       "    <tr>\n",
       "      <th>6</th>\n",
       "      <td>doi:10.1594/PANGAEA.738188</td>\n",
       "      <td>25.310232</td>\n",
       "      <td>&lt;li&gt;&lt;div class=\"citation\"&gt;&lt;a href=\"https://doi...</td>\n",
       "      <td>collection</td>\n",
       "      <td>6</td>\n",
       "    </tr>\n",
       "    <tr>\n",
       "      <th>7</th>\n",
       "      <td>doi:10.1594/PANGAEA.757260</td>\n",
       "      <td>25.244822</td>\n",
       "      <td>&lt;li&gt;&lt;div class=\"citation\"&gt;&lt;a href=\"https://doi...</td>\n",
       "      <td>collection</td>\n",
       "      <td>7</td>\n",
       "    </tr>\n",
       "    <tr>\n",
       "      <th>8</th>\n",
       "      <td>doi:10.1594/PANGAEA.790780</td>\n",
       "      <td>24.969322</td>\n",
       "      <td>&lt;li&gt;&lt;div class=\"citation\"&gt;&lt;a href=\"https://doi...</td>\n",
       "      <td>collection</td>\n",
       "      <td>8</td>\n",
       "    </tr>\n",
       "    <tr>\n",
       "      <th>9</th>\n",
       "      <td>doi:10.1594/PANGAEA.746058</td>\n",
       "      <td>24.820970</td>\n",
       "      <td>&lt;li&gt;&lt;div class=\"citation\"&gt;&lt;a href=\"https://doi...</td>\n",
       "      <td>collection</td>\n",
       "      <td>9</td>\n",
       "    </tr>\n",
       "  </tbody>\n",
       "</table>\n",
       "</div>"
      ],
      "text/plain": [
       "                          URI      score  \\\n",
       "0  doi:10.1594/PANGAEA.763295  26.125828   \n",
       "1  doi:10.1594/PANGAEA.757640  26.000298   \n",
       "2  doi:10.1594/PANGAEA.792717  25.770397   \n",
       "3  doi:10.1594/PANGAEA.763350  25.511566   \n",
       "4  doi:10.1594/PANGAEA.725824  25.318384   \n",
       "5  doi:10.1594/PANGAEA.788108  25.310232   \n",
       "6  doi:10.1594/PANGAEA.738188  25.310232   \n",
       "7  doi:10.1594/PANGAEA.757260  25.244822   \n",
       "8  doi:10.1594/PANGAEA.790780  24.969322   \n",
       "9  doi:10.1594/PANGAEA.746058  24.820970   \n",
       "\n",
       "                                                html        type  position  \n",
       "0  <li><div class=\"citation\"><a href=\"https://doi...  collection         0  \n",
       "1  <li><div class=\"citation\"><a href=\"https://doi...  collection         1  \n",
       "2  <li><div class=\"citation\"><a href=\"https://doi...  collection         2  \n",
       "3  <li><div class=\"citation\"><a href=\"https://doi...  collection         3  \n",
       "4  <li><div class=\"citation\"><a href=\"https://doi...  collection         4  \n",
       "5  <li><div class=\"citation\"><a href=\"https://doi...  collection         5  \n",
       "6  <li><div class=\"citation\"><a href=\"https://doi...  collection         6  \n",
       "7  <li><div class=\"citation\"><a href=\"https://doi...  collection         7  \n",
       "8  <li><div class=\"citation\"><a href=\"https://doi...  collection         8  \n",
       "9  <li><div class=\"citation\"><a href=\"https://doi...  collection         9  "
      ]
     },
     "execution_count": 10,
     "metadata": {},
     "output_type": "execute_result"
    }
   ],
   "source": [
    "query_results"
   ]
  },
  {
   "cell_type": "markdown",
   "metadata": {},
   "source": [
    "#### Query PANGAEA with combinations of keywords"
   ]
  },
  {
   "cell_type": "code",
   "execution_count": 11,
   "metadata": {},
   "outputs": [
    {
     "name": "stdout",
     "output_type": "stream",
     "text": [
      "There are 5742 query results.\n"
     ]
    }
   ],
   "source": [
    "### find datasets that contain both \"Geochemistry\" and \"sediment core\"\n",
    "## remember how to use the different quotes:\n",
    "## The search term is enclosed with single quotes '. If your search term includes a blank, use additional double quotes \" inside the single quotes.\n",
    "query = pan.PanQuery('Geochemistry \"sediment core\"')\n",
    "print(f'There are {query.totalcount} query results.')"
   ]
  },
  {
   "cell_type": "markdown",
   "metadata": {},
   "source": [
    "#### Optional query terms"
   ]
  },
  {
   "cell_type": "code",
   "execution_count": 12,
   "metadata": {},
   "outputs": [
    {
     "name": "stdout",
     "output_type": "stream",
     "text": [
      "There are 1421 query results.\n"
     ]
    }
   ],
   "source": [
    "### find datasets that contain \"Geochemistry\" and either \"Spitzbergen\" or \"Svalbard\" \n",
    "query = pan.PanQuery('Geochemistry AND (Spitzbergen OR Svalbard)')\n",
    "print(f'There are {query.totalcount} query results.')"
   ]
  },
  {
   "cell_type": "markdown",
   "metadata": {},
   "source": [
    "#### Uncertain spelling"
   ]
  },
  {
   "cell_type": "code",
   "execution_count": 13,
   "metadata": {},
   "outputs": [
    {
     "name": "stdout",
     "output_type": "stream",
     "text": [
      "There are 857 query results.\n"
     ]
    }
   ],
   "source": [
    "### find datasets with uncertain spelling of single letter\n",
    "query = pan.PanQuery('Pal?nologic')\n",
    "print(f'There are {query.totalcount} query results.')"
   ]
  },
  {
   "cell_type": "markdown",
   "metadata": {},
   "source": [
    "#### Specific author"
   ]
  },
  {
   "cell_type": "code",
   "execution_count": 14,
   "metadata": {},
   "outputs": [
    {
     "name": "stdout",
     "output_type": "stream",
     "text": [
      "There are 1854 query results.\n"
     ]
    }
   ],
   "source": [
    "### find datasets of author \"Boetius\"\n",
    "query = pan.PanQuery('citation:author:Boetius')\n",
    "print(f'There are {query.totalcount} query results.') "
   ]
  },
  {
   "cell_type": "markdown",
   "metadata": {},
   "source": [
    "#### Within geographical coordinates a.k.a bounding box"
   ]
  },
  {
   "cell_type": "code",
   "execution_count": 15,
   "metadata": {},
   "outputs": [
    {
     "name": "stdout",
     "output_type": "stream",
     "text": [
      "There are 186 query results.\n"
     ]
    }
   ],
   "source": [
    "### query database for \"Geochemistry\" and \"sediment core\" within a certain geolocation a.k.a. bounding box\n",
    "## bounding box: bbox=(minlon, minlat,  maxlon, maxlat)\n",
    "query = pan.PanQuery('Geochemistry \"sediment core\"', limit = 500, bbox=(-60, 50, -10, 70))\n",
    "print(f'There are {query.totalcount} query results.')"
   ]
  },
  {
   "cell_type": "markdown",
   "metadata": {},
   "source": [
    "### 2.2 How to query PANGAEA without result limitations\n",
    "* The maximum of retrieving search results is 500 datasets.  \n",
    "* Retrieve datasets in chunks of 500 via offset option.  \n",
    "* Put all datasets in one data frame."
   ]
  },
  {
   "cell_type": "code",
   "execution_count": 16,
   "metadata": {},
   "outputs": [
    {
     "name": "stdout",
     "output_type": "stream",
     "text": [
      "There are 758 query results.\n",
      "Currently query consists of 500 entries.\n",
      "df_query_results_all consists of 758 results.\n"
     ]
    }
   ],
   "source": [
    "### Get all results and combine them in data frame.\n",
    "\n",
    "### define search pattern\n",
    "search_pattern = 'project:label:PAGES_C-PEAT'\n",
    "\n",
    "### basic query to get number of search results\n",
    "query = pan.PanQuery(search_pattern, limit = 500)\n",
    "print(f'There are {query.totalcount} query results.')\n",
    "print(f'Currently query consists of {len(query.result)} entries.')\n",
    "\n",
    "### create empty data frame\n",
    "df_query_results_all = pd.DataFrame()\n",
    "\n",
    "### loop over all results in steps of 500\n",
    "for i in np.arange(0,query.totalcount,500):\n",
    "    \n",
    "    ### store result of individual step in qs\n",
    "    qs = pan.PanQuery(search_pattern, limit = 500, offset=i)\n",
    "    \n",
    "    ### convert qs result with 500 entries to data frame df_qs\n",
    "    df_qs = pd.DataFrame(qs.result)\n",
    "    \n",
    "    ### concatenate all individual df_qs into one data frame named query_results_all\n",
    "    df_query_results_all = pd.concat([df_query_results_all,df_qs],ignore_index=True)\n",
    "    \n",
    "print(f'df_query_results_all consists of {len(df_query_results_all)} results.')"
   ]
  },
  {
   "cell_type": "code",
   "execution_count": 17,
   "metadata": {},
   "outputs": [
    {
     "data": {
      "text/html": [
       "<div>\n",
       "<style scoped>\n",
       "    .dataframe tbody tr th:only-of-type {\n",
       "        vertical-align: middle;\n",
       "    }\n",
       "\n",
       "    .dataframe tbody tr th {\n",
       "        vertical-align: top;\n",
       "    }\n",
       "\n",
       "    .dataframe thead th {\n",
       "        text-align: right;\n",
       "    }\n",
       "</style>\n",
       "<table border=\"1\" class=\"dataframe\">\n",
       "  <thead>\n",
       "    <tr style=\"text-align: right;\">\n",
       "      <th></th>\n",
       "      <th>URI</th>\n",
       "      <th>score</th>\n",
       "      <th>html</th>\n",
       "      <th>type</th>\n",
       "      <th>position</th>\n",
       "    </tr>\n",
       "  </thead>\n",
       "  <tbody>\n",
       "    <tr>\n",
       "      <th>0</th>\n",
       "      <td>doi:10.1594/PANGAEA.890490</td>\n",
       "      <td>6.520642</td>\n",
       "      <td>&lt;li&gt;&lt;div class=\"citation\"&gt;&lt;a href=\"https://doi...</td>\n",
       "      <td>member</td>\n",
       "      <td>0</td>\n",
       "    </tr>\n",
       "    <tr>\n",
       "      <th>1</th>\n",
       "      <td>doi:10.1594/PANGAEA.890383</td>\n",
       "      <td>6.520642</td>\n",
       "      <td>&lt;li&gt;&lt;div class=\"citation\"&gt;&lt;a href=\"https://doi...</td>\n",
       "      <td>member</td>\n",
       "      <td>1</td>\n",
       "    </tr>\n",
       "    <tr>\n",
       "      <th>2</th>\n",
       "      <td>doi:10.1594/PANGAEA.890497</td>\n",
       "      <td>6.520642</td>\n",
       "      <td>&lt;li&gt;&lt;div class=\"citation\"&gt;&lt;a href=\"https://doi...</td>\n",
       "      <td>member</td>\n",
       "      <td>2</td>\n",
       "    </tr>\n",
       "    <tr>\n",
       "      <th>755</th>\n",
       "      <td>doi:10.1594/PANGAEA.936501</td>\n",
       "      <td>6.244241</td>\n",
       "      <td>&lt;li&gt;&lt;div class=\"citation\"&gt;&lt;a href=\"https://doi...</td>\n",
       "      <td>member</td>\n",
       "      <td>755</td>\n",
       "    </tr>\n",
       "    <tr>\n",
       "      <th>756</th>\n",
       "      <td>doi:10.1594/PANGAEA.934839</td>\n",
       "      <td>6.244241</td>\n",
       "      <td>&lt;li&gt;&lt;div class=\"citation\"&gt;&lt;a href=\"https://doi...</td>\n",
       "      <td>member</td>\n",
       "      <td>756</td>\n",
       "    </tr>\n",
       "    <tr>\n",
       "      <th>757</th>\n",
       "      <td>doi:10.1594/PANGAEA.929546</td>\n",
       "      <td>6.244241</td>\n",
       "      <td>&lt;li&gt;&lt;div class=\"citation\"&gt;&lt;a href=\"https://doi...</td>\n",
       "      <td>member</td>\n",
       "      <td>757</td>\n",
       "    </tr>\n",
       "  </tbody>\n",
       "</table>\n",
       "</div>"
      ],
      "text/plain": [
       "                            URI     score  \\\n",
       "0    doi:10.1594/PANGAEA.890490  6.520642   \n",
       "1    doi:10.1594/PANGAEA.890383  6.520642   \n",
       "2    doi:10.1594/PANGAEA.890497  6.520642   \n",
       "755  doi:10.1594/PANGAEA.936501  6.244241   \n",
       "756  doi:10.1594/PANGAEA.934839  6.244241   \n",
       "757  doi:10.1594/PANGAEA.929546  6.244241   \n",
       "\n",
       "                                                  html    type  position  \n",
       "0    <li><div class=\"citation\"><a href=\"https://doi...  member         0  \n",
       "1    <li><div class=\"citation\"><a href=\"https://doi...  member         1  \n",
       "2    <li><div class=\"citation\"><a href=\"https://doi...  member         2  \n",
       "755  <li><div class=\"citation\"><a href=\"https://doi...  member       755  \n",
       "756  <li><div class=\"citation\"><a href=\"https://doi...  member       756  \n",
       "757  <li><div class=\"citation\"><a href=\"https://doi...  member       757  "
      ]
     },
     "execution_count": 17,
     "metadata": {},
     "output_type": "execute_result"
    }
   ],
   "source": [
    "### show first and last 3 lines\n",
    "pd.concat( [ df_query_results_all.head(3), df_query_results_all.tail(3) ] )"
   ]
  },
  {
   "cell_type": "markdown",
   "metadata": {},
   "source": [
    "### 2.3 Quiz\n",
    "\n",
    "[More information](https://wiki.pangaea.de/wiki/PANGAEA_search) how to query with keywords"
   ]
  },
  {
   "cell_type": "markdown",
   "metadata": {},
   "source": [
    "#### 2.3.1 How many datasets contain \"geological investigations\"?\n",
    "Hint: \"geological investigations\" **not** \"geological\" and \"investigations\""
   ]
  },
  {
   "cell_type": "code",
   "execution_count": 18,
   "metadata": {},
   "outputs": [],
   "source": [
    "# Your solution"
   ]
  },
  {
   "cell_type": "code",
   "execution_count": 19,
   "metadata": {},
   "outputs": [
    {
     "name": "stdout",
     "output_type": "stream",
     "text": [
      "57\n"
     ]
    }
   ],
   "source": [
    "### solution\n",
    "query = pan.PanQuery('\"geological investigations\"')\n",
    "print(query.totalcount)"
   ]
  },
  {
   "cell_type": "markdown",
   "metadata": {},
   "source": [
    "#### 2.3.2 How many datasets contain \"geological investigations\" in the title only?"
   ]
  },
  {
   "cell_type": "code",
   "execution_count": 20,
   "metadata": {},
   "outputs": [],
   "source": [
    "# Your solution"
   ]
  },
  {
   "cell_type": "code",
   "execution_count": 21,
   "metadata": {},
   "outputs": [
    {
     "name": "stdout",
     "output_type": "stream",
     "text": [
      "6\n"
     ]
    }
   ],
   "source": [
    "### solution\n",
    "query = pan.PanQuery('citation:title:\"geological investigations\"')\n",
    "print(query.totalcount)"
   ]
  },
  {
   "cell_type": "markdown",
   "metadata": {},
   "source": [
    "#### 2.3.3 How many datasets measured \"Temperature, water\" using a CTD/Rosette?"
   ]
  },
  {
   "cell_type": "code",
   "execution_count": 22,
   "metadata": {},
   "outputs": [],
   "source": [
    "# Your solution"
   ]
  },
  {
   "cell_type": "code",
   "execution_count": 23,
   "metadata": {},
   "outputs": [
    {
     "name": "stdout",
     "output_type": "stream",
     "text": [
      "17980\n"
     ]
    }
   ],
   "source": [
    "### solution\n",
    "query = pan.PanQuery('parameter:\"Temperature, water\" method:CTD/Rosette')\n",
    "print(query.totalcount)"
   ]
  },
  {
   "cell_type": "markdown",
   "metadata": {},
   "source": [
    "## 3. Get metadata of datasets\n",
    "\n",
    "A long list of metadata is callable with PanDataSet. \n",
    "Find a comprehensive list in internal documentation  \n",
    "_help(pan.PanQuery)_    \n",
    "or in this notebook full of examples: [pangaeapy_detailed_metadata_search.ipynb](https://github.com/pangaea-data-publisher/community-workshop-material/tree/master/Python/PANGAEApy_practical/pangaeapy_detailed_metadata_search.ipynb)"
   ]
  },
  {
   "cell_type": "markdown",
   "metadata": {},
   "source": [
    "### 3.1 Get metadata of individual dataset"
   ]
  },
  {
   "cell_type": "markdown",
   "metadata": {},
   "source": [
    "##### Example dataset from PANGAEA https://doi.pangaea.de/10.1594/PANGAEA.918423 "
   ]
  },
  {
   "cell_type": "code",
   "execution_count": 24,
   "metadata": {},
   "outputs": [],
   "source": [
    "### 3 ways to ask for dataset metadata\n",
    "## complete URL\n",
    "# ds = PanDataSet('https://doi.pangaea.de/10.1594/PANGAEA.918423', include_data=False) \n",
    "## just URI\n",
    "# ds = PanDataSet('doi:10.1594/PANGAEA.918423', include_data=False)\n",
    "## just PANGAEA id number of dataset\n",
    "ds = PanDataSet(918423, include_data=False) "
   ]
  },
  {
   "cell_type": "markdown",
   "metadata": {},
   "source": [
    "#### Basic metadata retrieval"
   ]
  },
  {
   "cell_type": "code",
   "execution_count": 25,
   "metadata": {},
   "outputs": [
    {
     "data": {
      "text/plain": [
       "'Geochemistry of sediment core Core_PGI01 from Penguin Island (South Shetland Archipelago, Antarctica)'"
      ]
     },
     "execution_count": 25,
     "metadata": {},
     "output_type": "execute_result"
    }
   ],
   "source": [
    "### Title\n",
    "ds.title"
   ]
  },
  {
   "cell_type": "code",
   "execution_count": 26,
   "metadata": {},
   "outputs": [],
   "source": [
    "### Abstract\n",
    "ds.abstract"
   ]
  },
  {
   "cell_type": "code",
   "execution_count": 27,
   "metadata": {},
   "outputs": [
    {
     "name": "stdout",
     "output_type": "stream",
     "text": [
      "Authors: Guerra, Roberta\n"
     ]
    }
   ],
   "source": [
    "### Authors\n",
    "print(f'Authors: {\"; \".join([x.fullname for x in ds.authors])}')"
   ]
  },
  {
   "cell_type": "code",
   "execution_count": 28,
   "metadata": {},
   "outputs": [
    {
     "data": {
      "text/plain": [
       "'Guerra, Roberta (2020): Geochemistry of sediment core Core_PGI01 from Penguin Island (South Shetland Archipelago, Antarctica) [dataset]. PANGAEA, https://doi.org/10.1594/PANGAEA.918423, In: Guerra, R (2020): Geochemistry of sediment cores from Deception and Penguin Islands (South Shetland Archipelago, Antarctica) [dataset bundled publication]. PANGAEA, https://doi.org/10.1594/PANGAEA.918427'"
      ]
     },
     "execution_count": 28,
     "metadata": {},
     "output_type": "execute_result"
    }
   ],
   "source": [
    "### Full Reference\n",
    "ds.citation"
   ]
  },
  {
   "cell_type": "code",
   "execution_count": 29,
   "metadata": {},
   "outputs": [
    {
     "name": "stdout",
     "output_type": "stream",
     "text": [
      "Latitude: -62.11\n",
      "Longitude: -57.941\n"
     ]
    }
   ],
   "source": [
    "### Geolocation\n",
    "print(f'Latitude: {ds.geometryextent[\"meanLatitude\"]}')\n",
    "print(f'Longitude: {ds.geometryextent[\"meanLongitude\"]}')"
   ]
  },
  {
   "cell_type": "code",
   "execution_count": 30,
   "metadata": {},
   "outputs": [
    {
     "name": "stdout",
     "output_type": "stream",
     "text": [
      "Parameters: Depth, top/min [m]; Depth, bottom/max [m]; DEPTH, sediment/rock [m]; Silicon dioxide [%]; Aluminium oxide [%]; Iron oxide, Fe2O3 [%]; Manganese oxide [%]; Magnesium oxide [%]; Calcium oxide [%]; Vanadium [mg/kg]; Chromium [mg/kg]; Nickel [mg/kg]; Copper [mg/kg]; Zinc [mg/kg]; Strontium [mg/kg]; Lead [mg/kg]\n"
     ]
    }
   ],
   "source": [
    "### Parameters\n",
    "params = \"; \".join([f'{param.name} [{param.unit}]' if param.unit else param.name for param in ds.params.values()])\n",
    "print(f'Parameters: {params}')"
   ]
  },
  {
   "cell_type": "code",
   "execution_count": 31,
   "metadata": {},
   "outputs": [
    {
     "data": {
      "text/html": [
       "<div>\n",
       "<style scoped>\n",
       "    .dataframe tbody tr th:only-of-type {\n",
       "        vertical-align: middle;\n",
       "    }\n",
       "\n",
       "    .dataframe tbody tr th {\n",
       "        vertical-align: top;\n",
       "    }\n",
       "\n",
       "    .dataframe thead th {\n",
       "        text-align: right;\n",
       "    }\n",
       "</style>\n",
       "<table border=\"1\" class=\"dataframe\">\n",
       "  <thead>\n",
       "    <tr style=\"text-align: right;\">\n",
       "      <th></th>\n",
       "      <th>label</th>\n",
       "      <th>id</th>\n",
       "      <th>latitude</th>\n",
       "      <th>longitude</th>\n",
       "      <th>latitude2</th>\n",
       "      <th>longitude2</th>\n",
       "      <th>elevation</th>\n",
       "      <th>device</th>\n",
       "      <th>deviceid</th>\n",
       "      <th>method</th>\n",
       "      <th>basis</th>\n",
       "      <th>datetime</th>\n",
       "      <th>datetime2</th>\n",
       "      <th>location</th>\n",
       "      <th>campaign</th>\n",
       "    </tr>\n",
       "  </thead>\n",
       "  <tbody>\n",
       "    <tr>\n",
       "      <th>0</th>\n",
       "      <td>Core_PGI01</td>\n",
       "      <td>2941949</td>\n",
       "      <td>-62.11</td>\n",
       "      <td>-57.941</td>\n",
       "      <td>None</td>\n",
       "      <td>None</td>\n",
       "      <td>-90.0</td>\n",
       "      <td>Box corer</td>\n",
       "      <td>10832</td>\n",
       "      <td>&lt;pangaeapy.pandataset.PanMethod object at 0x7f...</td>\n",
       "      <td>&lt;pangaeapy.pandataset.PanBasis object at 0x7f3...</td>\n",
       "      <td>2007-12-01T00:00:00</td>\n",
       "      <td>2008-01-30T00:00:00</td>\n",
       "      <td>Penguin Island, South Shetland Archipelago</td>\n",
       "      <td>OPERANTAR_XXVI</td>\n",
       "    </tr>\n",
       "  </tbody>\n",
       "</table>\n",
       "</div>"
      ],
      "text/plain": [
       "        label       id  latitude  longitude latitude2 longitude2  elevation  \\\n",
       "0  Core_PGI01  2941949    -62.11    -57.941      None       None      -90.0   \n",
       "\n",
       "      device deviceid                                             method  \\\n",
       "0  Box corer    10832  <pangaeapy.pandataset.PanMethod object at 0x7f...   \n",
       "\n",
       "                                               basis             datetime  \\\n",
       "0  <pangaeapy.pandataset.PanBasis object at 0x7f3...  2007-12-01T00:00:00   \n",
       "\n",
       "             datetime2                                    location  \\\n",
       "0  2008-01-30T00:00:00  Penguin Island, South Shetland Archipelago   \n",
       "\n",
       "         campaign  \n",
       "0  OPERANTAR_XXVI  "
      ]
     },
     "execution_count": 31,
     "metadata": {},
     "output_type": "execute_result"
    }
   ],
   "source": [
    "### Event as dataframe\n",
    "ds.getEventsAsFrame()"
   ]
  },
  {
   "cell_type": "code",
   "execution_count": 32,
   "metadata": {},
   "outputs": [
    {
     "name": "stdout",
     "output_type": "stream",
     "text": [
      "[<pangaeapy.pandataset.PanEvent object at 0x7f3915a32f90>]\n",
      "Core_PGI01\n",
      "Box corer\n",
      "Ary Rongel\n"
     ]
    }
   ],
   "source": [
    "### Event as PanEvent object\n",
    "print(ds.events)\n",
    "\n",
    "for event in ds.events:\n",
    "    print(event.label)\n",
    "    print(event.method.name)\n",
    "    print(event.basis.name)"
   ]
  },
  {
   "cell_type": "markdown",
   "metadata": {},
   "source": [
    "#### Store metadata in data frame"
   ]
  },
  {
   "cell_type": "code",
   "execution_count": 33,
   "metadata": {},
   "outputs": [],
   "source": [
    "### create empty data frame\n",
    "df = pd.DataFrame()\n",
    "\n",
    "### store metadata in df\n",
    "df.loc[0,'dataset title'] = ds.title\n",
    "df.loc[0,'abstract'] = ds.abstract\n",
    "\n",
    "### ds.authors is a list\n",
    "df.loc[0,'first author fullname'] = ds.authors[0].fullname\n",
    "df.loc[0,'all authors fullnames'] = \"; \".join([x.fullname for x in ds.authors])\n",
    "\n",
    "### authors orcids is a list\n",
    "df.loc[0,'all authors orcids'] = \"; \".join([x.ORCID if x.ORCID else \"no ORCID\" for x in ds.authors])\n",
    "\n",
    "df.loc[0,'citation'] = ds.citation\n",
    "df.loc[0,'dataset DOI'] = ds.doi\n",
    "df.loc[0,'west bound longitude'] = ds.geometryextent[\"westBoundLongitude\"]\n",
    "df.loc[0,'east bound longitude'] = ds.geometryextent[\"eastBoundLongitude\"]\n",
    "df.loc[0,'south bound latitude'] = ds.geometryextent[\"southBoundLatitude\"]\n",
    "df.loc[0,'north bound latitude'] = ds.geometryextent[\"northBoundLatitude\"]\n",
    "### parameters is a list\n",
    "df.loc[0,'parameters'] = \"; \".join([f'{param.name} [{param.unit}]' if param.unit else param.name for param in ds.params.values()])\n",
    "\n",
    "### event devices\n",
    "df.loc[0,'label'] = \"; \".join(set([device for device in ds.getEventsAsFrame()[\"label\"]]))"
   ]
  },
  {
   "cell_type": "code",
   "execution_count": 34,
   "metadata": {},
   "outputs": [
    {
     "data": {
      "text/html": [
       "<div>\n",
       "<style scoped>\n",
       "    .dataframe tbody tr th:only-of-type {\n",
       "        vertical-align: middle;\n",
       "    }\n",
       "\n",
       "    .dataframe tbody tr th {\n",
       "        vertical-align: top;\n",
       "    }\n",
       "\n",
       "    .dataframe thead th {\n",
       "        text-align: right;\n",
       "    }\n",
       "</style>\n",
       "<table border=\"1\" class=\"dataframe\">\n",
       "  <thead>\n",
       "    <tr style=\"text-align: right;\">\n",
       "      <th></th>\n",
       "      <th>dataset title</th>\n",
       "      <th>abstract</th>\n",
       "      <th>first author fullname</th>\n",
       "      <th>all authors fullnames</th>\n",
       "      <th>all authors orcids</th>\n",
       "      <th>citation</th>\n",
       "      <th>dataset DOI</th>\n",
       "      <th>west bound longitude</th>\n",
       "      <th>east bound longitude</th>\n",
       "      <th>south bound latitude</th>\n",
       "      <th>north bound latitude</th>\n",
       "      <th>parameters</th>\n",
       "      <th>label</th>\n",
       "    </tr>\n",
       "  </thead>\n",
       "  <tbody>\n",
       "    <tr>\n",
       "      <th>0</th>\n",
       "      <td>Geochemistry of sediment core Core_PGI01 from ...</td>\n",
       "      <td>None</td>\n",
       "      <td>Guerra, Roberta</td>\n",
       "      <td>Guerra, Roberta</td>\n",
       "      <td>0000-0002-7151-6616</td>\n",
       "      <td>Guerra, Roberta (2020): Geochemistry of sedime...</td>\n",
       "      <td>https://doi.org/10.1594/PANGAEA.918423</td>\n",
       "      <td>-57.941</td>\n",
       "      <td>-57.941</td>\n",
       "      <td>-62.11</td>\n",
       "      <td>-62.11</td>\n",
       "      <td>Depth, top/min [m]; Depth, bottom/max [m]; DEP...</td>\n",
       "      <td>Core_PGI01</td>\n",
       "    </tr>\n",
       "  </tbody>\n",
       "</table>\n",
       "</div>"
      ],
      "text/plain": [
       "                                       dataset title abstract  \\\n",
       "0  Geochemistry of sediment core Core_PGI01 from ...     None   \n",
       "\n",
       "  first author fullname all authors fullnames   all authors orcids  \\\n",
       "0       Guerra, Roberta       Guerra, Roberta  0000-0002-7151-6616   \n",
       "\n",
       "                                            citation  \\\n",
       "0  Guerra, Roberta (2020): Geochemistry of sedime...   \n",
       "\n",
       "                              dataset DOI west bound longitude  \\\n",
       "0  https://doi.org/10.1594/PANGAEA.918423              -57.941   \n",
       "\n",
       "  east bound longitude south bound latitude north bound latitude  \\\n",
       "0              -57.941               -62.11               -62.11   \n",
       "\n",
       "                                          parameters       label  \n",
       "0  Depth, top/min [m]; Depth, bottom/max [m]; DEP...  Core_PGI01  "
      ]
     },
     "execution_count": 34,
     "metadata": {},
     "output_type": "execute_result"
    }
   ],
   "source": [
    "df"
   ]
  },
  {
   "cell_type": "markdown",
   "metadata": {},
   "source": [
    "#### Save dataframe as file"
   ]
  },
  {
   "cell_type": "code",
   "execution_count": 35,
   "metadata": {},
   "outputs": [
    {
     "name": "stdout",
     "output_type": "stream",
     "text": [
      "PANGAEA metadata of \"Geochemistry of sediment core Core_PGI01 from Penguin Island (South Shetland Archipelago, Antarctica)\" saved\n"
     ]
    }
   ],
   "source": [
    "### Create data directory\n",
    "data_directory = \"PANGAEA_data\"\n",
    "# Check if it already exists before creating it\n",
    "if not os.path.isdir(data_directory):\n",
    "    os.mkdir(data_directory)\n",
    "    \n",
    "### Save as csv (comma seperated value)\n",
    "df.to_csv(os.path.join(data_directory, f'PANGAEA_metadata_{ds.id}.csv'), encoding='utf-8', index=False)\n",
    "df.to_csv(os.path.join(data_directory, f'PANGAEA_metadata_{ds.id}.txt'), sep='\\t', encoding='utf-8', index=False)\n",
    "print(f'PANGAEA metadata of \"{ds.title}\" saved')"
   ]
  },
  {
   "cell_type": "markdown",
   "metadata": {},
   "source": [
    "### 3.2 Getting metadata for multiple datasets"
   ]
  },
  {
   "cell_type": "code",
   "execution_count": 36,
   "metadata": {},
   "outputs": [],
   "source": [
    "### define search pattern\n",
    "search_pattern = 'project:label:PAGES_C-PEAT and citation:title:geochemistry'"
   ]
  },
  {
   "cell_type": "code",
   "execution_count": 37,
   "metadata": {},
   "outputs": [
    {
     "name": "stdout",
     "output_type": "stream",
     "text": [
      "There are 267 query results.\n",
      "Currently query consists of 5 entries.\n"
     ]
    }
   ],
   "source": [
    "### do query, pay attention to limit\n",
    "query = pan.PanQuery(search_pattern, limit = 5)\n",
    "print(f'There are {query.totalcount} query results.')\n",
    "print(f'Currently query consists of {len(query.result)} entries.')"
   ]
  },
  {
   "cell_type": "code",
   "execution_count": 38,
   "metadata": {},
   "outputs": [],
   "source": [
    "### store query results in dataframe\n",
    "df = pd.DataFrame(query.result)"
   ]
  },
  {
   "cell_type": "code",
   "execution_count": 39,
   "metadata": {},
   "outputs": [
    {
     "data": {
      "text/html": [
       "<div>\n",
       "<style scoped>\n",
       "    .dataframe tbody tr th:only-of-type {\n",
       "        vertical-align: middle;\n",
       "    }\n",
       "\n",
       "    .dataframe tbody tr th {\n",
       "        vertical-align: top;\n",
       "    }\n",
       "\n",
       "    .dataframe thead th {\n",
       "        text-align: right;\n",
       "    }\n",
       "</style>\n",
       "<table border=\"1\" class=\"dataframe\">\n",
       "  <thead>\n",
       "    <tr style=\"text-align: right;\">\n",
       "      <th></th>\n",
       "      <th>URI</th>\n",
       "      <th>score</th>\n",
       "      <th>html</th>\n",
       "      <th>type</th>\n",
       "      <th>position</th>\n",
       "    </tr>\n",
       "  </thead>\n",
       "  <tbody>\n",
       "    <tr>\n",
       "      <th>0</th>\n",
       "      <td>doi:10.1594/PANGAEA.890490</td>\n",
       "      <td>16.503645</td>\n",
       "      <td>&lt;li&gt;&lt;div class=\"citation\"&gt;&lt;a href=\"https://doi...</td>\n",
       "      <td>member</td>\n",
       "      <td>0</td>\n",
       "    </tr>\n",
       "    <tr>\n",
       "      <th>1</th>\n",
       "      <td>doi:10.1594/PANGAEA.890537</td>\n",
       "      <td>16.503645</td>\n",
       "      <td>&lt;li&gt;&lt;div class=\"citation\"&gt;&lt;a href=\"https://doi...</td>\n",
       "      <td>member</td>\n",
       "      <td>1</td>\n",
       "    </tr>\n",
       "    <tr>\n",
       "      <th>2</th>\n",
       "      <td>doi:10.1594/PANGAEA.890538</td>\n",
       "      <td>16.406353</td>\n",
       "      <td>&lt;li&gt;&lt;div class=\"citation\"&gt;&lt;a href=\"https://doi...</td>\n",
       "      <td>member</td>\n",
       "      <td>2</td>\n",
       "    </tr>\n",
       "    <tr>\n",
       "      <th>3</th>\n",
       "      <td>doi:10.1594/PANGAEA.890415</td>\n",
       "      <td>16.406353</td>\n",
       "      <td>&lt;li&gt;&lt;div class=\"citation\"&gt;&lt;a href=\"https://doi...</td>\n",
       "      <td>member</td>\n",
       "      <td>3</td>\n",
       "    </tr>\n",
       "    <tr>\n",
       "      <th>4</th>\n",
       "      <td>doi:10.1594/PANGAEA.890186</td>\n",
       "      <td>16.406353</td>\n",
       "      <td>&lt;li&gt;&lt;div class=\"citation\"&gt;&lt;a href=\"https://doi...</td>\n",
       "      <td>member</td>\n",
       "      <td>4</td>\n",
       "    </tr>\n",
       "  </tbody>\n",
       "</table>\n",
       "</div>"
      ],
      "text/plain": [
       "                          URI      score  \\\n",
       "0  doi:10.1594/PANGAEA.890490  16.503645   \n",
       "1  doi:10.1594/PANGAEA.890537  16.503645   \n",
       "2  doi:10.1594/PANGAEA.890538  16.406353   \n",
       "3  doi:10.1594/PANGAEA.890415  16.406353   \n",
       "4  doi:10.1594/PANGAEA.890186  16.406353   \n",
       "\n",
       "                                                html    type  position  \n",
       "0  <li><div class=\"citation\"><a href=\"https://doi...  member         0  \n",
       "1  <li><div class=\"citation\"><a href=\"https://doi...  member         1  \n",
       "2  <li><div class=\"citation\"><a href=\"https://doi...  member         2  \n",
       "3  <li><div class=\"citation\"><a href=\"https://doi...  member         3  \n",
       "4  <li><div class=\"citation\"><a href=\"https://doi...  member         4  "
      ]
     },
     "execution_count": 39,
     "metadata": {},
     "output_type": "execute_result"
    }
   ],
   "source": [
    "df"
   ]
  },
  {
   "cell_type": "markdown",
   "metadata": {},
   "source": [
    "#### Loop over all entries in df and get metadata for each entry\n",
    "NOTE: As a safety precaution, the number of metadata requests is limited for a specific time period. \n",
    "\n",
    "_Received too many (metadata) requests error (429)...waiting 30s -_\n",
    "\n",
    "If you have larger requests, prepare to wait or use a different tool e.g. OAI-PMH (https://wiki.pangaea.de/wiki/OAI-PMH)."
   ]
  },
  {
   "cell_type": "code",
   "execution_count": 40,
   "metadata": {},
   "outputs": [
    {
     "name": "stdout",
     "output_type": "stream",
     "text": [
      "0 https://doi.org/10.1594/PANGAEA.890490\n",
      "1 https://doi.org/10.1594/PANGAEA.890537\n",
      "2 https://doi.org/10.1594/PANGAEA.890538\n",
      "3 https://doi.org/10.1594/PANGAEA.890415\n",
      "4 https://doi.org/10.1594/PANGAEA.890186\n"
     ]
    }
   ],
   "source": [
    "### Create one data frame for all datasets\n",
    "data_all = pd.DataFrame()\n",
    "\n",
    "### loop over all datasets ins df\n",
    "for ind,value in df['URI'].items():\n",
    "    \n",
    "    ## use PanDataSet to get metadata and data and put them into 2 diferent dataframes\n",
    "    ds = PanDataSet(value, include_data=False)\n",
    "\n",
    "    print(ind, ds.doi)\n",
    "\n",
    "    ## put metadata into df in new columns\n",
    "    df.loc[ind,'Title'] = ds.title\n",
    "    df.loc[ind,'Publication date'] = ds.date\n",
    "    df.loc[ind,'Authors'] = {\"; \".join([x.fullname for x in ds.authors])}\n",
    "    df.loc[ind,'Citation'] = ds.citation\n",
    "    df.loc[ind,'DOI'] = ds.doi\n",
    "    df.loc[ind,'Parameters'] = \"; \".join([f'{param.name} [{param.unit}]' if param.unit else param.name for param in ds.params.values()])\n",
    "    if ds.events:\n",
    "        df.loc[ind,'Event'] = \"; \".join([x.label for x in ds.events])\n"
   ]
  },
  {
   "cell_type": "code",
   "execution_count": 41,
   "metadata": {},
   "outputs": [
    {
     "data": {
      "text/html": [
       "<div>\n",
       "<style scoped>\n",
       "    .dataframe tbody tr th:only-of-type {\n",
       "        vertical-align: middle;\n",
       "    }\n",
       "\n",
       "    .dataframe tbody tr th {\n",
       "        vertical-align: top;\n",
       "    }\n",
       "\n",
       "    .dataframe thead th {\n",
       "        text-align: right;\n",
       "    }\n",
       "</style>\n",
       "<table border=\"1\" class=\"dataframe\">\n",
       "  <thead>\n",
       "    <tr style=\"text-align: right;\">\n",
       "      <th></th>\n",
       "      <th>URI</th>\n",
       "      <th>score</th>\n",
       "      <th>html</th>\n",
       "      <th>type</th>\n",
       "      <th>position</th>\n",
       "      <th>Title</th>\n",
       "      <th>Publication date</th>\n",
       "      <th>Authors</th>\n",
       "      <th>Citation</th>\n",
       "      <th>DOI</th>\n",
       "      <th>Parameters</th>\n",
       "      <th>Event</th>\n",
       "    </tr>\n",
       "  </thead>\n",
       "  <tbody>\n",
       "    <tr>\n",
       "      <th>0</th>\n",
       "      <td>doi:10.1594/PANGAEA.890490</td>\n",
       "      <td>16.503645</td>\n",
       "      <td>&lt;li&gt;&lt;div class=\"citation\"&gt;&lt;a href=\"https://doi...</td>\n",
       "      <td>member</td>\n",
       "      <td>0</td>\n",
       "      <td>Geochemistry of Stordalen peat core</td>\n",
       "      <td>2018-05-29T09:39:56</td>\n",
       "      <td>{Kokfelt, Ulla}</td>\n",
       "      <td>Kokfelt, Ulla (2018): Geochemistry of Stordale...</td>\n",
       "      <td>https://doi.org/10.1594/PANGAEA.890490</td>\n",
       "      <td>DEPTH, sediment/rock [m]; AGE [ka BP]; Density...</td>\n",
       "      <td>Stordalen_1</td>\n",
       "    </tr>\n",
       "    <tr>\n",
       "      <th>1</th>\n",
       "      <td>doi:10.1594/PANGAEA.890537</td>\n",
       "      <td>16.503645</td>\n",
       "      <td>&lt;li&gt;&lt;div class=\"citation\"&gt;&lt;a href=\"https://doi...</td>\n",
       "      <td>member</td>\n",
       "      <td>1</td>\n",
       "      <td>Geochemistry of V34_core1 peat core</td>\n",
       "      <td>2018-05-29T12:24:30</td>\n",
       "      <td>{MacDonald, Glen M}</td>\n",
       "      <td>MacDonald, Glen M (2018): Geochemistry of V34_...</td>\n",
       "      <td>https://doi.org/10.1594/PANGAEA.890537</td>\n",
       "      <td>DEPTH, sediment/rock [m]; AGE [ka BP]; Density...</td>\n",
       "      <td>V34_core1</td>\n",
       "    </tr>\n",
       "    <tr>\n",
       "      <th>2</th>\n",
       "      <td>doi:10.1594/PANGAEA.890538</td>\n",
       "      <td>16.406353</td>\n",
       "      <td>&lt;li&gt;&lt;div class=\"citation\"&gt;&lt;a href=\"https://doi...</td>\n",
       "      <td>member</td>\n",
       "      <td>2</td>\n",
       "      <td>Geochemistry of Vasyugan_coreV21 peat core</td>\n",
       "      <td>2018-05-29T12:24:30</td>\n",
       "      <td>{Borren, Wiebe}</td>\n",
       "      <td>Borren, Wiebe (2018): Geochemistry of Vasyugan...</td>\n",
       "      <td>https://doi.org/10.1594/PANGAEA.890538</td>\n",
       "      <td>DEPTH, sediment/rock [m]; AGE [ka BP]; Density...</td>\n",
       "      <td>Vasyugan_coreV21</td>\n",
       "    </tr>\n",
       "    <tr>\n",
       "      <th>3</th>\n",
       "      <td>doi:10.1594/PANGAEA.890415</td>\n",
       "      <td>16.406353</td>\n",
       "      <td>&lt;li&gt;&lt;div class=\"citation\"&gt;&lt;a href=\"https://doi...</td>\n",
       "      <td>member</td>\n",
       "      <td>3</td>\n",
       "      <td>Geochemistry of Lake396_core3 peat core</td>\n",
       "      <td>2018-05-28T14:01:35</td>\n",
       "      <td>{Camill, Philip}</td>\n",
       "      <td>Camill, Philip (2018): Geochemistry of Lake396...</td>\n",
       "      <td>https://doi.org/10.1594/PANGAEA.890415</td>\n",
       "      <td>DEPTH, sediment/rock [m]; AGE [ka BP]; Density...</td>\n",
       "      <td>Lake396_core3</td>\n",
       "    </tr>\n",
       "    <tr>\n",
       "      <th>4</th>\n",
       "      <td>doi:10.1594/PANGAEA.890186</td>\n",
       "      <td>16.406353</td>\n",
       "      <td>&lt;li&gt;&lt;div class=\"citation\"&gt;&lt;a href=\"https://doi...</td>\n",
       "      <td>member</td>\n",
       "      <td>4</td>\n",
       "      <td>Geochemistry of Nuikluk_coreNL10-1 peat core</td>\n",
       "      <td>2018-05-24T10:11:32</td>\n",
       "      <td>{Yu, Zicheng}</td>\n",
       "      <td>Yu, Zicheng (2018): Geochemistry of Nuikluk_co...</td>\n",
       "      <td>https://doi.org/10.1594/PANGAEA.890186</td>\n",
       "      <td>DEPTH, sediment/rock [m]; AGE [ka BP]; Density...</td>\n",
       "      <td>Nuikluk_coreNL10-1</td>\n",
       "    </tr>\n",
       "  </tbody>\n",
       "</table>\n",
       "</div>"
      ],
      "text/plain": [
       "                          URI      score  \\\n",
       "0  doi:10.1594/PANGAEA.890490  16.503645   \n",
       "1  doi:10.1594/PANGAEA.890537  16.503645   \n",
       "2  doi:10.1594/PANGAEA.890538  16.406353   \n",
       "3  doi:10.1594/PANGAEA.890415  16.406353   \n",
       "4  doi:10.1594/PANGAEA.890186  16.406353   \n",
       "\n",
       "                                                html    type  position  \\\n",
       "0  <li><div class=\"citation\"><a href=\"https://doi...  member         0   \n",
       "1  <li><div class=\"citation\"><a href=\"https://doi...  member         1   \n",
       "2  <li><div class=\"citation\"><a href=\"https://doi...  member         2   \n",
       "3  <li><div class=\"citation\"><a href=\"https://doi...  member         3   \n",
       "4  <li><div class=\"citation\"><a href=\"https://doi...  member         4   \n",
       "\n",
       "                                          Title     Publication date  \\\n",
       "0           Geochemistry of Stordalen peat core  2018-05-29T09:39:56   \n",
       "1           Geochemistry of V34_core1 peat core  2018-05-29T12:24:30   \n",
       "2    Geochemistry of Vasyugan_coreV21 peat core  2018-05-29T12:24:30   \n",
       "3       Geochemistry of Lake396_core3 peat core  2018-05-28T14:01:35   \n",
       "4  Geochemistry of Nuikluk_coreNL10-1 peat core  2018-05-24T10:11:32   \n",
       "\n",
       "               Authors                                           Citation  \\\n",
       "0      {Kokfelt, Ulla}  Kokfelt, Ulla (2018): Geochemistry of Stordale...   \n",
       "1  {MacDonald, Glen M}  MacDonald, Glen M (2018): Geochemistry of V34_...   \n",
       "2      {Borren, Wiebe}  Borren, Wiebe (2018): Geochemistry of Vasyugan...   \n",
       "3     {Camill, Philip}  Camill, Philip (2018): Geochemistry of Lake396...   \n",
       "4        {Yu, Zicheng}  Yu, Zicheng (2018): Geochemistry of Nuikluk_co...   \n",
       "\n",
       "                                      DOI  \\\n",
       "0  https://doi.org/10.1594/PANGAEA.890490   \n",
       "1  https://doi.org/10.1594/PANGAEA.890537   \n",
       "2  https://doi.org/10.1594/PANGAEA.890538   \n",
       "3  https://doi.org/10.1594/PANGAEA.890415   \n",
       "4  https://doi.org/10.1594/PANGAEA.890186   \n",
       "\n",
       "                                          Parameters               Event  \n",
       "0  DEPTH, sediment/rock [m]; AGE [ka BP]; Density...         Stordalen_1  \n",
       "1  DEPTH, sediment/rock [m]; AGE [ka BP]; Density...           V34_core1  \n",
       "2  DEPTH, sediment/rock [m]; AGE [ka BP]; Density...    Vasyugan_coreV21  \n",
       "3  DEPTH, sediment/rock [m]; AGE [ka BP]; Density...       Lake396_core3  \n",
       "4  DEPTH, sediment/rock [m]; AGE [ka BP]; Density...  Nuikluk_coreNL10-1  "
      ]
     },
     "execution_count": 41,
     "metadata": {},
     "output_type": "execute_result"
    }
   ],
   "source": [
    "df"
   ]
  },
  {
   "cell_type": "code",
   "execution_count": 42,
   "metadata": {},
   "outputs": [
    {
     "data": {
      "text/html": [
       "<div>\n",
       "<style scoped>\n",
       "    .dataframe tbody tr th:only-of-type {\n",
       "        vertical-align: middle;\n",
       "    }\n",
       "\n",
       "    .dataframe tbody tr th {\n",
       "        vertical-align: top;\n",
       "    }\n",
       "\n",
       "    .dataframe thead th {\n",
       "        text-align: right;\n",
       "    }\n",
       "</style>\n",
       "<table border=\"1\" class=\"dataframe\">\n",
       "  <thead>\n",
       "    <tr style=\"text-align: right;\">\n",
       "      <th></th>\n",
       "      <th>Title</th>\n",
       "      <th>Publication date</th>\n",
       "      <th>Authors</th>\n",
       "      <th>Citation</th>\n",
       "      <th>DOI</th>\n",
       "      <th>Parameters</th>\n",
       "      <th>Event</th>\n",
       "    </tr>\n",
       "  </thead>\n",
       "  <tbody>\n",
       "    <tr>\n",
       "      <th>0</th>\n",
       "      <td>Geochemistry of Stordalen peat core</td>\n",
       "      <td>2018-05-29T09:39:56</td>\n",
       "      <td>{Kokfelt, Ulla}</td>\n",
       "      <td>Kokfelt, Ulla (2018): Geochemistry of Stordale...</td>\n",
       "      <td>https://doi.org/10.1594/PANGAEA.890490</td>\n",
       "      <td>DEPTH, sediment/rock [m]; AGE [ka BP]; Density...</td>\n",
       "      <td>Stordalen_1</td>\n",
       "    </tr>\n",
       "    <tr>\n",
       "      <th>1</th>\n",
       "      <td>Geochemistry of V34_core1 peat core</td>\n",
       "      <td>2018-05-29T12:24:30</td>\n",
       "      <td>{MacDonald, Glen M}</td>\n",
       "      <td>MacDonald, Glen M (2018): Geochemistry of V34_...</td>\n",
       "      <td>https://doi.org/10.1594/PANGAEA.890537</td>\n",
       "      <td>DEPTH, sediment/rock [m]; AGE [ka BP]; Density...</td>\n",
       "      <td>V34_core1</td>\n",
       "    </tr>\n",
       "    <tr>\n",
       "      <th>2</th>\n",
       "      <td>Geochemistry of Vasyugan_coreV21 peat core</td>\n",
       "      <td>2018-05-29T12:24:30</td>\n",
       "      <td>{Borren, Wiebe}</td>\n",
       "      <td>Borren, Wiebe (2018): Geochemistry of Vasyugan...</td>\n",
       "      <td>https://doi.org/10.1594/PANGAEA.890538</td>\n",
       "      <td>DEPTH, sediment/rock [m]; AGE [ka BP]; Density...</td>\n",
       "      <td>Vasyugan_coreV21</td>\n",
       "    </tr>\n",
       "    <tr>\n",
       "      <th>3</th>\n",
       "      <td>Geochemistry of Lake396_core3 peat core</td>\n",
       "      <td>2018-05-28T14:01:35</td>\n",
       "      <td>{Camill, Philip}</td>\n",
       "      <td>Camill, Philip (2018): Geochemistry of Lake396...</td>\n",
       "      <td>https://doi.org/10.1594/PANGAEA.890415</td>\n",
       "      <td>DEPTH, sediment/rock [m]; AGE [ka BP]; Density...</td>\n",
       "      <td>Lake396_core3</td>\n",
       "    </tr>\n",
       "    <tr>\n",
       "      <th>4</th>\n",
       "      <td>Geochemistry of Nuikluk_coreNL10-1 peat core</td>\n",
       "      <td>2018-05-24T10:11:32</td>\n",
       "      <td>{Yu, Zicheng}</td>\n",
       "      <td>Yu, Zicheng (2018): Geochemistry of Nuikluk_co...</td>\n",
       "      <td>https://doi.org/10.1594/PANGAEA.890186</td>\n",
       "      <td>DEPTH, sediment/rock [m]; AGE [ka BP]; Density...</td>\n",
       "      <td>Nuikluk_coreNL10-1</td>\n",
       "    </tr>\n",
       "  </tbody>\n",
       "</table>\n",
       "</div>"
      ],
      "text/plain": [
       "                                          Title     Publication date  \\\n",
       "0           Geochemistry of Stordalen peat core  2018-05-29T09:39:56   \n",
       "1           Geochemistry of V34_core1 peat core  2018-05-29T12:24:30   \n",
       "2    Geochemistry of Vasyugan_coreV21 peat core  2018-05-29T12:24:30   \n",
       "3       Geochemistry of Lake396_core3 peat core  2018-05-28T14:01:35   \n",
       "4  Geochemistry of Nuikluk_coreNL10-1 peat core  2018-05-24T10:11:32   \n",
       "\n",
       "               Authors                                           Citation  \\\n",
       "0      {Kokfelt, Ulla}  Kokfelt, Ulla (2018): Geochemistry of Stordale...   \n",
       "1  {MacDonald, Glen M}  MacDonald, Glen M (2018): Geochemistry of V34_...   \n",
       "2      {Borren, Wiebe}  Borren, Wiebe (2018): Geochemistry of Vasyugan...   \n",
       "3     {Camill, Philip}  Camill, Philip (2018): Geochemistry of Lake396...   \n",
       "4        {Yu, Zicheng}  Yu, Zicheng (2018): Geochemistry of Nuikluk_co...   \n",
       "\n",
       "                                      DOI  \\\n",
       "0  https://doi.org/10.1594/PANGAEA.890490   \n",
       "1  https://doi.org/10.1594/PANGAEA.890537   \n",
       "2  https://doi.org/10.1594/PANGAEA.890538   \n",
       "3  https://doi.org/10.1594/PANGAEA.890415   \n",
       "4  https://doi.org/10.1594/PANGAEA.890186   \n",
       "\n",
       "                                          Parameters               Event  \n",
       "0  DEPTH, sediment/rock [m]; AGE [ka BP]; Density...         Stordalen_1  \n",
       "1  DEPTH, sediment/rock [m]; AGE [ka BP]; Density...           V34_core1  \n",
       "2  DEPTH, sediment/rock [m]; AGE [ka BP]; Density...    Vasyugan_coreV21  \n",
       "3  DEPTH, sediment/rock [m]; AGE [ka BP]; Density...       Lake396_core3  \n",
       "4  DEPTH, sediment/rock [m]; AGE [ka BP]; Density...  Nuikluk_coreNL10-1  "
      ]
     },
     "execution_count": 42,
     "metadata": {},
     "output_type": "execute_result"
    }
   ],
   "source": [
    "### drop columns no longer needed\n",
    "df = df.drop(['URI','score','html','type','position'],axis=1)\n",
    "df"
   ]
  },
  {
   "cell_type": "markdown",
   "metadata": {},
   "source": [
    "#### Save dataframe as file"
   ]
  },
  {
   "cell_type": "code",
   "execution_count": 43,
   "metadata": {},
   "outputs": [
    {
     "name": "stdout",
     "output_type": "stream",
     "text": [
      "PANGAEA metadata saved\n"
     ]
    }
   ],
   "source": [
    "### Create data directory\n",
    "data_directory = \"PANGAEA_data\"\n",
    "### Check if it already exists before creating it\n",
    "if not os.path.isdir(data_directory):\n",
    "    os.mkdir(data_directory)\n",
    "    \n",
    "### Save as csv (comma seperated value)\n",
    "df.to_csv(os.path.join(data_directory, f'PANGAEA_metadata_df_all.csv'), encoding='utf-8', index=False)\n",
    "df.to_csv(os.path.join(data_directory, f'PANGAEA_metadata_df_all.txt'), sep='\\t', encoding='utf-8', index=False)\n",
    "print(f'PANGAEA metadata saved')"
   ]
  },
  {
   "cell_type": "markdown",
   "metadata": {},
   "source": [
    "### 3.3 Quiz"
   ]
  },
  {
   "cell_type": "markdown",
   "metadata": {},
   "source": [
    "#### 3.3.1 What is the title of this dataset?\n",
    "https://doi.pangaea.de/10.1594/PANGAEA.804588"
   ]
  },
  {
   "cell_type": "code",
   "execution_count": 44,
   "metadata": {},
   "outputs": [],
   "source": [
    "# Your solution"
   ]
  },
  {
   "cell_type": "code",
   "execution_count": 45,
   "metadata": {},
   "outputs": [
    {
     "data": {
      "text/plain": [
       "'Classified Adélie penguin colonies from Landsat data'"
      ]
     },
     "execution_count": 45,
     "metadata": {},
     "output_type": "execute_result"
    }
   ],
   "source": [
    "### solution\n",
    "ds = PanDataSet(\"https://doi.pangaea.de/10.1594/PANGAEA.804588\", include_data=False)\n",
    "ds.title"
   ]
  },
  {
   "cell_type": "markdown",
   "metadata": {},
   "source": [
    "#### 3.3.2 What is the name of the second author of this dataset?\n",
    "https://doi.pangaea.de/10.1594/PANGAEA.804588"
   ]
  },
  {
   "cell_type": "code",
   "execution_count": 46,
   "metadata": {},
   "outputs": [],
   "source": [
    "# Your solution"
   ]
  },
  {
   "cell_type": "code",
   "execution_count": 47,
   "metadata": {},
   "outputs": [
    {
     "data": {
      "text/plain": [
       "'Southwell, C J'"
      ]
     },
     "execution_count": 47,
     "metadata": {},
     "output_type": "execute_result"
    }
   ],
   "source": [
    "### solution\n",
    "ds = PanDataSet(\"https://doi.pangaea.de/10.1594/PANGAEA.804588\", include_data=False)\n",
    "ds.authors[1].fullname"
   ]
  },
  {
   "cell_type": "markdown",
   "metadata": {},
   "source": [
    "#### 3.3.3 Did they measure pH in this dataset?\n",
    "https://doi.pangaea.de/10.1594/PANGAEA.743969"
   ]
  },
  {
   "cell_type": "code",
   "execution_count": 48,
   "metadata": {},
   "outputs": [],
   "source": [
    "# Your solution"
   ]
  },
  {
   "cell_type": "code",
   "execution_count": 49,
   "metadata": {},
   "outputs": [
    {
     "name": "stdout",
     "output_type": "stream",
     "text": [
      "yes\n"
     ]
    }
   ],
   "source": [
    "### solution\n",
    "ds = PanDataSet(\"https://doi.pangaea.de/10.1594/PANGAEA.743969\")\n",
    "list_params = list(ds.params)\n",
    "# print(list_params)\n",
    "if 'pH' in list_params:\n",
    "    print('yes')"
   ]
  },
  {
   "cell_type": "markdown",
   "metadata": {},
   "source": [
    "## 4. Download datasets"
   ]
  },
  {
   "cell_type": "markdown",
   "metadata": {},
   "source": [
    "### 4.1 Download single dataset"
   ]
  },
  {
   "cell_type": "markdown",
   "metadata": {},
   "source": [
    "##### Example dataset: https://doi.pangaea.de/10.1594/PANGAEA.972802"
   ]
  },
  {
   "cell_type": "code",
   "execution_count": 50,
   "metadata": {},
   "outputs": [
    {
     "data": {
      "text/plain": [
       "pangaeapy.pandataset.PanDataSet"
      ]
     },
     "execution_count": 50,
     "metadata": {},
     "output_type": "execute_result"
    }
   ],
   "source": [
    "ds = PanDataSet(\"https://doi.pangaea.de/10.1594/PANGAEA.972802\")\n",
    "### ds contains data and metadata\n",
    "### see metadata section on how to get metadata\n",
    "type(ds)"
   ]
  },
  {
   "cell_type": "code",
   "execution_count": 51,
   "metadata": {},
   "outputs": [
    {
     "data": {
      "text/plain": [
       "pandas.core.frame.DataFrame"
      ]
     },
     "execution_count": 51,
     "metadata": {},
     "output_type": "execute_result"
    }
   ],
   "source": [
    "### ds.data is data frame\n",
    "type(ds.data)"
   ]
  },
  {
   "cell_type": "code",
   "execution_count": 52,
   "metadata": {},
   "outputs": [
    {
     "data": {
      "text/html": [
       "<div>\n",
       "<style scoped>\n",
       "    .dataframe tbody tr th:only-of-type {\n",
       "        vertical-align: middle;\n",
       "    }\n",
       "\n",
       "    .dataframe tbody tr th {\n",
       "        vertical-align: top;\n",
       "    }\n",
       "\n",
       "    .dataframe thead th {\n",
       "        text-align: right;\n",
       "    }\n",
       "</style>\n",
       "<table border=\"1\" class=\"dataframe\">\n",
       "  <thead>\n",
       "    <tr style=\"text-align: right;\">\n",
       "      <th></th>\n",
       "      <th>Event</th>\n",
       "      <th>Leg</th>\n",
       "      <th>Activity</th>\n",
       "      <th>Cast</th>\n",
       "      <th>Date/Time</th>\n",
       "      <th>Device</th>\n",
       "      <th>Device_2</th>\n",
       "      <th>Latitude</th>\n",
       "      <th>Longitude</th>\n",
       "      <th>Elevation</th>\n",
       "      <th>Collector</th>\n",
       "      <th>Feature</th>\n",
       "      <th>Depth water</th>\n",
       "      <th>Sect</th>\n",
       "      <th>Samp type</th>\n",
       "      <th>Sample label</th>\n",
       "      <th>Chl a</th>\n",
       "      <th>Comment</th>\n",
       "    </tr>\n",
       "  </thead>\n",
       "  <tbody>\n",
       "    <tr>\n",
       "      <th>0</th>\n",
       "      <td>PS122/1_2-95</td>\n",
       "      <td>PS122/1</td>\n",
       "      <td>2</td>\n",
       "      <td>95</td>\n",
       "      <td>2019-10-09 01:30:00</td>\n",
       "      <td>Bucket Water Sampling</td>\n",
       "      <td>BUCKET_PS</td>\n",
       "      <td>84.9112</td>\n",
       "      <td>136.058</td>\n",
       "      <td>-4228</td>\n",
       "      <td>SI_ice_ sampler</td>\n",
       "      <td>Lead</td>\n",
       "      <td>NaN</td>\n",
       "      <td>bottom 00-05 cm</td>\n",
       "      <td>Ice</td>\n",
       "      <td>PS122_Chl_004</td>\n",
       "      <td>2.579</td>\n",
       "      <td>new ice 3-5 cm thick pieces</td>\n",
       "    </tr>\n",
       "    <tr>\n",
       "      <th>1</th>\n",
       "      <td>PS122/1_2-95</td>\n",
       "      <td>PS122/1</td>\n",
       "      <td>2</td>\n",
       "      <td>95</td>\n",
       "      <td>2019-10-09 01:30:00</td>\n",
       "      <td>Bucket Water Sampling</td>\n",
       "      <td>BUCKET_PS</td>\n",
       "      <td>84.9112</td>\n",
       "      <td>136.058</td>\n",
       "      <td>-4228</td>\n",
       "      <td>SI_ice_ sampler</td>\n",
       "      <td>Lead</td>\n",
       "      <td>NaN</td>\n",
       "      <td>bottom 00-05 cm</td>\n",
       "      <td>Ice</td>\n",
       "      <td>PS122_Chl_005</td>\n",
       "      <td>0.402</td>\n",
       "      <td>new ice 3-5 cm thick pieces</td>\n",
       "    </tr>\n",
       "    <tr>\n",
       "      <th>2</th>\n",
       "      <td>PS122/1_2-95</td>\n",
       "      <td>PS122/1</td>\n",
       "      <td>2</td>\n",
       "      <td>95</td>\n",
       "      <td>2019-10-09 01:30:00</td>\n",
       "      <td>Bucket Water Sampling</td>\n",
       "      <td>BUCKET_PS</td>\n",
       "      <td>84.9112</td>\n",
       "      <td>136.058</td>\n",
       "      <td>-4228</td>\n",
       "      <td>SI_ice_ sampler</td>\n",
       "      <td>Lead</td>\n",
       "      <td>NaN</td>\n",
       "      <td>bottom 00-05 cm</td>\n",
       "      <td>Ice</td>\n",
       "      <td>PS122_Chl_006</td>\n",
       "      <td>2.398</td>\n",
       "      <td>new ice 3-5 cm thick pieces</td>\n",
       "    </tr>\n",
       "  </tbody>\n",
       "</table>\n",
       "</div>"
      ],
      "text/plain": [
       "          Event      Leg  Activity  Cast           Date/Time  \\\n",
       "0  PS122/1_2-95  PS122/1         2    95 2019-10-09 01:30:00   \n",
       "1  PS122/1_2-95  PS122/1         2    95 2019-10-09 01:30:00   \n",
       "2  PS122/1_2-95  PS122/1         2    95 2019-10-09 01:30:00   \n",
       "\n",
       "                  Device   Device_2  Latitude  Longitude  Elevation  \\\n",
       "0  Bucket Water Sampling  BUCKET_PS   84.9112    136.058      -4228   \n",
       "1  Bucket Water Sampling  BUCKET_PS   84.9112    136.058      -4228   \n",
       "2  Bucket Water Sampling  BUCKET_PS   84.9112    136.058      -4228   \n",
       "\n",
       "         Collector Feature  Depth water             Sect Samp type  \\\n",
       "0  SI_ice_ sampler    Lead          NaN  bottom 00-05 cm       Ice   \n",
       "1  SI_ice_ sampler    Lead          NaN  bottom 00-05 cm       Ice   \n",
       "2  SI_ice_ sampler    Lead          NaN  bottom 00-05 cm       Ice   \n",
       "\n",
       "    Sample label  Chl a                      Comment  \n",
       "0  PS122_Chl_004  2.579  new ice 3-5 cm thick pieces  \n",
       "1  PS122_Chl_005  0.402  new ice 3-5 cm thick pieces  \n",
       "2  PS122_Chl_006  2.398  new ice 3-5 cm thick pieces  "
      ]
     },
     "execution_count": 52,
     "metadata": {},
     "output_type": "execute_result"
    }
   ],
   "source": [
    "### dataset header contains of parameter short names without unit\n",
    "ds.data.head(3)"
   ]
  },
  {
   "cell_type": "markdown",
   "metadata": {},
   "source": [
    "#### Translate to long parameter names\n",
    "Because by default parameters are abbreviated without units"
   ]
  },
  {
   "cell_type": "code",
   "execution_count": 53,
   "metadata": {},
   "outputs": [],
   "source": [
    "### Translate short parameters names to long names including unit\n",
    "def get_long_parameters(ds):\n",
    "    \"\"\"Translate short parameters names to long names including unit\n",
    "\n",
    "    Args:\n",
    "        ds (PANGAEA dataset): PANGAEA dataset\n",
    "    \"\"\"\n",
    "    ds.data.columns =  [f'{param.name} [{param.unit}]' if param.unit else param.name for param in ds.params.values()]"
   ]
  },
  {
   "cell_type": "code",
   "execution_count": 54,
   "metadata": {},
   "outputs": [],
   "source": [
    "get_long_parameters(ds)"
   ]
  },
  {
   "cell_type": "code",
   "execution_count": 55,
   "metadata": {},
   "outputs": [
    {
     "data": {
      "text/html": [
       "<div>\n",
       "<style scoped>\n",
       "    .dataframe tbody tr th:only-of-type {\n",
       "        vertical-align: middle;\n",
       "    }\n",
       "\n",
       "    .dataframe tbody tr th {\n",
       "        vertical-align: top;\n",
       "    }\n",
       "\n",
       "    .dataframe thead th {\n",
       "        text-align: right;\n",
       "    }\n",
       "</style>\n",
       "<table border=\"1\" class=\"dataframe\">\n",
       "  <thead>\n",
       "    <tr style=\"text-align: right;\">\n",
       "      <th></th>\n",
       "      <th>Event label</th>\n",
       "      <th>Leg Number</th>\n",
       "      <th>Activity description</th>\n",
       "      <th>Cast number</th>\n",
       "      <th>DATE/TIME</th>\n",
       "      <th>Device type</th>\n",
       "      <th>Device type</th>\n",
       "      <th>LATITUDE</th>\n",
       "      <th>LONGITUDE</th>\n",
       "      <th>ELEVATION [m a.s.l.]</th>\n",
       "      <th>Collector</th>\n",
       "      <th>Feature</th>\n",
       "      <th>DEPTH, water [m]</th>\n",
       "      <th>Section</th>\n",
       "      <th>Sample type</th>\n",
       "      <th>Sample code/label</th>\n",
       "      <th>Chlorophyll a [µg/l]</th>\n",
       "      <th>Comment</th>\n",
       "    </tr>\n",
       "  </thead>\n",
       "  <tbody>\n",
       "    <tr>\n",
       "      <th>0</th>\n",
       "      <td>PS122/1_2-95</td>\n",
       "      <td>PS122/1</td>\n",
       "      <td>2</td>\n",
       "      <td>95</td>\n",
       "      <td>2019-10-09 01:30:00</td>\n",
       "      <td>Bucket Water Sampling</td>\n",
       "      <td>BUCKET_PS</td>\n",
       "      <td>84.9112</td>\n",
       "      <td>136.058</td>\n",
       "      <td>-4228</td>\n",
       "      <td>SI_ice_ sampler</td>\n",
       "      <td>Lead</td>\n",
       "      <td>NaN</td>\n",
       "      <td>bottom 00-05 cm</td>\n",
       "      <td>Ice</td>\n",
       "      <td>PS122_Chl_004</td>\n",
       "      <td>2.579</td>\n",
       "      <td>new ice 3-5 cm thick pieces</td>\n",
       "    </tr>\n",
       "    <tr>\n",
       "      <th>1</th>\n",
       "      <td>PS122/1_2-95</td>\n",
       "      <td>PS122/1</td>\n",
       "      <td>2</td>\n",
       "      <td>95</td>\n",
       "      <td>2019-10-09 01:30:00</td>\n",
       "      <td>Bucket Water Sampling</td>\n",
       "      <td>BUCKET_PS</td>\n",
       "      <td>84.9112</td>\n",
       "      <td>136.058</td>\n",
       "      <td>-4228</td>\n",
       "      <td>SI_ice_ sampler</td>\n",
       "      <td>Lead</td>\n",
       "      <td>NaN</td>\n",
       "      <td>bottom 00-05 cm</td>\n",
       "      <td>Ice</td>\n",
       "      <td>PS122_Chl_005</td>\n",
       "      <td>0.402</td>\n",
       "      <td>new ice 3-5 cm thick pieces</td>\n",
       "    </tr>\n",
       "    <tr>\n",
       "      <th>2</th>\n",
       "      <td>PS122/1_2-95</td>\n",
       "      <td>PS122/1</td>\n",
       "      <td>2</td>\n",
       "      <td>95</td>\n",
       "      <td>2019-10-09 01:30:00</td>\n",
       "      <td>Bucket Water Sampling</td>\n",
       "      <td>BUCKET_PS</td>\n",
       "      <td>84.9112</td>\n",
       "      <td>136.058</td>\n",
       "      <td>-4228</td>\n",
       "      <td>SI_ice_ sampler</td>\n",
       "      <td>Lead</td>\n",
       "      <td>NaN</td>\n",
       "      <td>bottom 00-05 cm</td>\n",
       "      <td>Ice</td>\n",
       "      <td>PS122_Chl_006</td>\n",
       "      <td>2.398</td>\n",
       "      <td>new ice 3-5 cm thick pieces</td>\n",
       "    </tr>\n",
       "  </tbody>\n",
       "</table>\n",
       "</div>"
      ],
      "text/plain": [
       "    Event label Leg Number  Activity description  Cast number  \\\n",
       "0  PS122/1_2-95    PS122/1                     2           95   \n",
       "1  PS122/1_2-95    PS122/1                     2           95   \n",
       "2  PS122/1_2-95    PS122/1                     2           95   \n",
       "\n",
       "            DATE/TIME            Device type Device type  LATITUDE  LONGITUDE  \\\n",
       "0 2019-10-09 01:30:00  Bucket Water Sampling   BUCKET_PS   84.9112    136.058   \n",
       "1 2019-10-09 01:30:00  Bucket Water Sampling   BUCKET_PS   84.9112    136.058   \n",
       "2 2019-10-09 01:30:00  Bucket Water Sampling   BUCKET_PS   84.9112    136.058   \n",
       "\n",
       "   ELEVATION [m a.s.l.]        Collector Feature  DEPTH, water [m]  \\\n",
       "0                 -4228  SI_ice_ sampler    Lead               NaN   \n",
       "1                 -4228  SI_ice_ sampler    Lead               NaN   \n",
       "2                 -4228  SI_ice_ sampler    Lead               NaN   \n",
       "\n",
       "           Section Sample type Sample code/label  Chlorophyll a [µg/l]  \\\n",
       "0  bottom 00-05 cm         Ice     PS122_Chl_004                 2.579   \n",
       "1  bottom 00-05 cm         Ice     PS122_Chl_005                 0.402   \n",
       "2  bottom 00-05 cm         Ice     PS122_Chl_006                 2.398   \n",
       "\n",
       "                       Comment  \n",
       "0  new ice 3-5 cm thick pieces  \n",
       "1  new ice 3-5 cm thick pieces  \n",
       "2  new ice 3-5 cm thick pieces  "
      ]
     },
     "execution_count": 55,
     "metadata": {},
     "output_type": "execute_result"
    }
   ],
   "source": [
    "ds.data.head(3)"
   ]
  },
  {
   "cell_type": "markdown",
   "metadata": {},
   "source": [
    "#### Save data"
   ]
  },
  {
   "cell_type": "code",
   "execution_count": 56,
   "metadata": {},
   "outputs": [
    {
     "name": "stdout",
     "output_type": "stream",
     "text": [
      "PANGAEA dataset \"Chlorophyll a concentrations from leads, melt ponds and under ice sampling during the MOSAiC expedition (PS122) in the Central Arctic Ocean 2019-2020\" saved\n"
     ]
    }
   ],
   "source": [
    "### Create data directory\n",
    "data_directory = \"PANGAEA_data\"\n",
    "### Check if it already exists before creating it\n",
    "if not os.path.isdir(data_directory):\n",
    "    os.mkdir(data_directory)\n",
    "### Save as csv (comma seperated value)\n",
    "print(f'PANGAEA dataset \"{ds.title}\" saved')\n",
    "ds.data.to_csv(os.path.join(data_directory, f'PANGAEA_dataset_{ds.id}.csv'),index=False)"
   ]
  },
  {
   "cell_type": "markdown",
   "metadata": {},
   "source": [
    "### 4.2 Download dataset including binary files e.g. images"
   ]
  },
  {
   "cell_type": "markdown",
   "metadata": {},
   "source": [
    "##### Example dataset: https://doi.pangaea.de/10.1594/PANGAEA.932826"
   ]
  },
  {
   "cell_type": "code",
   "execution_count": 57,
   "metadata": {},
   "outputs": [
    {
     "data": {
      "text/html": [
       "<div>\n",
       "<style scoped>\n",
       "    .dataframe tbody tr th:only-of-type {\n",
       "        vertical-align: middle;\n",
       "    }\n",
       "\n",
       "    .dataframe tbody tr th {\n",
       "        vertical-align: top;\n",
       "    }\n",
       "\n",
       "    .dataframe thead th {\n",
       "        text-align: right;\n",
       "    }\n",
       "</style>\n",
       "<table border=\"1\" class=\"dataframe\">\n",
       "  <thead>\n",
       "    <tr style=\"text-align: right;\">\n",
       "      <th></th>\n",
       "      <th>DATE/TIME</th>\n",
       "      <th>LATITUDE</th>\n",
       "      <th>LONGITUDE</th>\n",
       "      <th>DEPTH, water [m]</th>\n",
       "      <th>Image</th>\n",
       "      <th>Binary Object</th>\n",
       "      <th>Event</th>\n",
       "      <th>Elevation [m]</th>\n",
       "    </tr>\n",
       "  </thead>\n",
       "  <tbody>\n",
       "    <tr>\n",
       "      <th>0</th>\n",
       "      <td>2021-02-16 03:33:58</td>\n",
       "      <td>-75.142628</td>\n",
       "      <td>-30.275583</td>\n",
       "      <td>364</td>\n",
       "      <td>TIMER_2021_02_16_at_03_33_58_IMG_0001.JPG</td>\n",
       "      <td>TIMER_2021_02_16_at_03_33_58_IMG_0001.txt</td>\n",
       "      <td>PS124_21-7</td>\n",
       "      <td>-495.1</td>\n",
       "    </tr>\n",
       "    <tr>\n",
       "      <th>1</th>\n",
       "      <td>2021-02-16 03:34:18</td>\n",
       "      <td>-75.142628</td>\n",
       "      <td>-30.275583</td>\n",
       "      <td>364</td>\n",
       "      <td>TIMER_2021_02_16_at_03_34_18_IMG_0002.JPG</td>\n",
       "      <td>TIMER_2021_02_16_at_03_34_18_IMG_0002.txt</td>\n",
       "      <td>PS124_21-7</td>\n",
       "      <td>-495.1</td>\n",
       "    </tr>\n",
       "  </tbody>\n",
       "</table>\n",
       "</div>"
      ],
      "text/plain": [
       "            DATE/TIME   LATITUDE  LONGITUDE  DEPTH, water [m]  \\\n",
       "0 2021-02-16 03:33:58 -75.142628 -30.275583               364   \n",
       "1 2021-02-16 03:34:18 -75.142628 -30.275583               364   \n",
       "\n",
       "                                       Image  \\\n",
       "0  TIMER_2021_02_16_at_03_33_58_IMG_0001.JPG   \n",
       "1  TIMER_2021_02_16_at_03_34_18_IMG_0002.JPG   \n",
       "\n",
       "                               Binary Object       Event  Elevation [m]  \n",
       "0  TIMER_2021_02_16_at_03_33_58_IMG_0001.txt  PS124_21-7         -495.1  \n",
       "1  TIMER_2021_02_16_at_03_34_18_IMG_0002.txt  PS124_21-7         -495.1  "
      ]
     },
     "execution_count": 57,
     "metadata": {},
     "output_type": "execute_result"
    }
   ],
   "source": [
    "### Download dataset from PANGAEA\n",
    "ds = PanDataSet(\"https://doi.pangaea.de/10.1594/PANGAEA.932826\", enable_cache=True)\n",
    "### Spell out abbreviated parameters\n",
    "get_long_parameters(ds)\n",
    "ds.data.head(2)"
   ]
  },
  {
   "cell_type": "code",
   "execution_count": 58,
   "metadata": {},
   "outputs": [
    {
     "data": {
      "text/html": [
       "<div>\n",
       "<style scoped>\n",
       "    .dataframe tbody tr th:only-of-type {\n",
       "        vertical-align: middle;\n",
       "    }\n",
       "\n",
       "    .dataframe tbody tr th {\n",
       "        vertical-align: top;\n",
       "    }\n",
       "\n",
       "    .dataframe thead th {\n",
       "        text-align: right;\n",
       "    }\n",
       "</style>\n",
       "<table border=\"1\" class=\"dataframe\">\n",
       "  <thead>\n",
       "    <tr style=\"text-align: right;\">\n",
       "      <th></th>\n",
       "      <th>Title</th>\n",
       "      <th>Publication date</th>\n",
       "      <th>Authors</th>\n",
       "      <th>Citation</th>\n",
       "      <th>DOI</th>\n",
       "      <th>Parameters</th>\n",
       "      <th>Event</th>\n",
       "    </tr>\n",
       "  </thead>\n",
       "  <tbody>\n",
       "    <tr>\n",
       "      <th>0</th>\n",
       "      <td>Geochemistry of Stordalen peat core</td>\n",
       "      <td>2018-05-29T09:39:56</td>\n",
       "      <td>{Kokfelt, Ulla}</td>\n",
       "      <td>Kokfelt, Ulla (2018): Geochemistry of Stordale...</td>\n",
       "      <td>https://doi.org/10.1594/PANGAEA.890490</td>\n",
       "      <td>DEPTH, sediment/rock [m]; AGE [ka BP]; Density...</td>\n",
       "      <td>Stordalen_1</td>\n",
       "    </tr>\n",
       "    <tr>\n",
       "      <th>1</th>\n",
       "      <td>Geochemistry of V34_core1 peat core</td>\n",
       "      <td>2018-05-29T12:24:30</td>\n",
       "      <td>{MacDonald, Glen M}</td>\n",
       "      <td>MacDonald, Glen M (2018): Geochemistry of V34_...</td>\n",
       "      <td>https://doi.org/10.1594/PANGAEA.890537</td>\n",
       "      <td>DEPTH, sediment/rock [m]; AGE [ka BP]; Density...</td>\n",
       "      <td>V34_core1</td>\n",
       "    </tr>\n",
       "    <tr>\n",
       "      <th>2</th>\n",
       "      <td>Geochemistry of Vasyugan_coreV21 peat core</td>\n",
       "      <td>2018-05-29T12:24:30</td>\n",
       "      <td>{Borren, Wiebe}</td>\n",
       "      <td>Borren, Wiebe (2018): Geochemistry of Vasyugan...</td>\n",
       "      <td>https://doi.org/10.1594/PANGAEA.890538</td>\n",
       "      <td>DEPTH, sediment/rock [m]; AGE [ka BP]; Density...</td>\n",
       "      <td>Vasyugan_coreV21</td>\n",
       "    </tr>\n",
       "    <tr>\n",
       "      <th>3</th>\n",
       "      <td>Geochemistry of Lake396_core3 peat core</td>\n",
       "      <td>2018-05-28T14:01:35</td>\n",
       "      <td>{Camill, Philip}</td>\n",
       "      <td>Camill, Philip (2018): Geochemistry of Lake396...</td>\n",
       "      <td>https://doi.org/10.1594/PANGAEA.890415</td>\n",
       "      <td>DEPTH, sediment/rock [m]; AGE [ka BP]; Density...</td>\n",
       "      <td>Lake396_core3</td>\n",
       "    </tr>\n",
       "    <tr>\n",
       "      <th>4</th>\n",
       "      <td>Geochemistry of Nuikluk_coreNL10-1 peat core</td>\n",
       "      <td>2018-05-24T10:11:32</td>\n",
       "      <td>{Yu, Zicheng}</td>\n",
       "      <td>Yu, Zicheng (2018): Geochemistry of Nuikluk_co...</td>\n",
       "      <td>https://doi.org/10.1594/PANGAEA.890186</td>\n",
       "      <td>DEPTH, sediment/rock [m]; AGE [ka BP]; Density...</td>\n",
       "      <td>Nuikluk_coreNL10-1</td>\n",
       "    </tr>\n",
       "  </tbody>\n",
       "</table>\n",
       "</div>"
      ],
      "text/plain": [
       "                                          Title     Publication date  \\\n",
       "0           Geochemistry of Stordalen peat core  2018-05-29T09:39:56   \n",
       "1           Geochemistry of V34_core1 peat core  2018-05-29T12:24:30   \n",
       "2    Geochemistry of Vasyugan_coreV21 peat core  2018-05-29T12:24:30   \n",
       "3       Geochemistry of Lake396_core3 peat core  2018-05-28T14:01:35   \n",
       "4  Geochemistry of Nuikluk_coreNL10-1 peat core  2018-05-24T10:11:32   \n",
       "\n",
       "               Authors                                           Citation  \\\n",
       "0      {Kokfelt, Ulla}  Kokfelt, Ulla (2018): Geochemistry of Stordale...   \n",
       "1  {MacDonald, Glen M}  MacDonald, Glen M (2018): Geochemistry of V34_...   \n",
       "2      {Borren, Wiebe}  Borren, Wiebe (2018): Geochemistry of Vasyugan...   \n",
       "3     {Camill, Philip}  Camill, Philip (2018): Geochemistry of Lake396...   \n",
       "4        {Yu, Zicheng}  Yu, Zicheng (2018): Geochemistry of Nuikluk_co...   \n",
       "\n",
       "                                      DOI  \\\n",
       "0  https://doi.org/10.1594/PANGAEA.890490   \n",
       "1  https://doi.org/10.1594/PANGAEA.890537   \n",
       "2  https://doi.org/10.1594/PANGAEA.890538   \n",
       "3  https://doi.org/10.1594/PANGAEA.890415   \n",
       "4  https://doi.org/10.1594/PANGAEA.890186   \n",
       "\n",
       "                                          Parameters               Event  \n",
       "0  DEPTH, sediment/rock [m]; AGE [ka BP]; Density...         Stordalen_1  \n",
       "1  DEPTH, sediment/rock [m]; AGE [ka BP]; Density...           V34_core1  \n",
       "2  DEPTH, sediment/rock [m]; AGE [ka BP]; Density...    Vasyugan_coreV21  \n",
       "3  DEPTH, sediment/rock [m]; AGE [ka BP]; Density...       Lake396_core3  \n",
       "4  DEPTH, sediment/rock [m]; AGE [ka BP]; Density...  Nuikluk_coreNL10-1  "
      ]
     },
     "execution_count": 58,
     "metadata": {},
     "output_type": "execute_result"
    }
   ],
   "source": [
    "df"
   ]
  },
  {
   "cell_type": "code",
   "execution_count": 59,
   "metadata": {},
   "outputs": [],
   "source": [
    "### download only 1 image\n",
    "df = ds.data[ds.data['DATE/TIME']=='2021-02-16 03:45:21']\n",
    "\n",
    "### Create file urls\n",
    "df[\"image_url\"] = [f'https://download.pangaea.de/dataset/{ds.id}/files/{img}' for img in df['Image']]"
   ]
  },
  {
   "cell_type": "code",
   "execution_count": 60,
   "metadata": {},
   "outputs": [
    {
     "data": {
      "text/html": [
       "<div>\n",
       "<style scoped>\n",
       "    .dataframe tbody tr th:only-of-type {\n",
       "        vertical-align: middle;\n",
       "    }\n",
       "\n",
       "    .dataframe tbody tr th {\n",
       "        vertical-align: top;\n",
       "    }\n",
       "\n",
       "    .dataframe thead th {\n",
       "        text-align: right;\n",
       "    }\n",
       "</style>\n",
       "<table border=\"1\" class=\"dataframe\">\n",
       "  <thead>\n",
       "    <tr style=\"text-align: right;\">\n",
       "      <th></th>\n",
       "      <th>DATE/TIME</th>\n",
       "      <th>LATITUDE</th>\n",
       "      <th>LONGITUDE</th>\n",
       "      <th>DEPTH, water [m]</th>\n",
       "      <th>Image</th>\n",
       "      <th>Binary Object</th>\n",
       "      <th>Event</th>\n",
       "      <th>Elevation [m]</th>\n",
       "      <th>image_url</th>\n",
       "    </tr>\n",
       "  </thead>\n",
       "  <tbody>\n",
       "    <tr>\n",
       "      <th>35</th>\n",
       "      <td>2021-02-16 03:45:21</td>\n",
       "      <td>-74.868626</td>\n",
       "      <td>-30.665064</td>\n",
       "      <td>507</td>\n",
       "      <td>TIMER_2021_02_16_at_03_45_21_IMG_0036.JPG</td>\n",
       "      <td>TIMER_2021_02_16_at_03_45_21_IMG_0036.txt</td>\n",
       "      <td>PS124_21-7</td>\n",
       "      <td>-495.1</td>\n",
       "      <td>https://download.pangaea.de/dataset/932826/fil...</td>\n",
       "    </tr>\n",
       "  </tbody>\n",
       "</table>\n",
       "</div>"
      ],
      "text/plain": [
       "             DATE/TIME   LATITUDE  LONGITUDE  DEPTH, water [m]  \\\n",
       "35 2021-02-16 03:45:21 -74.868626 -30.665064               507   \n",
       "\n",
       "                                        Image  \\\n",
       "35  TIMER_2021_02_16_at_03_45_21_IMG_0036.JPG   \n",
       "\n",
       "                                Binary Object       Event  Elevation [m]  \\\n",
       "35  TIMER_2021_02_16_at_03_45_21_IMG_0036.txt  PS124_21-7         -495.1   \n",
       "\n",
       "                                            image_url  \n",
       "35  https://download.pangaea.de/dataset/932826/fil...  "
      ]
     },
     "execution_count": 60,
     "metadata": {},
     "output_type": "execute_result"
    }
   ],
   "source": [
    "df"
   ]
  },
  {
   "cell_type": "code",
   "execution_count": 61,
   "metadata": {},
   "outputs": [],
   "source": [
    "### Create data directory\n",
    "data_directory = \"PANGAEA_data\"\n",
    "if not os.path.isdir(data_directory):\n",
    "    os.mkdir(data_directory)\n",
    "\n",
    "# ### download images\n",
    "# for i, file_url in enumerate(df['image_url']):\n",
    "#     response = requests.get(file_url,data_directory)    \n",
    "#     index = df.loc[(df == file_url).any(axis=1)].index[0]\n",
    "#     ### save image\n",
    "#     open(data_directory+'/'+df.loc[index,'Image'], 'wb').write(response.content)\n",
    "#     print(df.loc[index,'Image'] +' downloaded')"
   ]
  },
  {
   "cell_type": "markdown",
   "metadata": {},
   "source": [
    "### 4.3 Download multiple datasets\n",
    "* download multiple datasets: data and metdata\n",
    "* combine data into one dataframe\n",
    "* combine metadata into one dataframe  "
   ]
  },
  {
   "cell_type": "markdown",
   "metadata": {},
   "source": [
    "#### Define search pattern and do query"
   ]
  },
  {
   "cell_type": "code",
   "execution_count": 62,
   "metadata": {
    "tags": []
   },
   "outputs": [
    {
     "name": "stdout",
     "output_type": "stream",
     "text": [
      "There are 267 query results.\n",
      "Currently query consists of 267 entries.\n"
     ]
    }
   ],
   "source": [
    "### define search pattern\n",
    "search_pattern = 'project:label:PAGES_C-PEAT and citation:title:geochemistry' \n",
    "\n",
    "### do query\n",
    "query = pan.PanQuery(search_pattern, limit = 500)\n",
    "print(f'There are {query.totalcount} query results.')\n",
    "print(f'Currently query consists of {len(query.result)} entries.')"
   ]
  },
  {
   "cell_type": "markdown",
   "metadata": {},
   "source": [
    "#### Get all query results and combine them in data frame"
   ]
  },
  {
   "cell_type": "code",
   "execution_count": 63,
   "metadata": {
    "tags": []
   },
   "outputs": [
    {
     "name": "stdout",
     "output_type": "stream",
     "text": [
      "There are 267 query results.\n",
      "df_all consists of 267 results.\n"
     ]
    }
   ],
   "source": [
    "### create empty data frame\n",
    "df_all = pd.DataFrame()\n",
    "\n",
    "### apply loop if query consists of more than 500 datasets\n",
    "if query.totalcount >= 500:\n",
    "    ### loop over all results in steps of 500\n",
    "    for i in np.arange(0,query.totalcount,500):\n",
    "        \n",
    "        ### store result of individual step in qs\n",
    "        qs = pan.PanQuery(search_pattern, limit = 500, offset=i)\n",
    "        \n",
    "        ### convert qs result with 500 entries to data frame df_qs\n",
    "        df_qs = pd.DataFrame(qs.result)\n",
    "        \n",
    "        ### concatenate all individual df_qs into one data frame named query_results_all\n",
    "        df_all = pd.concat([df_all,df_qs],ignore_index=True)\n",
    "else:\n",
    "    df_all = pd.DataFrame(query.result)\n",
    "\n",
    "print(f'There are {query.totalcount} query results.')\n",
    "print(f'df_all consists of {len(df_all)} results.')"
   ]
  },
  {
   "cell_type": "code",
   "execution_count": 64,
   "metadata": {
    "tags": []
   },
   "outputs": [
    {
     "data": {
      "text/html": [
       "<div>\n",
       "<style scoped>\n",
       "    .dataframe tbody tr th:only-of-type {\n",
       "        vertical-align: middle;\n",
       "    }\n",
       "\n",
       "    .dataframe tbody tr th {\n",
       "        vertical-align: top;\n",
       "    }\n",
       "\n",
       "    .dataframe thead th {\n",
       "        text-align: right;\n",
       "    }\n",
       "</style>\n",
       "<table border=\"1\" class=\"dataframe\">\n",
       "  <thead>\n",
       "    <tr style=\"text-align: right;\">\n",
       "      <th></th>\n",
       "      <th>URI</th>\n",
       "      <th>score</th>\n",
       "      <th>html</th>\n",
       "      <th>type</th>\n",
       "      <th>position</th>\n",
       "    </tr>\n",
       "  </thead>\n",
       "  <tbody>\n",
       "    <tr>\n",
       "      <th>0</th>\n",
       "      <td>doi:10.1594/PANGAEA.890490</td>\n",
       "      <td>16.503645</td>\n",
       "      <td>&lt;li&gt;&lt;div class=\"citation\"&gt;&lt;a href=\"https://doi...</td>\n",
       "      <td>member</td>\n",
       "      <td>0</td>\n",
       "    </tr>\n",
       "    <tr>\n",
       "      <th>1</th>\n",
       "      <td>doi:10.1594/PANGAEA.890537</td>\n",
       "      <td>16.503645</td>\n",
       "      <td>&lt;li&gt;&lt;div class=\"citation\"&gt;&lt;a href=\"https://doi...</td>\n",
       "      <td>member</td>\n",
       "      <td>1</td>\n",
       "    </tr>\n",
       "    <tr>\n",
       "      <th>2</th>\n",
       "      <td>doi:10.1594/PANGAEA.890538</td>\n",
       "      <td>16.406353</td>\n",
       "      <td>&lt;li&gt;&lt;div class=\"citation\"&gt;&lt;a href=\"https://doi...</td>\n",
       "      <td>member</td>\n",
       "      <td>2</td>\n",
       "    </tr>\n",
       "  </tbody>\n",
       "</table>\n",
       "</div>"
      ],
      "text/plain": [
       "                          URI      score  \\\n",
       "0  doi:10.1594/PANGAEA.890490  16.503645   \n",
       "1  doi:10.1594/PANGAEA.890537  16.503645   \n",
       "2  doi:10.1594/PANGAEA.890538  16.406353   \n",
       "\n",
       "                                                html    type  position  \n",
       "0  <li><div class=\"citation\"><a href=\"https://doi...  member         0  \n",
       "1  <li><div class=\"citation\"><a href=\"https://doi...  member         1  \n",
       "2  <li><div class=\"citation\"><a href=\"https://doi...  member         2  "
      ]
     },
     "execution_count": 64,
     "metadata": {},
     "output_type": "execute_result"
    }
   ],
   "source": [
    "### show first 3 lines\n",
    "df_all.head(3)"
   ]
  },
  {
   "cell_type": "markdown",
   "metadata": {},
   "source": [
    "#### Filter out collections"
   ]
  },
  {
   "cell_type": "code",
   "execution_count": 65,
   "metadata": {},
   "outputs": [
    {
     "name": "stdout",
     "output_type": "stream",
     "text": [
      "df_all consists of 267 results.\n"
     ]
    }
   ],
   "source": [
    "df_all = df_all[df_all['type']=='member']\n",
    "print(f'df_all consists of {len(df_all)} results.')"
   ]
  },
  {
   "cell_type": "markdown",
   "metadata": {},
   "source": [
    "#### Practical functions for complicated datasets\n",
    "* double parameter\n",
    "* method as comment  \n",
    "\n",
    "Example dataset: https://doi.pangaea.de/10.1594/PANGAEA.890478  "
   ]
  },
  {
   "cell_type": "code",
   "execution_count": 66,
   "metadata": {},
   "outputs": [],
   "source": [
    "### function to find duplicate column names\n",
    "def find_duplicates(col_names):\n",
    "    name_counts = Counter(col_names)\n",
    "    duplicates = [name for name, count in name_counts.items() if count > 1]\n",
    "    return duplicates, bool(duplicates)"
   ]
  },
  {
   "cell_type": "code",
   "execution_count": 67,
   "metadata": {},
   "outputs": [],
   "source": [
    "### function to create general parameter long names with unit and method\n",
    "def generate_general_column_name(param):\n",
    "    base_name = f'{param.name} [{param.unit}]' if param.unit else param.name \n",
    "\n",
    "    if param.method:\n",
    "        base_name += f', method:{param.method.name}'\n",
    "\n",
    "    return base_name"
   ]
  },
  {
   "cell_type": "code",
   "execution_count": 68,
   "metadata": {},
   "outputs": [],
   "source": [
    "### functions to rename duplicate column names so they are all individual within the dataset\n",
    "def generate_unique_column_name(param):\n",
    "    base_name = f'{param.name} [{param.unit}]' if param.unit else param.name\n",
    "    \n",
    "    if param.method:\n",
    "        base_name += f', method:{param.method.name}'\n",
    "    \n",
    "    if param.comment:\n",
    "        return f'{base_name}, comment:{param.comment}'\n",
    "    else:\n",
    "        return f'{base_name}, col nr:{param.colno}'\n",
    "\n",
    "def make_unique_column_names(ds, same_param_name):\n",
    "    col_names = []\n",
    "    for param in ds.params.values():\n",
    "        name = generate_general_column_name(param)\n",
    "        if name in same_param_name:\n",
    "            name = generate_unique_column_name(param)\n",
    "        col_names.append(name)\n",
    "    return col_names"
   ]
  },
  {
   "cell_type": "markdown",
   "metadata": {},
   "source": [
    "#### Download and combine data and metadata of query results"
   ]
  },
  {
   "cell_type": "markdown",
   "metadata": {},
   "source": [
    "NOTE: As a safety precaution, the number of metadata requests is limited for a specific time period. \n",
    "\n",
    "_Received too many (metadata) requests error (429)...waiting 30s -_\n",
    "\n",
    "If you have larger requests, prepare to wait or use a different tool e.g. OAI-PMH (https://wiki.pangaea.de/wiki/OAI-PMH)."
   ]
  },
  {
   "cell_type": "code",
   "execution_count": 69,
   "metadata": {},
   "outputs": [
    {
     "name": "stdout",
     "output_type": "stream",
     "text": [
      "0 https://doi.org/10.1594/PANGAEA.890490\n",
      "1 https://doi.org/10.1594/PANGAEA.890537\n",
      "2 https://doi.org/10.1594/PANGAEA.890538\n"
     ]
    }
   ],
   "source": [
    "### Create one data frame for all datasets\n",
    "data_all = pd.DataFrame()\n",
    "\n",
    "### loop over all datasets in df_all\n",
    "# for ind,value in df_all['URI'].items():\n",
    "### only download first 3 results during workshop\n",
    "for ind,value in df_all['URI'][0:3].items(): \n",
    "    \n",
    "    ## use PanDataSet to get metadata and data and put them into 2 diferent dataframes\n",
    "    ds = PanDataSet(value)\n",
    "\n",
    "    print(ind, ds.doi)\n",
    "\n",
    "    ## put metadata into df_all in new columns\n",
    "    df_all.loc[ind,'Title'] = ds.title\n",
    "    df_all.loc[ind,'Publication date'] = ds.date\n",
    "    df_all.loc[ind,'Authors'] = {\"; \".join([x.fullname for x in ds.authors])}\n",
    "    df_all.loc[ind,'Citation'] = ds.citation\n",
    "    df_all.loc[ind,'DOI'] = ds.doi\n",
    "    df_all.loc[ind,'Parameters'] = \"; \".join([f'{param.name} [{param.unit}]' if param.unit else param.name for param in ds.params.values()])\n",
    "    if ds.events:\n",
    "        df_all.loc[ind,'Event'] = \"; \".join([x.label for x in ds.events])\n",
    "    \n",
    "    ### Translate default short parameter names to long parameter names, add unit and method if available, check if all column names are individuals\n",
    "    col_names = []\n",
    "    for param in ds.params.values():\n",
    "        col_name = generate_general_column_name(param)\n",
    "        col_names.append(col_name)\n",
    "\n",
    "    ### find duplicate column names make them individual column names\n",
    "    same_param_name, double_name = find_duplicates(col_names)\n",
    "\n",
    "    if double_name:\n",
    "        col_names = make_unique_column_names(ds, set(same_param_name))\n",
    "    \n",
    "    ### rename columns because python cannot handle duplicate column names within dataframe\n",
    "    ds.data.columns =  col_names\n",
    "    \n",
    "    ### create new data dataframe for each query result \n",
    "    df_data = pd.DataFrame()\n",
    "    df_data = ds.data\n",
    "    df_data['DOI'] = ds.doi\n",
    "\n",
    "    ### combine all datasats into one dataframe\n",
    "    data_all = pd.concat([data_all,df_data], ignore_index=True)\n"
   ]
  },
  {
   "cell_type": "code",
   "execution_count": 70,
   "metadata": {},
   "outputs": [
    {
     "data": {
      "text/html": [
       "<div>\n",
       "<style scoped>\n",
       "    .dataframe tbody tr th:only-of-type {\n",
       "        vertical-align: middle;\n",
       "    }\n",
       "\n",
       "    .dataframe tbody tr th {\n",
       "        vertical-align: top;\n",
       "    }\n",
       "\n",
       "    .dataframe thead th {\n",
       "        text-align: right;\n",
       "    }\n",
       "</style>\n",
       "<table border=\"1\" class=\"dataframe\">\n",
       "  <thead>\n",
       "    <tr style=\"text-align: right;\">\n",
       "      <th></th>\n",
       "      <th>URI</th>\n",
       "      <th>score</th>\n",
       "      <th>html</th>\n",
       "      <th>type</th>\n",
       "      <th>position</th>\n",
       "      <th>Title</th>\n",
       "      <th>Publication date</th>\n",
       "      <th>Authors</th>\n",
       "      <th>Citation</th>\n",
       "      <th>DOI</th>\n",
       "      <th>Parameters</th>\n",
       "      <th>Event</th>\n",
       "    </tr>\n",
       "  </thead>\n",
       "  <tbody>\n",
       "    <tr>\n",
       "      <th>0</th>\n",
       "      <td>doi:10.1594/PANGAEA.890490</td>\n",
       "      <td>16.503645</td>\n",
       "      <td>&lt;li&gt;&lt;div class=\"citation\"&gt;&lt;a href=\"https://doi...</td>\n",
       "      <td>member</td>\n",
       "      <td>0</td>\n",
       "      <td>Geochemistry of Stordalen peat core</td>\n",
       "      <td>2018-05-29T09:39:56</td>\n",
       "      <td>{Kokfelt, Ulla}</td>\n",
       "      <td>Kokfelt, Ulla (2018): Geochemistry of Stordale...</td>\n",
       "      <td>https://doi.org/10.1594/PANGAEA.890490</td>\n",
       "      <td>DEPTH, sediment/rock [m]; AGE [ka BP]; Density...</td>\n",
       "      <td>Stordalen_1</td>\n",
       "    </tr>\n",
       "    <tr>\n",
       "      <th>1</th>\n",
       "      <td>doi:10.1594/PANGAEA.890537</td>\n",
       "      <td>16.503645</td>\n",
       "      <td>&lt;li&gt;&lt;div class=\"citation\"&gt;&lt;a href=\"https://doi...</td>\n",
       "      <td>member</td>\n",
       "      <td>1</td>\n",
       "      <td>Geochemistry of V34_core1 peat core</td>\n",
       "      <td>2018-05-29T12:24:30</td>\n",
       "      <td>{MacDonald, Glen M}</td>\n",
       "      <td>MacDonald, Glen M (2018): Geochemistry of V34_...</td>\n",
       "      <td>https://doi.org/10.1594/PANGAEA.890537</td>\n",
       "      <td>DEPTH, sediment/rock [m]; AGE [ka BP]; Density...</td>\n",
       "      <td>V34_core1</td>\n",
       "    </tr>\n",
       "    <tr>\n",
       "      <th>2</th>\n",
       "      <td>doi:10.1594/PANGAEA.890538</td>\n",
       "      <td>16.406353</td>\n",
       "      <td>&lt;li&gt;&lt;div class=\"citation\"&gt;&lt;a href=\"https://doi...</td>\n",
       "      <td>member</td>\n",
       "      <td>2</td>\n",
       "      <td>Geochemistry of Vasyugan_coreV21 peat core</td>\n",
       "      <td>2018-05-29T12:24:30</td>\n",
       "      <td>{Borren, Wiebe}</td>\n",
       "      <td>Borren, Wiebe (2018): Geochemistry of Vasyugan...</td>\n",
       "      <td>https://doi.org/10.1594/PANGAEA.890538</td>\n",
       "      <td>DEPTH, sediment/rock [m]; AGE [ka BP]; Density...</td>\n",
       "      <td>Vasyugan_coreV21</td>\n",
       "    </tr>\n",
       "  </tbody>\n",
       "</table>\n",
       "</div>"
      ],
      "text/plain": [
       "                          URI      score  \\\n",
       "0  doi:10.1594/PANGAEA.890490  16.503645   \n",
       "1  doi:10.1594/PANGAEA.890537  16.503645   \n",
       "2  doi:10.1594/PANGAEA.890538  16.406353   \n",
       "\n",
       "                                                html    type  position  \\\n",
       "0  <li><div class=\"citation\"><a href=\"https://doi...  member         0   \n",
       "1  <li><div class=\"citation\"><a href=\"https://doi...  member         1   \n",
       "2  <li><div class=\"citation\"><a href=\"https://doi...  member         2   \n",
       "\n",
       "                                        Title     Publication date  \\\n",
       "0         Geochemistry of Stordalen peat core  2018-05-29T09:39:56   \n",
       "1         Geochemistry of V34_core1 peat core  2018-05-29T12:24:30   \n",
       "2  Geochemistry of Vasyugan_coreV21 peat core  2018-05-29T12:24:30   \n",
       "\n",
       "               Authors                                           Citation  \\\n",
       "0      {Kokfelt, Ulla}  Kokfelt, Ulla (2018): Geochemistry of Stordale...   \n",
       "1  {MacDonald, Glen M}  MacDonald, Glen M (2018): Geochemistry of V34_...   \n",
       "2      {Borren, Wiebe}  Borren, Wiebe (2018): Geochemistry of Vasyugan...   \n",
       "\n",
       "                                      DOI  \\\n",
       "0  https://doi.org/10.1594/PANGAEA.890490   \n",
       "1  https://doi.org/10.1594/PANGAEA.890537   \n",
       "2  https://doi.org/10.1594/PANGAEA.890538   \n",
       "\n",
       "                                          Parameters             Event  \n",
       "0  DEPTH, sediment/rock [m]; AGE [ka BP]; Density...       Stordalen_1  \n",
       "1  DEPTH, sediment/rock [m]; AGE [ka BP]; Density...         V34_core1  \n",
       "2  DEPTH, sediment/rock [m]; AGE [ka BP]; Density...  Vasyugan_coreV21  "
      ]
     },
     "execution_count": 70,
     "metadata": {},
     "output_type": "execute_result"
    }
   ],
   "source": [
    "### metadata table\n",
    "df_all.head(3)"
   ]
  },
  {
   "cell_type": "code",
   "execution_count": 71,
   "metadata": {},
   "outputs": [
    {
     "data": {
      "text/plain": [
       "Index(['URI', 'score', 'html', 'type', 'position', 'Title', 'Publication date',\n",
       "       'Authors', 'Citation', 'DOI', 'Parameters', 'Event'],\n",
       "      dtype='object')"
      ]
     },
     "execution_count": 71,
     "metadata": {},
     "output_type": "execute_result"
    }
   ],
   "source": [
    "df_all.columns"
   ]
  },
  {
   "cell_type": "code",
   "execution_count": 72,
   "metadata": {},
   "outputs": [],
   "source": [
    "### rearrange and drop columns\n",
    "df_all = df_all[['Title','Event', 'Parameters', 'Citation', 'DOI']]"
   ]
  },
  {
   "cell_type": "code",
   "execution_count": 73,
   "metadata": {},
   "outputs": [
    {
     "data": {
      "text/html": [
       "<div>\n",
       "<style scoped>\n",
       "    .dataframe tbody tr th:only-of-type {\n",
       "        vertical-align: middle;\n",
       "    }\n",
       "\n",
       "    .dataframe tbody tr th {\n",
       "        vertical-align: top;\n",
       "    }\n",
       "\n",
       "    .dataframe thead th {\n",
       "        text-align: right;\n",
       "    }\n",
       "</style>\n",
       "<table border=\"1\" class=\"dataframe\">\n",
       "  <thead>\n",
       "    <tr style=\"text-align: right;\">\n",
       "      <th></th>\n",
       "      <th>Title</th>\n",
       "      <th>Event</th>\n",
       "      <th>Parameters</th>\n",
       "      <th>Citation</th>\n",
       "      <th>DOI</th>\n",
       "    </tr>\n",
       "  </thead>\n",
       "  <tbody>\n",
       "    <tr>\n",
       "      <th>0</th>\n",
       "      <td>Geochemistry of Stordalen peat core</td>\n",
       "      <td>Stordalen_1</td>\n",
       "      <td>DEPTH, sediment/rock [m]; AGE [ka BP]; Density...</td>\n",
       "      <td>Kokfelt, Ulla (2018): Geochemistry of Stordale...</td>\n",
       "      <td>https://doi.org/10.1594/PANGAEA.890490</td>\n",
       "    </tr>\n",
       "    <tr>\n",
       "      <th>1</th>\n",
       "      <td>Geochemistry of V34_core1 peat core</td>\n",
       "      <td>V34_core1</td>\n",
       "      <td>DEPTH, sediment/rock [m]; AGE [ka BP]; Density...</td>\n",
       "      <td>MacDonald, Glen M (2018): Geochemistry of V34_...</td>\n",
       "      <td>https://doi.org/10.1594/PANGAEA.890537</td>\n",
       "    </tr>\n",
       "    <tr>\n",
       "      <th>2</th>\n",
       "      <td>Geochemistry of Vasyugan_coreV21 peat core</td>\n",
       "      <td>Vasyugan_coreV21</td>\n",
       "      <td>DEPTH, sediment/rock [m]; AGE [ka BP]; Density...</td>\n",
       "      <td>Borren, Wiebe (2018): Geochemistry of Vasyugan...</td>\n",
       "      <td>https://doi.org/10.1594/PANGAEA.890538</td>\n",
       "    </tr>\n",
       "  </tbody>\n",
       "</table>\n",
       "</div>"
      ],
      "text/plain": [
       "                                        Title             Event  \\\n",
       "0         Geochemistry of Stordalen peat core       Stordalen_1   \n",
       "1         Geochemistry of V34_core1 peat core         V34_core1   \n",
       "2  Geochemistry of Vasyugan_coreV21 peat core  Vasyugan_coreV21   \n",
       "\n",
       "                                          Parameters  \\\n",
       "0  DEPTH, sediment/rock [m]; AGE [ka BP]; Density...   \n",
       "1  DEPTH, sediment/rock [m]; AGE [ka BP]; Density...   \n",
       "2  DEPTH, sediment/rock [m]; AGE [ka BP]; Density...   \n",
       "\n",
       "                                            Citation  \\\n",
       "0  Kokfelt, Ulla (2018): Geochemistry of Stordale...   \n",
       "1  MacDonald, Glen M (2018): Geochemistry of V34_...   \n",
       "2  Borren, Wiebe (2018): Geochemistry of Vasyugan...   \n",
       "\n",
       "                                      DOI  \n",
       "0  https://doi.org/10.1594/PANGAEA.890490  \n",
       "1  https://doi.org/10.1594/PANGAEA.890537  \n",
       "2  https://doi.org/10.1594/PANGAEA.890538  "
      ]
     },
     "execution_count": 73,
     "metadata": {},
     "output_type": "execute_result"
    }
   ],
   "source": [
    "df_all.head(3)"
   ]
  },
  {
   "cell_type": "code",
   "execution_count": 74,
   "metadata": {},
   "outputs": [
    {
     "data": {
      "text/html": [
       "<div>\n",
       "<style scoped>\n",
       "    .dataframe tbody tr th:only-of-type {\n",
       "        vertical-align: middle;\n",
       "    }\n",
       "\n",
       "    .dataframe tbody tr th {\n",
       "        vertical-align: top;\n",
       "    }\n",
       "\n",
       "    .dataframe thead th {\n",
       "        text-align: right;\n",
       "    }\n",
       "</style>\n",
       "<table border=\"1\" class=\"dataframe\">\n",
       "  <thead>\n",
       "    <tr style=\"text-align: right;\">\n",
       "      <th></th>\n",
       "      <th>DEPTH, sediment/rock [m]</th>\n",
       "      <th>AGE [ka BP]</th>\n",
       "      <th>Density, dry bulk [g/cm**3]</th>\n",
       "      <th>Organic matter [%]</th>\n",
       "      <th>Density, organic matter [g/cm**3]</th>\n",
       "      <th>Carbon, total [%]</th>\n",
       "      <th>Nitrogen, total [%]</th>\n",
       "      <th>Density, organic carbon [g/cm**3]</th>\n",
       "      <th>Peat type, col nr:8</th>\n",
       "      <th>Peat type, comment:Loisel et al. 2014</th>\n",
       "      <th>Event</th>\n",
       "      <th>Latitude [deg]</th>\n",
       "      <th>Longitude [deg]</th>\n",
       "      <th>Elevation [m]</th>\n",
       "      <th>Date/Time</th>\n",
       "      <th>DOI</th>\n",
       "      <th>Peat type, col nr:4</th>\n",
       "    </tr>\n",
       "  </thead>\n",
       "  <tbody>\n",
       "    <tr>\n",
       "      <th>0</th>\n",
       "      <td>0.003</td>\n",
       "      <td>0.000</td>\n",
       "      <td>0.097</td>\n",
       "      <td>98.2</td>\n",
       "      <td>0.095</td>\n",
       "      <td>45.8</td>\n",
       "      <td>0.8</td>\n",
       "      <td>0.044</td>\n",
       "      <td>Dicranum elongatum peat</td>\n",
       "      <td>5.0</td>\n",
       "      <td>Stordalen_1</td>\n",
       "      <td>68.35</td>\n",
       "      <td>19.05</td>\n",
       "      <td>350.0</td>\n",
       "      <td>NaT</td>\n",
       "      <td>https://doi.org/10.1594/PANGAEA.890490</td>\n",
       "      <td>NaN</td>\n",
       "    </tr>\n",
       "    <tr>\n",
       "      <th>1</th>\n",
       "      <td>0.007</td>\n",
       "      <td>0.007</td>\n",
       "      <td>0.074</td>\n",
       "      <td>98.3</td>\n",
       "      <td>0.073</td>\n",
       "      <td>45.7</td>\n",
       "      <td>0.7</td>\n",
       "      <td>0.034</td>\n",
       "      <td>Dicranum elongatum peat</td>\n",
       "      <td>5.0</td>\n",
       "      <td>Stordalen_1</td>\n",
       "      <td>68.35</td>\n",
       "      <td>19.05</td>\n",
       "      <td>350.0</td>\n",
       "      <td>NaT</td>\n",
       "      <td>https://doi.org/10.1594/PANGAEA.890490</td>\n",
       "      <td>NaN</td>\n",
       "    </tr>\n",
       "    <tr>\n",
       "      <th>345</th>\n",
       "      <td>10.906</td>\n",
       "      <td>9.672</td>\n",
       "      <td>NaN</td>\n",
       "      <td>NaN</td>\n",
       "      <td>0.105</td>\n",
       "      <td>NaN</td>\n",
       "      <td>NaN</td>\n",
       "      <td>0.051</td>\n",
       "      <td>NaN</td>\n",
       "      <td>1.0</td>\n",
       "      <td>Vasyugan_coreV21</td>\n",
       "      <td>56.83</td>\n",
       "      <td>78.42</td>\n",
       "      <td>NaN</td>\n",
       "      <td>NaT</td>\n",
       "      <td>https://doi.org/10.1594/PANGAEA.890538</td>\n",
       "      <td>Sphagnum</td>\n",
       "    </tr>\n",
       "    <tr>\n",
       "      <th>346</th>\n",
       "      <td>10.993</td>\n",
       "      <td>NaN</td>\n",
       "      <td>NaN</td>\n",
       "      <td>NaN</td>\n",
       "      <td>0.173</td>\n",
       "      <td>NaN</td>\n",
       "      <td>NaN</td>\n",
       "      <td>0.085</td>\n",
       "      <td>NaN</td>\n",
       "      <td>1.0</td>\n",
       "      <td>Vasyugan_coreV21</td>\n",
       "      <td>56.83</td>\n",
       "      <td>78.42</td>\n",
       "      <td>NaN</td>\n",
       "      <td>NaT</td>\n",
       "      <td>https://doi.org/10.1594/PANGAEA.890538</td>\n",
       "      <td>Sphagnum</td>\n",
       "    </tr>\n",
       "  </tbody>\n",
       "</table>\n",
       "</div>"
      ],
      "text/plain": [
       "     DEPTH, sediment/rock [m]  AGE [ka BP]  Density, dry bulk [g/cm**3]  \\\n",
       "0                       0.003        0.000                        0.097   \n",
       "1                       0.007        0.007                        0.074   \n",
       "345                    10.906        9.672                          NaN   \n",
       "346                    10.993          NaN                          NaN   \n",
       "\n",
       "     Organic matter [%]  Density, organic matter [g/cm**3]  Carbon, total [%]  \\\n",
       "0                  98.2                              0.095               45.8   \n",
       "1                  98.3                              0.073               45.7   \n",
       "345                 NaN                              0.105                NaN   \n",
       "346                 NaN                              0.173                NaN   \n",
       "\n",
       "     Nitrogen, total [%]  Density, organic carbon [g/cm**3]  \\\n",
       "0                    0.8                              0.044   \n",
       "1                    0.7                              0.034   \n",
       "345                  NaN                              0.051   \n",
       "346                  NaN                              0.085   \n",
       "\n",
       "         Peat type, col nr:8  Peat type, comment:Loisel et al. 2014  \\\n",
       "0    Dicranum elongatum peat                                    5.0   \n",
       "1    Dicranum elongatum peat                                    5.0   \n",
       "345                      NaN                                    1.0   \n",
       "346                      NaN                                    1.0   \n",
       "\n",
       "                Event  Latitude [deg]  Longitude [deg]  Elevation [m]  \\\n",
       "0         Stordalen_1           68.35            19.05          350.0   \n",
       "1         Stordalen_1           68.35            19.05          350.0   \n",
       "345  Vasyugan_coreV21           56.83            78.42            NaN   \n",
       "346  Vasyugan_coreV21           56.83            78.42            NaN   \n",
       "\n",
       "    Date/Time                                     DOI Peat type, col nr:4  \n",
       "0         NaT  https://doi.org/10.1594/PANGAEA.890490                 NaN  \n",
       "1         NaT  https://doi.org/10.1594/PANGAEA.890490                 NaN  \n",
       "345       NaT  https://doi.org/10.1594/PANGAEA.890538            Sphagnum  \n",
       "346       NaT  https://doi.org/10.1594/PANGAEA.890538            Sphagnum  "
      ]
     },
     "execution_count": 74,
     "metadata": {},
     "output_type": "execute_result"
    }
   ],
   "source": [
    "### data table\n",
    "pd.concat([data_all.head(2),data_all.tail(2)])"
   ]
  },
  {
   "cell_type": "markdown",
   "metadata": {},
   "source": [
    "#### Check header and merge columns "
   ]
  },
  {
   "cell_type": "code",
   "execution_count": 75,
   "metadata": {},
   "outputs": [
    {
     "data": {
      "text/plain": [
       "Index(['DEPTH, sediment/rock [m]', 'AGE [ka BP]',\n",
       "       'Density, dry bulk [g/cm**3]', 'Organic matter [%]',\n",
       "       'Density, organic matter [g/cm**3]', 'Carbon, total [%]',\n",
       "       'Nitrogen, total [%]', 'Density, organic carbon [g/cm**3]',\n",
       "       'Peat type, col nr:8', 'Peat type, comment:Loisel et al. 2014', 'Event',\n",
       "       'Latitude [deg]', 'Longitude [deg]', 'Elevation [m]', 'Date/Time',\n",
       "       'DOI', 'Peat type, col nr:4'],\n",
       "      dtype='object')"
      ]
     },
     "execution_count": 75,
     "metadata": {},
     "output_type": "execute_result"
    }
   ],
   "source": [
    "### show all header names\n",
    "data_all.columns"
   ]
  },
  {
   "cell_type": "code",
   "execution_count": 76,
   "metadata": {},
   "outputs": [],
   "source": [
    "### define parameter/header/column to be kept a.k.a. keep_param\n",
    "keep_param = 'Peat type, col nr:6'\n",
    "\n",
    "### copy value in keep column, if keep value is nan\n",
    "merge_param = 'Peat type, col nr:8'\n",
    "\n",
    "### if condition is needed because example consists of first 3 datasets\n",
    "if merge_param in data_all.columns and keep_param in data_all.columns:\n",
    "    ### merge merge_param into keep_param\n",
    "    mask = data_all[keep_param].isna() & data_all[merge_param].notna()\n",
    "    data_all.loc[mask, keep_param] = data_all.loc[mask, merge_param]\n",
    "    \n",
    "    ### remove merge_param\n",
    "    data_all = data_all.drop(columns=[merge_param])"
   ]
  },
  {
   "cell_type": "code",
   "execution_count": 77,
   "metadata": {},
   "outputs": [],
   "source": [
    "data_all.rename(columns={'Peat type, col nr:6':'Peat type'}, inplace=True)"
   ]
  },
  {
   "cell_type": "code",
   "execution_count": 78,
   "metadata": {},
   "outputs": [
    {
     "data": {
      "text/html": [
       "<div>\n",
       "<style scoped>\n",
       "    .dataframe tbody tr th:only-of-type {\n",
       "        vertical-align: middle;\n",
       "    }\n",
       "\n",
       "    .dataframe tbody tr th {\n",
       "        vertical-align: top;\n",
       "    }\n",
       "\n",
       "    .dataframe thead th {\n",
       "        text-align: right;\n",
       "    }\n",
       "</style>\n",
       "<table border=\"1\" class=\"dataframe\">\n",
       "  <thead>\n",
       "    <tr style=\"text-align: right;\">\n",
       "      <th></th>\n",
       "      <th>DEPTH, sediment/rock [m]</th>\n",
       "      <th>AGE [ka BP]</th>\n",
       "      <th>Density, dry bulk [g/cm**3]</th>\n",
       "      <th>Organic matter [%]</th>\n",
       "      <th>Density, organic matter [g/cm**3]</th>\n",
       "      <th>Carbon, total [%]</th>\n",
       "      <th>Nitrogen, total [%]</th>\n",
       "      <th>Density, organic carbon [g/cm**3]</th>\n",
       "      <th>Peat type, col nr:8</th>\n",
       "      <th>Peat type, comment:Loisel et al. 2014</th>\n",
       "      <th>Event</th>\n",
       "      <th>Latitude [deg]</th>\n",
       "      <th>Longitude [deg]</th>\n",
       "      <th>Elevation [m]</th>\n",
       "      <th>Date/Time</th>\n",
       "      <th>DOI</th>\n",
       "      <th>Peat type, col nr:4</th>\n",
       "    </tr>\n",
       "  </thead>\n",
       "  <tbody>\n",
       "    <tr>\n",
       "      <th>0</th>\n",
       "      <td>0.003</td>\n",
       "      <td>0.000</td>\n",
       "      <td>0.097</td>\n",
       "      <td>98.2</td>\n",
       "      <td>0.095</td>\n",
       "      <td>45.8</td>\n",
       "      <td>0.8</td>\n",
       "      <td>0.044</td>\n",
       "      <td>Dicranum elongatum peat</td>\n",
       "      <td>5.0</td>\n",
       "      <td>Stordalen_1</td>\n",
       "      <td>68.35</td>\n",
       "      <td>19.05</td>\n",
       "      <td>350.0</td>\n",
       "      <td>NaT</td>\n",
       "      <td>https://doi.org/10.1594/PANGAEA.890490</td>\n",
       "      <td>NaN</td>\n",
       "    </tr>\n",
       "    <tr>\n",
       "      <th>1</th>\n",
       "      <td>0.007</td>\n",
       "      <td>0.007</td>\n",
       "      <td>0.074</td>\n",
       "      <td>98.3</td>\n",
       "      <td>0.073</td>\n",
       "      <td>45.7</td>\n",
       "      <td>0.7</td>\n",
       "      <td>0.034</td>\n",
       "      <td>Dicranum elongatum peat</td>\n",
       "      <td>5.0</td>\n",
       "      <td>Stordalen_1</td>\n",
       "      <td>68.35</td>\n",
       "      <td>19.05</td>\n",
       "      <td>350.0</td>\n",
       "      <td>NaT</td>\n",
       "      <td>https://doi.org/10.1594/PANGAEA.890490</td>\n",
       "      <td>NaN</td>\n",
       "    </tr>\n",
       "    <tr>\n",
       "      <th>345</th>\n",
       "      <td>10.906</td>\n",
       "      <td>9.672</td>\n",
       "      <td>NaN</td>\n",
       "      <td>NaN</td>\n",
       "      <td>0.105</td>\n",
       "      <td>NaN</td>\n",
       "      <td>NaN</td>\n",
       "      <td>0.051</td>\n",
       "      <td>NaN</td>\n",
       "      <td>1.0</td>\n",
       "      <td>Vasyugan_coreV21</td>\n",
       "      <td>56.83</td>\n",
       "      <td>78.42</td>\n",
       "      <td>NaN</td>\n",
       "      <td>NaT</td>\n",
       "      <td>https://doi.org/10.1594/PANGAEA.890538</td>\n",
       "      <td>Sphagnum</td>\n",
       "    </tr>\n",
       "    <tr>\n",
       "      <th>346</th>\n",
       "      <td>10.993</td>\n",
       "      <td>NaN</td>\n",
       "      <td>NaN</td>\n",
       "      <td>NaN</td>\n",
       "      <td>0.173</td>\n",
       "      <td>NaN</td>\n",
       "      <td>NaN</td>\n",
       "      <td>0.085</td>\n",
       "      <td>NaN</td>\n",
       "      <td>1.0</td>\n",
       "      <td>Vasyugan_coreV21</td>\n",
       "      <td>56.83</td>\n",
       "      <td>78.42</td>\n",
       "      <td>NaN</td>\n",
       "      <td>NaT</td>\n",
       "      <td>https://doi.org/10.1594/PANGAEA.890538</td>\n",
       "      <td>Sphagnum</td>\n",
       "    </tr>\n",
       "  </tbody>\n",
       "</table>\n",
       "</div>"
      ],
      "text/plain": [
       "     DEPTH, sediment/rock [m]  AGE [ka BP]  Density, dry bulk [g/cm**3]  \\\n",
       "0                       0.003        0.000                        0.097   \n",
       "1                       0.007        0.007                        0.074   \n",
       "345                    10.906        9.672                          NaN   \n",
       "346                    10.993          NaN                          NaN   \n",
       "\n",
       "     Organic matter [%]  Density, organic matter [g/cm**3]  Carbon, total [%]  \\\n",
       "0                  98.2                              0.095               45.8   \n",
       "1                  98.3                              0.073               45.7   \n",
       "345                 NaN                              0.105                NaN   \n",
       "346                 NaN                              0.173                NaN   \n",
       "\n",
       "     Nitrogen, total [%]  Density, organic carbon [g/cm**3]  \\\n",
       "0                    0.8                              0.044   \n",
       "1                    0.7                              0.034   \n",
       "345                  NaN                              0.051   \n",
       "346                  NaN                              0.085   \n",
       "\n",
       "         Peat type, col nr:8  Peat type, comment:Loisel et al. 2014  \\\n",
       "0    Dicranum elongatum peat                                    5.0   \n",
       "1    Dicranum elongatum peat                                    5.0   \n",
       "345                      NaN                                    1.0   \n",
       "346                      NaN                                    1.0   \n",
       "\n",
       "                Event  Latitude [deg]  Longitude [deg]  Elevation [m]  \\\n",
       "0         Stordalen_1           68.35            19.05          350.0   \n",
       "1         Stordalen_1           68.35            19.05          350.0   \n",
       "345  Vasyugan_coreV21           56.83            78.42            NaN   \n",
       "346  Vasyugan_coreV21           56.83            78.42            NaN   \n",
       "\n",
       "    Date/Time                                     DOI Peat type, col nr:4  \n",
       "0         NaT  https://doi.org/10.1594/PANGAEA.890490                 NaN  \n",
       "1         NaT  https://doi.org/10.1594/PANGAEA.890490                 NaN  \n",
       "345       NaT  https://doi.org/10.1594/PANGAEA.890538            Sphagnum  \n",
       "346       NaT  https://doi.org/10.1594/PANGAEA.890538            Sphagnum  "
      ]
     },
     "execution_count": 78,
     "metadata": {},
     "output_type": "execute_result"
    }
   ],
   "source": [
    "pd.concat( [data_all.head(2),data_all.tail(2)] )"
   ]
  },
  {
   "cell_type": "code",
   "execution_count": 79,
   "metadata": {},
   "outputs": [
    {
     "data": {
      "text/plain": [
       "Index(['DEPTH, sediment/rock [m]', 'AGE [ka BP]',\n",
       "       'Density, dry bulk [g/cm**3]', 'Organic matter [%]',\n",
       "       'Density, organic matter [g/cm**3]', 'Carbon, total [%]',\n",
       "       'Nitrogen, total [%]', 'Density, organic carbon [g/cm**3]',\n",
       "       'Peat type, col nr:8', 'Peat type, comment:Loisel et al. 2014', 'Event',\n",
       "       'Latitude [deg]', 'Longitude [deg]', 'Elevation [m]', 'Date/Time',\n",
       "       'DOI', 'Peat type, col nr:4'],\n",
       "      dtype='object')"
      ]
     },
     "execution_count": 79,
     "metadata": {},
     "output_type": "execute_result"
    }
   ],
   "source": [
    "data_all.columns"
   ]
  },
  {
   "cell_type": "code",
   "execution_count": 81,
   "metadata": {},
   "outputs": [],
   "source": [
    "data_all = data_all[['DOI','Event', 'Latitude [deg]', 'Longitude [deg]', 'Elevation [m]',\n",
    "                     'DEPTH, sediment/rock [m]', 'AGE [ka BP]', 'Density, dry bulk [g/cm**3]',\n",
    "                     'Peat type, col nr:4', 'Peat type, col nr:8', 'Peat type, comment:Loisel et al. 2014',\n",
    "                     'Organic matter [%]','Density, organic matter [g/cm**3]','Density, organic carbon [g/cm**3]',\n",
    "                     'Carbon, total [%]','Nitrogen, total [%]']]\n"
   ]
  },
  {
   "cell_type": "code",
   "execution_count": 82,
   "metadata": {},
   "outputs": [
    {
     "data": {
      "text/html": [
       "<div>\n",
       "<style scoped>\n",
       "    .dataframe tbody tr th:only-of-type {\n",
       "        vertical-align: middle;\n",
       "    }\n",
       "\n",
       "    .dataframe tbody tr th {\n",
       "        vertical-align: top;\n",
       "    }\n",
       "\n",
       "    .dataframe thead th {\n",
       "        text-align: right;\n",
       "    }\n",
       "</style>\n",
       "<table border=\"1\" class=\"dataframe\">\n",
       "  <thead>\n",
       "    <tr style=\"text-align: right;\">\n",
       "      <th></th>\n",
       "      <th>DOI</th>\n",
       "      <th>Event</th>\n",
       "      <th>Latitude [deg]</th>\n",
       "      <th>Longitude [deg]</th>\n",
       "      <th>Elevation [m]</th>\n",
       "      <th>DEPTH, sediment/rock [m]</th>\n",
       "      <th>AGE [ka BP]</th>\n",
       "      <th>Density, dry bulk [g/cm**3]</th>\n",
       "      <th>Peat type, col nr:4</th>\n",
       "      <th>Peat type, col nr:8</th>\n",
       "      <th>Peat type, comment:Loisel et al. 2014</th>\n",
       "      <th>Organic matter [%]</th>\n",
       "      <th>Density, organic matter [g/cm**3]</th>\n",
       "      <th>Density, organic carbon [g/cm**3]</th>\n",
       "      <th>Carbon, total [%]</th>\n",
       "      <th>Nitrogen, total [%]</th>\n",
       "    </tr>\n",
       "  </thead>\n",
       "  <tbody>\n",
       "    <tr>\n",
       "      <th>0</th>\n",
       "      <td>https://doi.org/10.1594/PANGAEA.890490</td>\n",
       "      <td>Stordalen_1</td>\n",
       "      <td>68.35</td>\n",
       "      <td>19.05</td>\n",
       "      <td>350.0</td>\n",
       "      <td>0.003</td>\n",
       "      <td>0.000</td>\n",
       "      <td>0.097</td>\n",
       "      <td>NaN</td>\n",
       "      <td>Dicranum elongatum peat</td>\n",
       "      <td>5.0</td>\n",
       "      <td>98.2</td>\n",
       "      <td>0.095</td>\n",
       "      <td>0.044</td>\n",
       "      <td>45.8</td>\n",
       "      <td>0.8</td>\n",
       "    </tr>\n",
       "    <tr>\n",
       "      <th>1</th>\n",
       "      <td>https://doi.org/10.1594/PANGAEA.890490</td>\n",
       "      <td>Stordalen_1</td>\n",
       "      <td>68.35</td>\n",
       "      <td>19.05</td>\n",
       "      <td>350.0</td>\n",
       "      <td>0.007</td>\n",
       "      <td>0.007</td>\n",
       "      <td>0.074</td>\n",
       "      <td>NaN</td>\n",
       "      <td>Dicranum elongatum peat</td>\n",
       "      <td>5.0</td>\n",
       "      <td>98.3</td>\n",
       "      <td>0.073</td>\n",
       "      <td>0.034</td>\n",
       "      <td>45.7</td>\n",
       "      <td>0.7</td>\n",
       "    </tr>\n",
       "    <tr>\n",
       "      <th>345</th>\n",
       "      <td>https://doi.org/10.1594/PANGAEA.890538</td>\n",
       "      <td>Vasyugan_coreV21</td>\n",
       "      <td>56.83</td>\n",
       "      <td>78.42</td>\n",
       "      <td>NaN</td>\n",
       "      <td>10.906</td>\n",
       "      <td>9.672</td>\n",
       "      <td>NaN</td>\n",
       "      <td>Sphagnum</td>\n",
       "      <td>NaN</td>\n",
       "      <td>1.0</td>\n",
       "      <td>NaN</td>\n",
       "      <td>0.105</td>\n",
       "      <td>0.051</td>\n",
       "      <td>NaN</td>\n",
       "      <td>NaN</td>\n",
       "    </tr>\n",
       "    <tr>\n",
       "      <th>346</th>\n",
       "      <td>https://doi.org/10.1594/PANGAEA.890538</td>\n",
       "      <td>Vasyugan_coreV21</td>\n",
       "      <td>56.83</td>\n",
       "      <td>78.42</td>\n",
       "      <td>NaN</td>\n",
       "      <td>10.993</td>\n",
       "      <td>NaN</td>\n",
       "      <td>NaN</td>\n",
       "      <td>Sphagnum</td>\n",
       "      <td>NaN</td>\n",
       "      <td>1.0</td>\n",
       "      <td>NaN</td>\n",
       "      <td>0.173</td>\n",
       "      <td>0.085</td>\n",
       "      <td>NaN</td>\n",
       "      <td>NaN</td>\n",
       "    </tr>\n",
       "  </tbody>\n",
       "</table>\n",
       "</div>"
      ],
      "text/plain": [
       "                                        DOI             Event  Latitude [deg]  \\\n",
       "0    https://doi.org/10.1594/PANGAEA.890490       Stordalen_1           68.35   \n",
       "1    https://doi.org/10.1594/PANGAEA.890490       Stordalen_1           68.35   \n",
       "345  https://doi.org/10.1594/PANGAEA.890538  Vasyugan_coreV21           56.83   \n",
       "346  https://doi.org/10.1594/PANGAEA.890538  Vasyugan_coreV21           56.83   \n",
       "\n",
       "     Longitude [deg]  Elevation [m]  DEPTH, sediment/rock [m]  AGE [ka BP]  \\\n",
       "0              19.05          350.0                     0.003        0.000   \n",
       "1              19.05          350.0                     0.007        0.007   \n",
       "345            78.42            NaN                    10.906        9.672   \n",
       "346            78.42            NaN                    10.993          NaN   \n",
       "\n",
       "     Density, dry bulk [g/cm**3] Peat type, col nr:4      Peat type, col nr:8  \\\n",
       "0                          0.097                 NaN  Dicranum elongatum peat   \n",
       "1                          0.074                 NaN  Dicranum elongatum peat   \n",
       "345                          NaN            Sphagnum                      NaN   \n",
       "346                          NaN            Sphagnum                      NaN   \n",
       "\n",
       "     Peat type, comment:Loisel et al. 2014  Organic matter [%]  \\\n",
       "0                                      5.0                98.2   \n",
       "1                                      5.0                98.3   \n",
       "345                                    1.0                 NaN   \n",
       "346                                    1.0                 NaN   \n",
       "\n",
       "     Density, organic matter [g/cm**3]  Density, organic carbon [g/cm**3]  \\\n",
       "0                                0.095                              0.044   \n",
       "1                                0.073                              0.034   \n",
       "345                              0.105                              0.051   \n",
       "346                              0.173                              0.085   \n",
       "\n",
       "     Carbon, total [%]  Nitrogen, total [%]  \n",
       "0                 45.8                  0.8  \n",
       "1                 45.7                  0.7  \n",
       "345                NaN                  NaN  \n",
       "346                NaN                  NaN  "
      ]
     },
     "execution_count": 82,
     "metadata": {},
     "output_type": "execute_result"
    }
   ],
   "source": [
    "pd.concat([data_all.head(2),data_all.tail(2)])"
   ]
  },
  {
   "cell_type": "markdown",
   "metadata": {},
   "source": [
    "#### Save dataframe as file"
   ]
  },
  {
   "cell_type": "code",
   "execution_count": 83,
   "metadata": {
    "tags": []
   },
   "outputs": [],
   "source": [
    "### Create data directory\n",
    "data_directory = \"PANGAEA_data\"\n",
    "### Check if it already exists before creating it\n",
    "if not os.path.isdir(data_directory):\n",
    "    os.mkdir(data_directory)\n",
    "    \n",
    "### Save as tab delimited text file\n",
    "\n",
    "## set filename\n",
    "filename1 = 'PAGES_C-PEAT_Geochemistry_metadata.txt'\n",
    "filename2 = 'PAGES_C-PEAT_Geochemistry_data.txt'\n",
    "\n",
    "df_all.to_csv(os.path.join(data_directory, filename1), sep='\\t', encoding='utf-8', index=False)\n",
    "data_all.to_csv(os.path.join(data_directory, filename2), sep='\\t', encoding='utf-8', index=False)"
   ]
  },
  {
   "cell_type": "code",
   "execution_count": null,
   "metadata": {},
   "outputs": [],
   "source": []
  }
 ],
 "metadata": {
  "kernelspec": {
   "display_name": "Python [conda env:pangaeapy]",
   "language": "python",
   "name": "conda-env-pangaeapy-py"
  },
  "language_info": {
   "codemirror_mode": {
    "name": "ipython",
    "version": 3
   },
   "file_extension": ".py",
   "mimetype": "text/x-python",
   "name": "python",
   "nbconvert_exporter": "python",
   "pygments_lexer": "ipython3",
   "version": "3.13.1"
  }
 },
 "nbformat": 4,
 "nbformat_minor": 4
}
